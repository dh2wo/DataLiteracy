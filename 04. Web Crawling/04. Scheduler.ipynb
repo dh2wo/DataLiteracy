{
 "cells": [
  {
   "cell_type": "markdown",
   "id": "dee9620a",
   "metadata": {},
   "source": [
    "# Schedule 모듈"
   ]
  },
  {
   "cell_type": "code",
   "execution_count": null,
   "id": "c57121eb",
   "metadata": {},
   "outputs": [],
   "source": [
    "# !pip install schedule"
   ]
  },
  {
   "cell_type": "markdown",
   "id": "fb0ca4a2",
   "metadata": {},
   "source": [
    "## schedule 모듈 활용\n",
    "- while 반복문을 활용하여 꾸준히 스케쥴을 유지\n",
    "- 특정 조건에 만족하는 스케쥴이 있을 때마다 해당 함수 실행           \n",
    "- schedule.every(**20**).minute**s**.do(job): 매 20분 마다 실행, job: 스케쥴에 의해 실행될 내용을 정의해 놓은 함수의 이름\n",
    "- schedule.every().hour.do(job): 매 시간 실행\n",
    "- schedule.every().day.at('10:30'): 매일 10시 30분에 실행\n",
    "- schedule.every().monday.do(job): 매주 월요일 실행\n",
    "- schedule.every().wednesday.at('13:15').do(job): 매주 수요일 13시 15분에 실행"
   ]
  },
  {
   "cell_type": "markdown",
   "id": "1b5de8bf",
   "metadata": {},
   "source": [
    "## 시간별 스케쥴 잡 실행하기"
   ]
  },
  {
   "cell_type": "code",
   "execution_count": null,
   "id": "a2139b4b",
   "metadata": {},
   "outputs": [],
   "source": [
    "import schedule\n",
    "import time\n",
    "\n",
    "def job():\n",
    "    print(time.time())\n",
    "    \n",
    "schedule.every(10).seconds.do(job)\n",
    "\n",
    "while True:\n",
    "    schedule.run_pending()"
   ]
  },
  {
   "cell_type": "code",
   "execution_count": null,
   "id": "f6314739",
   "metadata": {},
   "outputs": [],
   "source": [
    "import schedule\n",
    "import time\n",
    "\n",
    "def job():\n",
    "    print(\"I'm working\")\n",
    "    \n",
    "# 매 3초/분/시간/일/주 마다 job 함수 실행\n",
    "schedule.every(3).seconds.do(job)\n",
    "schedule.every(3).minutes.do(job)\n",
    "schedule.every(3).hours.do(job)\n",
    "schedule.every(3).days.do(job)\n",
    "schedule.every(3).weeks.do(job)\n",
    "\n",
    "# 매 분 23초마다 job 함수를 실행\n",
    "schedule.every().minute.at(':23').do(job)\n",
    "\n",
    "# 매 시 42분 마다 job 함수를 실행\n",
    "# 매개변수가 들어가지 않아서 단수형 시간 hour을 받는다\n",
    "schedule.every().hour.at(':42').do(job) \n",
    "\n",
    "# 매 5시간째 20분 30초마다 job함수 실행 \n",
    "# 만약 현재 시간이 02:00분이면 첫 실행은 06:20:30에 실행\n",
    "schedule.every(5).hours.at('20:30').do(job)\n",
    "\n",
    "# 지정된 요일 및 시간에 job 함수 실행\n",
    "schedule.every().monday.do(job)\n",
    "schedule.every().monday.at('13:15').do(job) # 매일 월요일 13:15 실행\n",
    "\n",
    "### 월을 의미하는 month 속성은 없다. ###\n",
    "\n",
    "while True:\n",
    "    schedule.run_pending()"
   ]
  },
  {
   "cell_type": "markdown",
   "id": "bc9e4d79",
   "metadata": {},
   "source": [
    "### 매월 특정일 특정 시간에 job 실행"
   ]
  },
  {
   "cell_type": "code",
   "execution_count": null,
   "id": "3673c949",
   "metadata": {},
   "outputs": [],
   "source": [
    "# 매월 1일 02:00에 job 실행\n",
    "from datetime import date\n",
    "\n",
    "def job():\n",
    "    if date.today().day != 1:\n",
    "        return\n",
    "    # 실제 job 실행 코드 작성\n",
    "\n",
    "schedule.every().day.at('02:00').do(job)"
   ]
  },
  {
   "cell_type": "markdown",
   "id": "d539bd4f",
   "metadata": {},
   "source": [
    "## job 함수에 인수 값 전달"
   ]
  },
  {
   "cell_type": "code",
   "execution_count": null,
   "id": "1164df09",
   "metadata": {},
   "outputs": [],
   "source": [
    "import schedule\n",
    "\n",
    "def greet(name):\n",
    "    print('Hello ', name)\n",
    "    \n",
    "schedule.every(2).seconds.do(greet, name = 'Alice')\n",
    "\n",
    "while True:\n",
    "    schedule.run_pending()"
   ]
  },
  {
   "cell_type": "markdown",
   "id": "b68379b5",
   "metadata": {},
   "source": [
    "## job 실행 취소하기"
   ]
  },
  {
   "cell_type": "code",
   "execution_count": null,
   "id": "baf701a8",
   "metadata": {},
   "outputs": [],
   "source": [
    "import schedule\n",
    "import time\n",
    "\n",
    "def message1():\n",
    "    print('스케쥴1 실행')\n",
    "    \n",
    "def message2():\n",
    "    print('스케쥴2 실행')\n",
    "\n",
    "job1 = schedule.every(2).seconds.do(message1)\n",
    "job2 = schedule.every(4).seconds.do(message2)\n",
    "\n",
    "count = 0\n",
    "while True:\n",
    "    schedule.run_pending()\n",
    "    time.sleep(1)\n",
    "    \n",
    "    count += 1\n",
    "    \n",
    "    if count > 5:\n",
    "        schedule.cancel_job(job1)"
   ]
  },
  {
   "cell_type": "markdown",
   "id": "715642fa",
   "metadata": {},
   "source": [
    "## 지정된 시간까지 job 실행"
   ]
  },
  {
   "cell_type": "code",
   "execution_count": null,
   "id": "044fb8e3",
   "metadata": {},
   "outputs": [],
   "source": [
    "import schedule\n",
    "from datetime import datetime, time\n",
    "\n",
    "def job():\n",
    "    print(\"I'm working\")\n",
    "\n",
    "# 오늘 18:30까지 job 실행\n",
    "schedule.every(1).hours.until('18:30').do(job)\n",
    "\n",
    "# 2023년 5월 17일 18:30까지 job 실행\n",
    "schedule.every(1).hours.until('2023-05-17 18:30').do(job)\n",
    "\n",
    "# 오늘 11시 33분 42초까지 job 실행\n",
    "schedule.every.hours.until(time(11,33,42)).do(job)\n",
    "\n",
    "# 2023년 5월 17일 11시 33분 42초까지 job 실행\n",
    "schedule.every.hours.until(time(2023,5,17,11,33,42)).do(job)"
   ]
  }
 ],
 "metadata": {
  "kernelspec": {
   "display_name": "Python 3 (ipykernel)",
   "language": "python",
   "name": "python3"
  },
  "language_info": {
   "codemirror_mode": {
    "name": "ipython",
    "version": 3
   },
   "file_extension": ".py",
   "mimetype": "text/x-python",
   "name": "python",
   "nbconvert_exporter": "python",
   "pygments_lexer": "ipython3",
   "version": "3.9.13"
  },
  "toc": {
   "base_numbering": 1,
   "nav_menu": {},
   "number_sections": true,
   "sideBar": true,
   "skip_h1_title": false,
   "title_cell": "Table of Contents",
   "title_sidebar": "Contents",
   "toc_cell": false,
   "toc_position": {
    "height": "calc(100% - 180px)",
    "left": "10px",
    "top": "150px",
    "width": "261.625px"
   },
   "toc_section_display": true,
   "toc_window_display": true
  }
 },
 "nbformat": 4,
 "nbformat_minor": 5
}
