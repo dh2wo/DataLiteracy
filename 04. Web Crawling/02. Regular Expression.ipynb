{
 "cells": [
  {
   "cell_type": "markdown",
   "id": "19778736",
   "metadata": {},
   "source": [
    "# 정규식 사용 vs 비사용\n",
    "- 주민등록번호를 포함하고 있는 문자열에서 주민등록번호 뒷자리를 '*' 문자로 변경"
   ]
  },
  {
   "cell_type": "code",
   "execution_count": 1,
   "id": "72ad64c3",
   "metadata": {
    "scrolled": true
   },
   "outputs": [
    {
     "name": "stdout",
     "output_type": "stream",
     "text": [
      "\n",
      "park 800904-*******\n",
      "kim 841130-*******\n",
      "\n"
     ]
    }
   ],
   "source": [
    "data = \"\"\"\n",
    "park 800904-1234567\n",
    "kim 841130-1023451\n",
    "\"\"\"\n",
    "\n",
    "result = []\n",
    "for line in data.split('\\n'):\n",
    "    word_result=[]\n",
    "    for word in line.split():\n",
    "        if len(word) == 14 and word[:6].isdigit() and word[7:].isdigit():\n",
    "            word = word[:6] + '-' + '*******'\n",
    "        word_result.append(word)\n",
    "    result.append(' '.join(word_result))\n",
    "print('\\n'.join(result))"
   ]
  },
  {
   "cell_type": "markdown",
   "id": "18d8b5b8",
   "metadata": {},
   "source": [
    "- [xy] : 문자 선택을 표현하며 x 와 y 중에 하나를 의미한다.\n",
    " \n",
    "- [^xy]: not 을 표현하며  x 및 y 를 제외한 문자를 의미한다.\n",
    " \n",
    "- [x-z]: range를 표현하며 x ~ z 사이의 문자를 의미한다. \n",
    "\n",
    "- \\^   : escape 를 표현하며 ^ 를 문자로 사용함을 의미한다.\n",
    " \n",
    "- \\b: word boundary를 표현하며 문자와 공백사이의 문자를 의미한다.\n",
    " \n",
    "- \\B: non word boundary를 표현하며 문자와 공백사이가 아닌 문자를 의미한다.\n",
    " \n",
    "- \\d: digit 를 표현하며 숫자를 의미한다. \n",
    "\n",
    "- \\D: non digit 를 표현하며 숫자가 아닌 것을 의미한다. \n",
    " \n",
    "- \\s: space 를 표현하며 공백 문자를 의미한다. \n",
    " \n",
    "- \\S: non space를 표현하며 공백 문자가 아닌 것을 의미한다.\n",
    " \n",
    "- \\t: tab 을 표현하며 탭 문자를 의미한다.\n",
    " \n",
    "- \\v: vertical tab을 표현하며 수직 탭(?) 문자를 의미한다.\n",
    " \n",
    "- \\w: word 를 표현하며 알파벳 + 숫자 + _ 중의 한 문자임을 의미한다. \n",
    " \n",
    "- \\W: non word를 표현하며 알파벳 + 숫자 + _ 가 아닌 문자를 의미한다. "
   ]
  },
  {
   "cell_type": "code",
   "execution_count": 2,
   "id": "a2fb610f",
   "metadata": {},
   "outputs": [
    {
     "name": "stdout",
     "output_type": "stream",
     "text": [
      "\n",
      "park 800904-*******\n",
      "kim 841130-*******\n",
      "\n"
     ]
    }
   ],
   "source": [
    "import re\n",
    "#)은 묶음, []는 문자, {}는 갯수\n",
    "\n",
    "data = \"\"\"\n",
    "park 800904-1234567\n",
    "kim 841130-1023451\n",
    "\"\"\"\n",
    "\n",
    "pat = re.compile('(\\d{6})[-](\\d{7})')\n",
    "print(pat.sub(r'\\1-*******',data)) #러스트링 형태가 뭐지 \\1 == 패턴에 들어가있는 첫번째 그룹을 가져와라"
   ]
  },
  {
   "cell_type": "markdown",
   "id": "e2df19fd",
   "metadata": {},
   "source": [
    "- 파이썬에서 정규 표현식 사용\n",
    "    - re 모듈 사용\n",
    "    - re 모듈의 compile 함수를 이용하여 정규 표현식을 컴파일 한다\n",
    "    \n",
    "- 정규식을 사용한 문자열 검색\n",
    "    - 컴파일된 객체를 이용하여 다음의 함수를 이용하여 문자열 검색을 할 수 있다.\n",
    "    - match() : 문자열의 처음 시작부터 검색하여 일치하지 않는 부분이 나올 때까지 찾는다.\n",
    "    - search() : 문자열 전체를 검색하여 처음으로 매치되는 문자열을 찾는다\n",
    "    - findall() : 정규식과 매치되는 모든 문자열을 찾아 리스트로 반환한다.\n",
    "    - finditer() : 정규식과 매치되는 모든 문자열을 반복 가능한 객체로 반환한다.\n",
    "    \n",
    "- 컴파일과 매치의 동시수행\n",
    "    - m  =re.match('[a-z]+','python')"
   ]
  },
  {
   "cell_type": "markdown",
   "id": "1d1142e2",
   "metadata": {},
   "source": [
    "# 문자열 검색"
   ]
  },
  {
   "cell_type": "code",
   "execution_count": 3,
   "id": "68322b34",
   "metadata": {},
   "outputs": [],
   "source": [
    "import re\n",
    "\n",
    "# 알파벳 소문자가 1개 이상이면 매치\n",
    "p = re.compile('[a-z]+')"
   ]
  },
  {
   "cell_type": "markdown",
   "id": "c6676a43",
   "metadata": {},
   "source": [
    "## match()\n",
    "- 문자열의 처음부터 정규식과 매치되는지 조사"
   ]
  },
  {
   "cell_type": "code",
   "execution_count": 4,
   "id": "afd443fb",
   "metadata": {},
   "outputs": [
    {
     "name": "stdout",
     "output_type": "stream",
     "text": [
      "<re.Match object; span=(0, 6), match='python'>\n",
      "<re.Match object; span=(0, 1), match='p'>\n",
      "None\n",
      "Match Found: python\n"
     ]
    }
   ],
   "source": [
    "m1 = p.match('python')\n",
    "print(m1)\n",
    "\n",
    "m2 = p.match('pYthon')\n",
    "print(m2)\n",
    "\n",
    "m3 = p.match('3 python')\n",
    "print(m3)\n",
    "\n",
    "m = p.match('python')\n",
    "\n",
    "if m:\n",
    "    print('Match Found:',m.group()) # 매치된 문자열을 반환\n",
    "else:\n",
    "    printnt('Not Match')"
   ]
  },
  {
   "cell_type": "markdown",
   "id": "ed0361ae",
   "metadata": {},
   "source": [
    "## search()\n",
    "- 문자열 전체를 검색하여 처음으로 매치되는 문자열을 찾는다."
   ]
  },
  {
   "cell_type": "code",
   "execution_count": 5,
   "id": "fac44835",
   "metadata": {
    "scrolled": true
   },
   "outputs": [
    {
     "name": "stdout",
     "output_type": "stream",
     "text": [
      "<re.Match object; span=(2, 8), match='python'>\n"
     ]
    }
   ],
   "source": [
    "m = p.search('3 python')\n",
    "print(m)"
   ]
  },
  {
   "cell_type": "markdown",
   "id": "414d7e3a",
   "metadata": {},
   "source": [
    "## [문제]전화번호 추출하기\n",
    "- 다음의 전화번호 데이터에서 전화번호만 추출하는 정규 표현식을 작성하시오.\n",
    "- phone = ['홍길동:010-1111-111','우리집:02-555-5555']\n",
    "- 참고: \\d,{n}"
   ]
  },
  {
   "cell_type": "code",
   "execution_count": 6,
   "id": "ec8589df",
   "metadata": {},
   "outputs": [
    {
     "name": "stdout",
     "output_type": "stream",
     "text": [
      "010-1111-1111\n",
      "02-555-5555\n"
     ]
    }
   ],
   "source": [
    "phone = ['홍길동:010-1111-1111','우리집:02-555-5555']\n",
    "p = re.compile('(\\d{2,3})[-]\\d{3,4}[-]\\d{4}')\n",
    "for i in phone:\n",
    "    print(p.search(i).group())"
   ]
  },
  {
   "cell_type": "markdown",
   "id": "e3198a13",
   "metadata": {},
   "source": [
    "## findall()\n",
    "- 정규식과 매치되는 모든 문자열을 찾아 리스트로 반환한다."
   ]
  },
  {
   "cell_type": "code",
   "execution_count": 7,
   "id": "2f515be8",
   "metadata": {},
   "outputs": [
    {
     "name": "stdout",
     "output_type": "stream",
     "text": [
      "['life', 'is', 'too', 'short']\n"
     ]
    }
   ],
   "source": [
    "p = re.compile('[a-z]+')\n",
    "result = p.findall('life is too short')\n",
    "print(result)"
   ]
  },
  {
   "cell_type": "markdown",
   "id": "a2827f02",
   "metadata": {},
   "source": [
    "## finditer()\n",
    "- 정규식과 매치되는 모든 문자열을 반복 가능한 객체로 반환한다."
   ]
  },
  {
   "cell_type": "code",
   "execution_count": 8,
   "id": "b09fb566",
   "metadata": {},
   "outputs": [
    {
     "name": "stdout",
     "output_type": "stream",
     "text": [
      "<re.Match object; span=(0, 4), match='life'>\n",
      "<re.Match object; span=(5, 7), match='is'>\n",
      "<re.Match object; span=(8, 11), match='too'>\n",
      "<re.Match object; span=(12, 17), match='short'>\n"
     ]
    }
   ],
   "source": [
    "result = p.finditer('life is too short')\n",
    "for m in result:\n",
    "    print(m)"
   ]
  },
  {
   "cell_type": "markdown",
   "id": "d1d678ac",
   "metadata": {},
   "source": [
    "# Match 객체 함수"
   ]
  },
  {
   "cell_type": "code",
   "execution_count": 9,
   "id": "c940809c",
   "metadata": {},
   "outputs": [
    {
     "name": "stdout",
     "output_type": "stream",
     "text": [
      "python\n",
      "0\n",
      "6\n",
      "(0, 6)\n"
     ]
    }
   ],
   "source": [
    "import re\n",
    "\n",
    "p = re.compile('[a-z]+')\n",
    "m = p.search('python')\n",
    "\n",
    "print(m.group())\n",
    "print(m.start())\n",
    "print(m.end())\n",
    "print(m.span())"
   ]
  },
  {
   "cell_type": "markdown",
   "id": "da9f69bd",
   "metadata": {},
   "source": [
    "# 컴파일 옵션"
   ]
  },
  {
   "cell_type": "markdown",
   "id": "dde61c14",
   "metadata": {},
   "source": [
    "# DOTALL\n",
    "- dot(.) 메타 문자가 줄바꿈 문자(\\n)을 포함한 모든 문자와 매치된다."
   ]
  },
  {
   "cell_type": "code",
   "execution_count": 10,
   "id": "9a7864ee",
   "metadata": {},
   "outputs": [
    {
     "name": "stdout",
     "output_type": "stream",
     "text": [
      "None\n",
      "<re.Match object; span=(0, 3), match='a\\nb'>\n"
     ]
    }
   ],
   "source": [
    "import re\n",
    "\n",
    "m = re.match('a.b', 'a\\nb')\n",
    "print(m)\n",
    "\n",
    "p = re.compile('a.b', re.DOTALL)\n",
    "m = p.match('a\\nb')\n",
    "print(m)"
   ]
  },
  {
   "cell_type": "code",
   "execution_count": 11,
   "id": "ea2721db",
   "metadata": {},
   "outputs": [
    {
     "name": "stdout",
     "output_type": "stream",
     "text": [
      "<re.Match object; span=(0, 12), match='hello\\npython'>\n"
     ]
    }
   ],
   "source": [
    "s = '''hello\n",
    "python'''\n",
    "\n",
    "p = re.compile('hello.python', re.DOTALL)\n",
    "m = p.match(s)\n",
    "print(m)"
   ]
  },
  {
   "cell_type": "markdown",
   "id": "48475dce",
   "metadata": {},
   "source": [
    "## IGNORECASE\n",
    "- 대소문자에 관계 없이 매치한다."
   ]
  },
  {
   "cell_type": "code",
   "execution_count": 12,
   "id": "ed7954c2",
   "metadata": {},
   "outputs": [
    {
     "name": "stdout",
     "output_type": "stream",
     "text": [
      "<re.Match object; span=(0, 6), match='python'>\n",
      "<re.Match object; span=(0, 6), match='Python'>\n",
      "<re.Match object; span=(0, 6), match='PYTHON'>\n"
     ]
    }
   ],
   "source": [
    "p = re.compile('[a-z]+', re.IGNORECASE)\n",
    "m = p.match('python')\n",
    "print(m)\n",
    "\n",
    "m = p.match('Python')\n",
    "print(m)\n",
    "\n",
    "m = p.match('PYTHON')\n",
    "print(m)"
   ]
  },
  {
   "cell_type": "markdown",
   "id": "657b34bb",
   "metadata": {},
   "source": [
    "## MULTILINE\n",
    "- 여러 줄의 문자열에 대해 ^, & 메타문자를 적용할 수 있다."
   ]
  },
  {
   "cell_type": "code",
   "execution_count": 13,
   "id": "183694ae",
   "metadata": {},
   "outputs": [
    {
     "name": "stdout",
     "output_type": "stream",
     "text": [
      "['python one', 'python two', 'python three']\n"
     ]
    }
   ],
   "source": [
    "# p = re.compile('^python\\s\\w+') # 매치되는 첫번째 줄만: ['python one']\n",
    "# p = re.compile('python\\s\\w+')\n",
    "# MULTILINE은 ^, $ 메타 문자를 문자열의 각 줄마다 적용한다.\n",
    "p = re.compile('^python\\s\\w+', re.MULTILINE)\n",
    "\n",
    "text = '''python one\n",
    "lisf is too short\n",
    "python two\n",
    "you need %%python\n",
    "python three'''\n",
    "\n",
    "m = p.findall(text)\n",
    "print(m)"
   ]
  },
  {
   "cell_type": "markdown",
   "id": "938d079b",
   "metadata": {},
   "source": [
    "## VERBOSE\n",
    "- VERBOS 옵션을 사용하면 패턴 문자열에 사용된 공백은 컴파일 시 제거된다.\n",
    "- 패턴 문자열에 주석을 넣을 수 있다."
   ]
  },
  {
   "cell_type": "code",
   "execution_count": 14,
   "id": "e75c296c",
   "metadata": {},
   "outputs": [],
   "source": [
    "p = re.compile(r'''\n",
    "&[#]           # start of a numeric entity reference\n",
    "(\n",
    "    0[0-7]+    # Octal form\n",
    "    |[0-9]+    # Decimal form\n",
    ")\n",
    "''', re.VERBOSE)"
   ]
  },
  {
   "cell_type": "markdown",
   "id": "d466f65c",
   "metadata": {},
   "source": [
    "# 백슬레시 문제"
   ]
  },
  {
   "cell_type": "code",
   "execution_count": 15,
   "id": "6bff682a",
   "metadata": {},
   "outputs": [
    {
     "name": "stdout",
     "output_type": "stream",
     "text": [
      "<re.Match object; span=(7, 14), match=' ection'>\n",
      "<re.Match object; span=(8, 16), match='\\\\section'>\n"
     ]
    }
   ],
   "source": [
    "import re\n",
    "\n",
    "# '(\\s)ection'으로 해석된 문자열이 전달되어 [\\t\\n\\r\\f\\v]ection 과 같은 의미로 해석\n",
    "p = re.compile('\\\\section')\n",
    "# \\section -> ection으로 수정하면 검색 됨\n",
    "m = p.search('What is ection and example?')\n",
    "print(m)\n",
    "\n",
    "p = re.compile(r'\\\\section')\n",
    "m = p.search('What is \\section and example?')\n",
    "print(m)"
   ]
  },
  {
   "cell_type": "markdown",
   "id": "1c6835fe",
   "metadata": {},
   "source": [
    "# 메타 문자 "
   ]
  },
  {
   "cell_type": "markdown",
   "id": "255a6d50",
   "metadata": {},
   "source": [
    "## |\n",
    "- or의 의미"
   ]
  },
  {
   "cell_type": "code",
   "execution_count": 16,
   "id": "b2e9cc9c",
   "metadata": {},
   "outputs": [
    {
     "name": "stdout",
     "output_type": "stream",
     "text": [
      "<re.Match object; span=(0, 5), match='Servo'>\n"
     ]
    }
   ],
   "source": [
    "import re\n",
    "\n",
    "p = re.compile('Crow|Servo')\n",
    "m = p.match('ServoHello')\n",
    "print(m)"
   ]
  },
  {
   "cell_type": "markdown",
   "id": "ba4128d4",
   "metadata": {},
   "source": [
    "## ^\n",
    "- ^ 다음에 나오는 문자열로 시작하는지 판단"
   ]
  },
  {
   "cell_type": "code",
   "execution_count": 17,
   "id": "fe7b09b4",
   "metadata": {},
   "outputs": [
    {
     "name": "stdout",
     "output_type": "stream",
     "text": [
      "<re.Match object; span=(0, 4), match='Life'>\n",
      "None\n"
     ]
    }
   ],
   "source": [
    "print(re.search('^Life', 'Life is too short'))\n",
    "print(re.search('^Life', 'My Life'))"
   ]
  },
  {
   "cell_type": "markdown",
   "id": "5e0ad9e0",
   "metadata": {},
   "source": [
    "## $\n",
    "- 문자열의 끝과 일치하는지 판단"
   ]
  },
  {
   "cell_type": "code",
   "execution_count": 18,
   "id": "705146ad",
   "metadata": {},
   "outputs": [
    {
     "name": "stdout",
     "output_type": "stream",
     "text": [
      "<re.Match object; span=(12, 17), match='short'>\n",
      "None\n"
     ]
    }
   ],
   "source": [
    "print(re.search('short$', 'Life is too short'))\n",
    "print(re.search('short$', 'Life is too short, you need %%python'))"
   ]
  },
  {
   "cell_type": "markdown",
   "id": "4eee0006",
   "metadata": {},
   "source": [
    "## \\A\n",
    "- 문자열의 처음과 일치함을 의미\n",
    "- MUTILINE 옵션 안먹힘\n",
    "- MUTILINE 옵션 안쓴 ^ 와 동일"
   ]
  },
  {
   "cell_type": "code",
   "execution_count": 19,
   "id": "f9b6e06c",
   "metadata": {},
   "outputs": [
    {
     "name": "stdout",
     "output_type": "stream",
     "text": [
      "['python one']\n"
     ]
    }
   ],
   "source": [
    "p = re.compile('\\Apython\\s\\w+', re.MULTILINE)\n",
    "text = '''python one\n",
    "life is too short\n",
    "python two\n",
    "you need python\n",
    "python three'''\n",
    "\n",
    "m = p.findall(text)\n",
    "print(m)"
   ]
  },
  {
   "cell_type": "markdown",
   "id": "db119d4e",
   "metadata": {},
   "source": [
    "## \\b\n",
    "- 단어 앞뒤가 공백으로 구분되어 있는지 검사\n",
    "- 매치 결과로 공백을 포함하지 않는다.\n",
    "- \\s는 공백을 포함하고 있는지를 검사. 즉, 공백도 일치하는 문자열로 검색결과에 포함\n",
    "- Raw String 문자 r을 붙여줘야 한다."
   ]
  },
  {
   "cell_type": "code",
   "execution_count": 20,
   "id": "a34c8dfa",
   "metadata": {},
   "outputs": [
    {
     "name": "stdout",
     "output_type": "stream",
     "text": [
      "<re.Match object; span=(2, 9), match=' class '>\n",
      "None\n",
      "None\n"
     ]
    }
   ],
   "source": [
    "# p = re.compile(r'\\bclass\\b') \\b: 공백을 포함하지 않고 매치 결과를 반환\n",
    "p = re.compile(r'\\sclass\\s') # \\s: 공백을 포함한 매치 결과를 반환\n",
    "\n",
    "print(p.search('no class at all'))\n",
    "print(p.search('the declassfied algotithm'))\n",
    "print(p.search('one subclass is'))"
   ]
  },
  {
   "cell_type": "markdown",
   "id": "880fe7cd",
   "metadata": {},
   "source": [
    "## \\B\n",
    "- 단어 앞뒤가 공백으로 구분된 단어가 아닌 경우 일치"
   ]
  },
  {
   "cell_type": "code",
   "execution_count": 21,
   "id": "6980fd62",
   "metadata": {},
   "outputs": [
    {
     "name": "stdout",
     "output_type": "stream",
     "text": [
      "None\n",
      "<re.Match object; span=(6, 11), match='class'>\n",
      "None\n"
     ]
    }
   ],
   "source": [
    "p = re.compile(r'\\Bclass\\B') \n",
    "print(p.search('no class at all'))\n",
    "print(p.search('the declassfied algotithm'))\n",
    "print(p.search('one subclass is'))"
   ]
  },
  {
   "cell_type": "markdown",
   "id": "3133221b",
   "metadata": {},
   "source": [
    "## \\\n",
    "- 정규 표현식에서 사용하는 메타 문자를 문자 그대로 표현하려면 앞에 \\를 붙임"
   ]
  },
  {
   "cell_type": "code",
   "execution_count": 22,
   "id": "0c55dfd3",
   "metadata": {},
   "outputs": [
    {
     "name": "stdout",
     "output_type": "stream",
     "text": [
      "<re.Match object; span=(4, 10), match='안녕하세요?'>\n"
     ]
    }
   ],
   "source": [
    "m = re.search('안녕하세요\\?', '여러분 안녕하세요?')\n",
    "print(m)"
   ]
  },
  {
   "cell_type": "markdown",
   "id": "ed3e7b1e",
   "metadata": {},
   "source": [
    "# 그룹핑"
   ]
  },
  {
   "cell_type": "code",
   "execution_count": 23,
   "id": "97b47ab3",
   "metadata": {
    "scrolled": true
   },
   "outputs": [
    {
     "name": "stdout",
     "output_type": "stream",
     "text": [
      "<re.Match object; span=(0, 9), match='ABCABCABC'>\n",
      "ABCABCABC\n",
      "ABC\n"
     ]
    }
   ],
   "source": [
    "import re\n",
    "\n",
    "p = re.compile('(ABC)+')\n",
    "m = p.search('ABCABCABC OK?')\n",
    "print(m)\n",
    "print(m.group()) # m.group(0) 과 동일\n",
    "print(m.group(1)) # 첫 번째 그룹에 해당하는 문자열 반환"
   ]
  },
  {
   "cell_type": "code",
   "execution_count": 24,
   "id": "1a0353fb",
   "metadata": {},
   "outputs": [
    {
     "name": "stdout",
     "output_type": "stream",
     "text": [
      "park 010-1234-1234\n",
      "park\n",
      "010-1234-1234\n"
     ]
    }
   ],
   "source": [
    "p = re.compile('(\\w+)\\s+(\\d+[-]\\d+[-]\\d+)')\n",
    "m = p.search('park 010-1234-1234')\n",
    "print(m.group())\n",
    "print(m.group(1))\n",
    "print(m.group(2))"
   ]
  },
  {
   "cell_type": "markdown",
   "id": "e3811380",
   "metadata": {},
   "source": [
    "- 그룹이 중첩되어 있는 경우는 바깥쪽부터 시작하여 안쪽으로 들어갈수록 인덱스가 증가한다."
   ]
  },
  {
   "cell_type": "code",
   "execution_count": 25,
   "id": "63ae205b",
   "metadata": {},
   "outputs": [
    {
     "name": "stdout",
     "output_type": "stream",
     "text": [
      "010\n"
     ]
    }
   ],
   "source": [
    "p = re.compile('(\\w+)\\s+((\\d+)[-]\\d+[-]\\d+)')\n",
    "m = p.search('park 010-1234-1234')\n",
    "print(m.group(3))"
   ]
  },
  {
   "cell_type": "markdown",
   "id": "e62f6c6c",
   "metadata": {},
   "source": [
    "- \\번호 를 이용한 그룹 재참조\n",
    "- Raw String으로 표현해야 한다."
   ]
  },
  {
   "cell_type": "code",
   "execution_count": 26,
   "id": "8941e8ec",
   "metadata": {},
   "outputs": [
    {
     "data": {
      "text/plain": [
       "<re.Match object; span=(0, 4), match='abab'>"
      ]
     },
     "execution_count": 26,
     "metadata": {},
     "output_type": "execute_result"
    }
   ],
   "source": [
    "re.match(r'(a)(b)\\1\\2', 'abab') # \\1:a, \\2:b 앞 그룹 재참조 "
   ]
  },
  {
   "cell_type": "code",
   "execution_count": 27,
   "id": "84f721e4",
   "metadata": {},
   "outputs": [
    {
     "data": {
      "text/plain": [
       "'the the'"
      ]
     },
     "execution_count": 27,
     "metadata": {},
     "output_type": "execute_result"
    }
   ],
   "source": [
    "# p = re.compile(r'(\\b\\w)\\s+\\1') ??\n",
    "p = re.compile(r'\\b(\\w+)\\s+\\1\\b')\n",
    "p.search('Paris is the the spring').group()"
   ]
  },
  {
   "cell_type": "markdown",
   "id": "702fb48e",
   "metadata": {},
   "source": [
    "- 그룹에 이름 붙이기\n",
    "- (?<그룹 이름>)"
   ]
  },
  {
   "cell_type": "code",
   "execution_count": 28,
   "id": "a7925786",
   "metadata": {},
   "outputs": [
    {
     "name": "stdout",
     "output_type": "stream",
     "text": [
      "park\n"
     ]
    }
   ],
   "source": [
    "p = re.compile('(?P<name>\\w+)\\s+((\\d+)[-]\\d+[-]\\d+)')\n",
    "m = p.search('park 010-1234-1234')\n",
    "print(m.group('name'))"
   ]
  },
  {
   "cell_type": "markdown",
   "id": "4c0099cb",
   "metadata": {},
   "source": [
    "# 전방탐색 / 후방탐색"
   ]
  },
  {
   "cell_type": "markdown",
   "id": "208b9676",
   "metadata": {},
   "source": [
    "## 긍정 전방 탐색"
   ]
  },
  {
   "cell_type": "code",
   "execution_count": 39,
   "id": "611dddad",
   "metadata": {},
   "outputs": [
    {
     "name": "stdout",
     "output_type": "stream",
     "text": [
      "http\n"
     ]
    }
   ],
   "source": [
    "import re\n",
    "\n",
    "# URL에서 프로토콜 이름만 검색\n",
    "# p = re.compile('.+(?=:)') # 아래와 동일\n",
    "p = re.compile('\\w+(?=:)')\n",
    "m = p.match('http://www.naver.com')\n",
    "print(m.group())"
   ]
  },
  {
   "cell_type": "markdown",
   "id": "cbae3055",
   "metadata": {},
   "source": [
    "## 부정 전방 탐색"
   ]
  },
  {
   "cell_type": "code",
   "execution_count": 30,
   "id": "16a706f6",
   "metadata": {},
   "outputs": [
    {
     "name": "stdout",
     "output_type": "stream",
     "text": [
      "python.exe\n",
      "sysinfo.cf\n"
     ]
    }
   ],
   "source": [
    "# 파일 이름의 확장자 중 bat 파일만 제외하고 추출하기\n",
    "filenames = ['autoexe.bat', 'python.exe', 'sysinfo.cf']\n",
    "\n",
    "p = re.compile('.+[.](?!bat).+') # 뒤에 .+ -> 확장자까지 일치 문자열로 찾기 위해 \n",
    "for filename in filenames:\n",
    "    m = p.search(filename)\n",
    "    if m:\n",
    "        print(m.group())"
   ]
  },
  {
   "cell_type": "markdown",
   "id": "9a6cf226",
   "metadata": {},
   "source": [
    "## 후방 탐색"
   ]
  },
  {
   "cell_type": "code",
   "execution_count": 31,
   "id": "9b130468",
   "metadata": {},
   "outputs": [
    {
     "name": "stdout",
     "output_type": "stream",
     "text": [
      "23.45\n"
     ]
    }
   ],
   "source": [
    "p = re.compile('(?<=\\$)\\d+[.]\\d+')\n",
    "m = p.search('ABC01: $23.45')\n",
    "print(m.group())"
   ]
  },
  {
   "cell_type": "markdown",
   "id": "6b57cfad",
   "metadata": {},
   "source": [
    "# 문자열 바꾸기"
   ]
  },
  {
   "cell_type": "code",
   "execution_count": 32,
   "id": "c794b536",
   "metadata": {},
   "outputs": [
    {
     "data": {
      "text/plain": [
       "'color socks and color socks'"
      ]
     },
     "execution_count": 32,
     "metadata": {},
     "output_type": "execute_result"
    }
   ],
   "source": [
    "p = re.compile('blue|white|red')\n",
    "# count=0 또는 생략하면 전체를 다 바꾼다.\n",
    "p.sub('color', 'blue socks and red socks')#, count=0)"
   ]
  },
  {
   "cell_type": "markdown",
   "id": "24972130",
   "metadata": {},
   "source": [
    "# 정규표현식 실습"
   ]
  },
  {
   "cell_type": "markdown",
   "id": "4d6c32f8",
   "metadata": {},
   "source": [
    "## 한글 찾기 / 한글 제거"
   ]
  },
  {
   "cell_type": "code",
   "execution_count": 33,
   "id": "c90e34ba",
   "metadata": {},
   "outputs": [
    {
     "name": "stdout",
     "output_type": "stream",
     "text": [
      "['good', 'mornig']\n"
     ]
    }
   ],
   "source": [
    "s = '한글이에요. good mornig. 안녕하세요'\n",
    "# m = re.findall('[ㄱ-힣]+', s) # 한글만 찾기\n",
    "m = re.findall('[^\\.\\sㄱ-힣]+', s) # 한글만 제거\n",
    "print(m)"
   ]
  },
  {
   "cell_type": "markdown",
   "id": "1403f027",
   "metadata": {},
   "source": [
    "## 대문자로 시작하는 단어찾기"
   ]
  },
  {
   "cell_type": "code",
   "execution_count": 34,
   "id": "4bd18670",
   "metadata": {},
   "outputs": [
    {
     "name": "stdout",
     "output_type": "stream",
     "text": [
      "['Edit', 'Expression', 'Text', 'Roll', 'PCRE', 'JavaScript', 'RegEx', 'Validate', 'Test']\n"
     ]
    }
   ],
   "source": [
    "text = 'Edit the Expression & Text to see matches. Roll over matches or the expression for details. PCRE & JavaScript flavors or RegEx are supported. Validate your expression with Test mode.'\n",
    "m = re.findall('[A-Z]\\w+', text)\n",
    "# m = re.findall('[A-Z][a-z]+', text) # PCRE 빠짐\n",
    "print(m)"
   ]
  },
  {
   "cell_type": "markdown",
   "id": "4431c531",
   "metadata": {},
   "source": [
    "## 문장 안에 이메일 주소 추출하기\n"
   ]
  },
  {
   "cell_type": "code",
   "execution_count": 35,
   "id": "52768c22",
   "metadata": {},
   "outputs": [],
   "source": [
    "text = 'Ryan has sent an invoice email to john.d@yahoo.com by using his email id ryan.arjun@gmail.com and he also shared a copy to his boss rosy.gray@amazon.co.uk on the cc part.'"
   ]
  },
  {
   "cell_type": "code",
   "execution_count": 36,
   "id": "e29fccd0",
   "metadata": {},
   "outputs": [],
   "source": [
    "# re.findall('[\\w\\.]+[@][\\w\\.]+', text)"
   ]
  },
  {
   "cell_type": "code",
   "execution_count": 37,
   "id": "77ec265d",
   "metadata": {},
   "outputs": [
    {
     "name": "stdout",
     "output_type": "stream",
     "text": [
      "['john.d@yahoo.com', 'ryan.arjun@gmail.com', 'rosy.gray@amazon.co.uk']\n"
     ]
    }
   ],
   "source": [
    "p = re.compile('[a-zA-Z]\\w*[.]?\\w*@[a-zA-Z]\\w*[.]\\w*[.]?\\w*')\n",
    "m = p.findall(text)\n",
    "print(m)"
   ]
  },
  {
   "cell_type": "markdown",
   "id": "b9fcb3f9",
   "metadata": {},
   "source": [
    "## 입력 받은 주민번호의 유효성 검증"
   ]
  },
  {
   "cell_type": "code",
   "execution_count": 41,
   "id": "2165b555",
   "metadata": {},
   "outputs": [
    {
     "name": "stdout",
     "output_type": "stream",
     "text": [
      "주민번호를 입력해주세요: 8916521234567\n",
      "유효한 주민번호 형식이 아닙니다.\n",
      "None\n"
     ]
    }
   ],
   "source": [
    "jumin = input(\"주민번호를 입력해주세요: \")\n",
    "# p = re.compile('\\d{2}[0-1]\\d{1}[0-3]\\d{1}-[1-4]\\d{6}')\n",
    "# (0[1-9]|1[0-2]) 월의 앞자리가 0일 때 뒷자리는 1~9까지 또는(|) 앞자리가 1일 때 뒷자리는 0~2까지 허용\n",
    "p = re.compile('\\d{2}(0[1-9]|1[0-2])(0[1-9]|1[0-2]|2[0-9]|3[0-1])-[1-4]\\d{6}')\n",
    "m = p.match(jumin)\n",
    "if m:\n",
    "    print('유효한 주민번호 형식입니다.')\n",
    "else:\n",
    "    print('유효한 주민번호 형식이 아닙니다.')\n",
    "print(m)"
   ]
  }
 ],
 "metadata": {
  "kernelspec": {
   "display_name": "Python 3 (ipykernel)",
   "language": "python",
   "name": "python3"
  },
  "language_info": {
   "codemirror_mode": {
    "name": "ipython",
    "version": 3
   },
   "file_extension": ".py",
   "mimetype": "text/x-python",
   "name": "python",
   "nbconvert_exporter": "python",
   "pygments_lexer": "ipython3",
   "version": "3.9.13"
  },
  "toc": {
   "base_numbering": 1,
   "nav_menu": {},
   "number_sections": true,
   "sideBar": true,
   "skip_h1_title": false,
   "title_cell": "Table of Contents",
   "title_sidebar": "Contents",
   "toc_cell": false,
   "toc_position": {
    "height": "calc(100% - 180px)",
    "left": "10px",
    "top": "150px",
    "width": "233.625px"
   },
   "toc_section_display": true,
   "toc_window_display": true
  }
 },
 "nbformat": 4,
 "nbformat_minor": 5
}
