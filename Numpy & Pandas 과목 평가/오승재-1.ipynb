{
 "cells": [
  {
   "cell_type": "markdown",
   "id": "0f748e63",
   "metadata": {},
   "source": [
    "# Numpy"
   ]
  },
  {
   "cell_type": "code",
   "execution_count": 2,
   "id": "babca2e8",
   "metadata": {},
   "outputs": [],
   "source": [
    "import numpy as np"
   ]
  },
  {
   "cell_type": "markdown",
   "id": "c5d5743c",
   "metadata": {},
   "source": [
    "## 다음 보기와 같이 0이상 10미만의 3x3 모양의 정수 난수를 생성하고 각 행의 첫 번째 값으로 정렬하시오. (5점)"
   ]
  },
  {
   "cell_type": "code",
   "execution_count": 4,
   "id": "e5ea5e32",
   "metadata": {},
   "outputs": [
    {
     "name": "stdout",
     "output_type": "stream",
     "text": [
      "[[6 6 6]\n",
      " [4 5 4]\n",
      " [0 6 0]]\n",
      "[[0 6 0]\n",
      " [4 5 4]\n",
      " [6 6 6]]\n"
     ]
    }
   ],
   "source": [
    "r = np.random.randint(0, 10, (3, 3))\n",
    "print(r)\n",
    "print(r[r[:, 0].argsort()])"
   ]
  },
  {
   "cell_type": "markdown",
   "id": "23f12598",
   "metadata": {},
   "source": [
    "## 8x8 모양의 정수 0으로 채워진 행렬을 만들고 다음과 인덱싱과 슬라이싱일 이용하여 다음과 같은 체크보드 패턴을만드시오. (10점)"
   ]
  },
  {
   "cell_type": "code",
   "execution_count": 8,
   "id": "f3e66f93",
   "metadata": {},
   "outputs": [
    {
     "name": "stdout",
     "output_type": "stream",
     "text": [
      "[[0 1 0 1 0 1 0 1]\n",
      " [1 0 1 0 1 0 1 0]\n",
      " [0 1 0 1 0 1 0 1]\n",
      " [1 0 1 0 1 0 1 0]\n",
      " [0 1 0 1 0 1 0 1]\n",
      " [1 0 1 0 1 0 1 0]\n",
      " [0 1 0 1 0 1 0 1]\n",
      " [1 0 1 0 1 0 1 0]]\n"
     ]
    }
   ],
   "source": [
    "r = np.zeros((8, 8), dtype=int)\n",
    "r[1::2, ::2] = 1\n",
    "r[::2, 1::2] = 1\n",
    "print(r)"
   ]
  },
  {
   "cell_type": "markdown",
   "id": "73cef835",
   "metadata": {},
   "source": [
    " ## (0,1) 사이의 값을 갖는 크기 10의 랜덤 벡터를 만들고 최대값을 0으로 바꾸는 코드를 만드시오. (5점)"
   ]
  },
  {
   "cell_type": "code",
   "execution_count": 11,
   "id": "73574528",
   "metadata": {},
   "outputs": [
    {
     "name": "stdout",
     "output_type": "stream",
     "text": [
      "[0.32919513 0.20419195 0.62637003 0.82977871 0.45249424 0.91986935\n",
      " 0.92167321 0.34420138 0.91919181 0.39405809]\n",
      "[0.32919513 0.20419195 0.62637003 0.82977871 0.45249424 0.91986935\n",
      " 0.         0.34420138 0.91919181 0.39405809]\n"
     ]
    }
   ],
   "source": [
    "r = np.random.rand(10)\n",
    "print(r)\n",
    "\n",
    "r[r.argmax()] = 0\n",
    "# r[r.max() == r] = 0 \n",
    "print(r)"
   ]
  },
  {
   "cell_type": "markdown",
   "id": "df51f8a4",
   "metadata": {},
   "source": [
    "# Pandas"
   ]
  },
  {
   "cell_type": "code",
   "execution_count": 14,
   "id": "ae2f6d3f",
   "metadata": {},
   "outputs": [],
   "source": [
    "import numpy as np\n",
    "import pandas as pd"
   ]
  },
  {
   "cell_type": "markdown",
   "id": "2b42a6b0",
   "metadata": {},
   "source": [
    "## 월드컵 출전선수 골 기록 데이터 분석 (30점)\n",
    "- 분석 내용\n",
    "    - ① 주어진 전체 기간의 각 나라별 골 득점수 상위 5개 국가와 그 득점수를 출력하시오\n",
    "    - ② 주어진 전체기간동안 골득점을 한 선수가 가장 많은 나라 상위 5개 국가와 그 선수 숫자를 출력하시오.\n",
    "    - ③ Years 컬럼은 년도 -년도 형식으로 구성 되어있고, 각 년도는 4자리 숫자이다. 각 년도 표기가 4자리 숫자로 안된 케이스가 존재한다. \n",
    "        해당 건은 몇 건인지 출력하시오.\n",
    "    - ④ 3번 문제에서 발생한 예외 케이스(년도 표기가 4자리 숫자가 아닌 경우)를 제외한 새로운 데이터 프레임을 생성하고\n",
    "        전체 데이터 행의 숫자를 출력하시오\n",
    "    - ⑤ 월드컵 출전횟수를 나타내는 ‘LenCup’ 컬럼을 추가하고 4회 출전한 선수의 숫자를 구하시오.\n",
    "    - ⑥ yugoslavia 국가의 월드컵 출전횟수가 2회인 선수들의 숫자를 구하시오.\n",
    "    - ⑦ 2002년도에 출전한 전체 선수 수를 구하시오.\n",
    "    - ⑧ 월드컵 출전 횟수가 1회 뿐인 선수들 중에서 가장 많은 득점을 올렸던 선수는 누구이며 몇 골을 넣었는지 구하시오."
   ]
  },
  {
   "cell_type": "code",
   "execution_count": 15,
   "id": "8f6deed5",
   "metadata": {},
   "outputs": [],
   "source": [
    "data = pd.read_csv('worldcupgoals.csv')"
   ]
  },
  {
   "cell_type": "code",
   "execution_count": 16,
   "id": "eb9160af",
   "metadata": {},
   "outputs": [
    {
     "data": {
      "text/html": [
       "<div>\n",
       "<style scoped>\n",
       "    .dataframe tbody tr th:only-of-type {\n",
       "        vertical-align: middle;\n",
       "    }\n",
       "\n",
       "    .dataframe tbody tr th {\n",
       "        vertical-align: top;\n",
       "    }\n",
       "\n",
       "    .dataframe thead th {\n",
       "        text-align: right;\n",
       "    }\n",
       "</style>\n",
       "<table border=\"1\" class=\"dataframe\">\n",
       "  <thead>\n",
       "    <tr style=\"text-align: right;\">\n",
       "      <th></th>\n",
       "      <th>Player</th>\n",
       "      <th>Goals</th>\n",
       "      <th>Years</th>\n",
       "      <th>Country</th>\n",
       "    </tr>\n",
       "  </thead>\n",
       "  <tbody>\n",
       "    <tr>\n",
       "      <th>0</th>\n",
       "      <td>Miroslav Klose</td>\n",
       "      <td>16</td>\n",
       "      <td>2002-2006-2010-2014</td>\n",
       "      <td>Germany</td>\n",
       "    </tr>\n",
       "    <tr>\n",
       "      <th>1</th>\n",
       "      <td>Ronaldo</td>\n",
       "      <td>15</td>\n",
       "      <td>1998-2002-2006</td>\n",
       "      <td>Brazil</td>\n",
       "    </tr>\n",
       "    <tr>\n",
       "      <th>2</th>\n",
       "      <td>Gerd Muller</td>\n",
       "      <td>14</td>\n",
       "      <td>1970-1974</td>\n",
       "      <td>Germany</td>\n",
       "    </tr>\n",
       "    <tr>\n",
       "      <th>3</th>\n",
       "      <td>Just Fontaine</td>\n",
       "      <td>13</td>\n",
       "      <td>1958</td>\n",
       "      <td>France</td>\n",
       "    </tr>\n",
       "    <tr>\n",
       "      <th>4</th>\n",
       "      <td>Pele</td>\n",
       "      <td>12</td>\n",
       "      <td>1958-1962-1966-1970</td>\n",
       "      <td>Brazil</td>\n",
       "    </tr>\n",
       "  </tbody>\n",
       "</table>\n",
       "</div>"
      ],
      "text/plain": [
       "           Player  Goals                Years  Country\n",
       "0  Miroslav Klose     16  2002-2006-2010-2014  Germany\n",
       "1         Ronaldo     15       1998-2002-2006   Brazil\n",
       "2     Gerd Muller     14            1970-1974  Germany\n",
       "3   Just Fontaine     13                 1958   France\n",
       "4            Pele     12  1958-1962-1966-1970   Brazil"
      ]
     },
     "execution_count": 16,
     "metadata": {},
     "output_type": "execute_result"
    }
   ],
   "source": [
    "data.head()"
   ]
  },
  {
   "cell_type": "markdown",
   "id": "12f38967",
   "metadata": {},
   "source": [
    "① 주어진 전체 기간의 각 나라별 골 득점수 상위 5개 국가와 그 득점수를 출력하시오"
   ]
  },
  {
   "cell_type": "code",
   "execution_count": 29,
   "id": "5a234b1b",
   "metadata": {},
   "outputs": [
    {
     "data": {
      "text/html": [
       "<div>\n",
       "<style scoped>\n",
       "    .dataframe tbody tr th:only-of-type {\n",
       "        vertical-align: middle;\n",
       "    }\n",
       "\n",
       "    .dataframe tbody tr th {\n",
       "        vertical-align: top;\n",
       "    }\n",
       "\n",
       "    .dataframe thead th {\n",
       "        text-align: right;\n",
       "    }\n",
       "</style>\n",
       "<table border=\"1\" class=\"dataframe\">\n",
       "  <thead>\n",
       "    <tr style=\"text-align: right;\">\n",
       "      <th></th>\n",
       "      <th>Goals</th>\n",
       "    </tr>\n",
       "    <tr>\n",
       "      <th>Country</th>\n",
       "      <th></th>\n",
       "    </tr>\n",
       "  </thead>\n",
       "  <tbody>\n",
       "    <tr>\n",
       "      <th>Brazil</th>\n",
       "      <td>228</td>\n",
       "    </tr>\n",
       "    <tr>\n",
       "      <th>Germany</th>\n",
       "      <td>226</td>\n",
       "    </tr>\n",
       "    <tr>\n",
       "      <th>Argentina</th>\n",
       "      <td>135</td>\n",
       "    </tr>\n",
       "    <tr>\n",
       "      <th>Italy</th>\n",
       "      <td>123</td>\n",
       "    </tr>\n",
       "    <tr>\n",
       "      <th>France</th>\n",
       "      <td>115</td>\n",
       "    </tr>\n",
       "  </tbody>\n",
       "</table>\n",
       "</div>"
      ],
      "text/plain": [
       "           Goals\n",
       "Country         \n",
       "Brazil       228\n",
       "Germany      226\n",
       "Argentina    135\n",
       "Italy        123\n",
       "France       115"
      ]
     },
     "execution_count": 29,
     "metadata": {},
     "output_type": "execute_result"
    }
   ],
   "source": [
    "grouped = data.groupby('Country')[['Goals']].sum()\n",
    "grouped.sort_values('Goals', ascending=False).head(5)"
   ]
  },
  {
   "cell_type": "markdown",
   "id": "93641544",
   "metadata": {},
   "source": [
    "② 주어진 전체기간동안 골득점을 한 선수가 가장 많은 나라 상위 5개 국가와 그 선수 숫자를 출력하시오."
   ]
  },
  {
   "cell_type": "code",
   "execution_count": 30,
   "id": "d6706fd4",
   "metadata": {},
   "outputs": [],
   "source": [
    "grouped = data.groupby('Country')"
   ]
  },
  {
   "cell_type": "code",
   "execution_count": 32,
   "id": "49349be4",
   "metadata": {},
   "outputs": [
    {
     "name": "stdout",
     "output_type": "stream",
     "text": [
      "           Goals\n",
      "Country         \n",
      "Brazil       228\n",
      "Germany      226\n",
      "Argentina    135\n",
      "Italy        123\n",
      "France       115\n"
     ]
    }
   ],
   "source": [
    "grouped = data.groupby(['Country'])[['Goals']].sum()\n",
    "grouped.sort_values('Goals', ascending=False, inplace=True)\n",
    "print(grouped.head(5))"
   ]
  },
  {
   "cell_type": "code",
   "execution_count": 11,
   "id": "0fabf8dd",
   "metadata": {
    "scrolled": true
   },
   "outputs": [
    {
     "name": "stdout",
     "output_type": "stream",
     "text": [
      "           Goals\n",
      "Country         \n",
      "Brazil       228\n",
      "Germany      226\n",
      "Argentina    135\n",
      "Italy        123\n",
      "France       115\n"
     ]
    }
   ],
   "source": [
    "grouped = data.groupby(['Country']).sum().sort_values('Goals', ascending=False).head(5)\n",
    "print(grouped)"
   ]
  },
  {
   "cell_type": "markdown",
   "id": "81d6093f",
   "metadata": {},
   "source": [
    "③ Years 컬럼은 년도 -년도 형식으로 구성 되어있고, 각 년도는 4자리 숫자이다. 각 년도 표기가 4자리 숫자로 안된 케이스가 존재한다. 해당 건은 몇 건인지 출력하시오."
   ]
  },
  {
   "cell_type": "code",
   "execution_count": 46,
   "id": "d351175f",
   "metadata": {},
   "outputs": [
    {
     "data": {
      "text/html": [
       "<div>\n",
       "<style scoped>\n",
       "    .dataframe tbody tr th:only-of-type {\n",
       "        vertical-align: middle;\n",
       "    }\n",
       "\n",
       "    .dataframe tbody tr th {\n",
       "        vertical-align: top;\n",
       "    }\n",
       "\n",
       "    .dataframe thead th {\n",
       "        text-align: right;\n",
       "    }\n",
       "</style>\n",
       "<table border=\"1\" class=\"dataframe\">\n",
       "  <thead>\n",
       "    <tr style=\"text-align: right;\">\n",
       "      <th></th>\n",
       "      <th>Player</th>\n",
       "      <th>Goals</th>\n",
       "      <th>Years</th>\n",
       "      <th>Country</th>\n",
       "    </tr>\n",
       "  </thead>\n",
       "  <tbody>\n",
       "  </tbody>\n",
       "</table>\n",
       "</div>"
      ],
      "text/plain": [
       "Empty DataFrame\n",
       "Columns: [Player, Goals, Years, Country]\n",
       "Index: []"
      ]
     },
     "execution_count": 46,
     "metadata": {},
     "output_type": "execute_result"
    }
   ],
   "source": [
    "data[data['Years'].isin(['-'])]"
   ]
  },
  {
   "cell_type": "code",
   "execution_count": 12,
   "id": "201d97f2",
   "metadata": {},
   "outputs": [
    {
     "data": {
      "text/plain": [
       "False"
      ]
     },
     "execution_count": 12,
     "metadata": {},
     "output_type": "execute_result"
    }
   ],
   "source": [
    "date = data['Years']\n",
    "len(date) < 4\n",
    "# data[np.logical_not(date.isin(['-']), ) ]"
   ]
  },
  {
   "cell_type": "markdown",
   "id": "e53b8aa3",
   "metadata": {},
   "source": [
    "④ 3번 문제에서 발생한 예외 케이스(년도 표기가 4자리 숫자가 아닌 경우)를 제외한 새로운 데이터 프레임을 생성하고 전체 데이터 행의 숫자를 출력하시오"
   ]
  },
  {
   "cell_type": "code",
   "execution_count": null,
   "id": "0272d488",
   "metadata": {},
   "outputs": [],
   "source": []
  },
  {
   "cell_type": "markdown",
   "id": "ab908adc",
   "metadata": {},
   "source": [
    "⑤ 월드컵 출전횟수를 나타내는 ‘LenCup’ 컬럼을 추가하고 4회 출전한 선수의 숫자를 구하시오."
   ]
  },
  {
   "cell_type": "code",
   "execution_count": null,
   "id": "41098518",
   "metadata": {},
   "outputs": [],
   "source": [
    "data['LenCup']"
   ]
  },
  {
   "cell_type": "markdown",
   "id": "0a7157d0",
   "metadata": {},
   "source": [
    "⑥ Yugoslavia 국가의 월드컵 출전횟수가 2회인 선수들의 숫자를 구하시오."
   ]
  },
  {
   "cell_type": "code",
   "execution_count": 273,
   "id": "8d295756",
   "metadata": {},
   "outputs": [
    {
     "data": {
      "text/plain": [
       "158               1962\n",
       "250               1974\n",
       "251               1930\n",
       "252               1962\n",
       "253     1990-1998-2002\n",
       "254          1990-1998\n",
       "255               1958\n",
       "491               1950\n",
       "492               1990\n",
       "493               1974\n",
       "494               1998\n",
       "495               1990\n",
       "496               1958\n",
       "497          1974-1982\n",
       "498               1950\n",
       "1272         1950-1954\n",
       "1273              1974\n",
       "1274              1974\n",
       "1275              1982\n",
       "1276              1974\n",
       "1277              1930\n",
       "1278              1962\n",
       "1279              1998\n",
       "1280              1998\n",
       "1281         1954-1958\n",
       "1282              1974\n",
       "1283              1950\n",
       "1284              1958\n",
       "1285              1974\n",
       "1286         1974-1982\n",
       "1287              1962\n",
       "1288              1958\n",
       "1289              1930\n",
       "1290              1962\n",
       "1291         1982-1990\n",
       "1292              1930\n",
       "1293              1930\n",
       "1294         1954-1958\n",
       "Name: Years, dtype: object"
      ]
     },
     "execution_count": 273,
     "metadata": {},
     "output_type": "execute_result"
    }
   ],
   "source": [
    "yugo = data[data['Country'] == 'Yugoslavia']\n",
    "yugo['Years']"
   ]
  },
  {
   "cell_type": "markdown",
   "id": "e8401bf5",
   "metadata": {},
   "source": [
    "⑦ 2002년도에 출전한 전체 선수 수를 구하시오."
   ]
  },
  {
   "cell_type": "code",
   "execution_count": 13,
   "id": "d0ee506f",
   "metadata": {},
   "outputs": [
    {
     "data": {
      "text/plain": [
       "46"
      ]
     },
     "execution_count": 13,
     "metadata": {},
     "output_type": "execute_result"
    }
   ],
   "source": [
    "data['Years'].isin(['2002']).sum()"
   ]
  },
  {
   "cell_type": "markdown",
   "id": "1a22bd8c",
   "metadata": {},
   "source": [
    "⑧ 월드컵 출전 횟수가 1회 뿐인 선수들 중에서 가장 많은 득점을 올렸던 선수는 누구이며 몇 골을 넣었는지 구하시오."
   ]
  },
  {
   "cell_type": "code",
   "execution_count": null,
   "id": "f61f9f76",
   "metadata": {},
   "outputs": [],
   "source": [
    "one = data[len(data['Years']) == 4]\n",
    "grouped = data.groupby('Player')[['Player', 'Goals']].sum()\n",
    "grouped"
   ]
  },
  {
   "cell_type": "markdown",
   "id": "b7cd3d96",
   "metadata": {},
   "source": [
    "## 전 세계 행복도 지수 데이터 분석 (30점)\n",
    "- 분석 내용\n",
    "    - ① 각 연도별 행복랭킹 10위안에 드는 나라의 행복점수의 평균을 구하시오.\n",
    "    - ② 각 연도의 행복랭킹 50위 이내의 나라들의 각각의 행복점수 평균을 데이터프레임으로 표시하시오.\n",
    "    - ③ 각 년도별 하위 행복점수의 하위 5개 국가의 평균 행복점수를 구하시오.\n",
    "    - ④ 2019년 데이터- 를 추출하고 해당 데이터의 상대 GDP 평균 이상의 나라들과 평균 이하의 나라들의 행복점수 평균을\n",
    "        각각 구하고 그 차이 값을 출력하시오\n",
    "    - ⑤ 각 년도의 부패에 대한인식을 내림차순 정렬했을 때 상위 20개 국가의 부패에 대한인식의 평균을 구하시오.\n",
    "    - ⑥ 2018년도 행복랭킹 50위 이내에 포함됐다가 2019년 50위 밖으로 밀려난 국가의 숫자를 구하시오.\n",
    "    - ⑦ 2018년,2019년 모두 기록이 있는 나라들 중 년도별 행복점수가 가장 증가한 나라와 그 증가 수치는?"
   ]
  },
  {
   "cell_type": "code",
   "execution_count": 283,
   "id": "c60a52a8",
   "metadata": {},
   "outputs": [],
   "source": [
    "data = pd.read_csv('happiness.csv')"
   ]
  },
  {
   "cell_type": "code",
   "execution_count": 193,
   "id": "fbf1bf2a",
   "metadata": {},
   "outputs": [
    {
     "data": {
      "text/html": [
       "<div>\n",
       "<style scoped>\n",
       "    .dataframe tbody tr th:only-of-type {\n",
       "        vertical-align: middle;\n",
       "    }\n",
       "\n",
       "    .dataframe tbody tr th {\n",
       "        vertical-align: top;\n",
       "    }\n",
       "\n",
       "    .dataframe thead th {\n",
       "        text-align: right;\n",
       "    }\n",
       "</style>\n",
       "<table border=\"1\" class=\"dataframe\">\n",
       "  <thead>\n",
       "    <tr style=\"text-align: right;\">\n",
       "      <th></th>\n",
       "      <th>행복랭킹</th>\n",
       "      <th>나라명</th>\n",
       "      <th>점수</th>\n",
       "      <th>상대GDP</th>\n",
       "      <th>사회적지원</th>\n",
       "      <th>행복기대치</th>\n",
       "      <th>선택의 자유도</th>\n",
       "      <th>관대함</th>\n",
       "      <th>부패에 대한인식</th>\n",
       "      <th>년도</th>\n",
       "    </tr>\n",
       "  </thead>\n",
       "  <tbody>\n",
       "    <tr>\n",
       "      <th>0</th>\n",
       "      <td>1</td>\n",
       "      <td>Finland</td>\n",
       "      <td>7.769</td>\n",
       "      <td>1.340</td>\n",
       "      <td>1.587</td>\n",
       "      <td>0.986</td>\n",
       "      <td>0.596</td>\n",
       "      <td>0.153</td>\n",
       "      <td>0.393</td>\n",
       "      <td>2019</td>\n",
       "    </tr>\n",
       "    <tr>\n",
       "      <th>1</th>\n",
       "      <td>2</td>\n",
       "      <td>Denmark</td>\n",
       "      <td>7.600</td>\n",
       "      <td>1.383</td>\n",
       "      <td>1.573</td>\n",
       "      <td>0.996</td>\n",
       "      <td>0.592</td>\n",
       "      <td>0.252</td>\n",
       "      <td>0.410</td>\n",
       "      <td>2019</td>\n",
       "    </tr>\n",
       "    <tr>\n",
       "      <th>2</th>\n",
       "      <td>3</td>\n",
       "      <td>Norway</td>\n",
       "      <td>7.554</td>\n",
       "      <td>1.488</td>\n",
       "      <td>1.582</td>\n",
       "      <td>1.028</td>\n",
       "      <td>0.603</td>\n",
       "      <td>0.271</td>\n",
       "      <td>0.341</td>\n",
       "      <td>2019</td>\n",
       "    </tr>\n",
       "    <tr>\n",
       "      <th>3</th>\n",
       "      <td>4</td>\n",
       "      <td>Iceland</td>\n",
       "      <td>7.494</td>\n",
       "      <td>1.380</td>\n",
       "      <td>1.624</td>\n",
       "      <td>1.026</td>\n",
       "      <td>0.591</td>\n",
       "      <td>0.354</td>\n",
       "      <td>0.118</td>\n",
       "      <td>2019</td>\n",
       "    </tr>\n",
       "    <tr>\n",
       "      <th>4</th>\n",
       "      <td>5</td>\n",
       "      <td>Netherlands</td>\n",
       "      <td>7.488</td>\n",
       "      <td>1.396</td>\n",
       "      <td>1.522</td>\n",
       "      <td>0.999</td>\n",
       "      <td>0.557</td>\n",
       "      <td>0.322</td>\n",
       "      <td>0.298</td>\n",
       "      <td>2019</td>\n",
       "    </tr>\n",
       "    <tr>\n",
       "      <th>...</th>\n",
       "      <td>...</td>\n",
       "      <td>...</td>\n",
       "      <td>...</td>\n",
       "      <td>...</td>\n",
       "      <td>...</td>\n",
       "      <td>...</td>\n",
       "      <td>...</td>\n",
       "      <td>...</td>\n",
       "      <td>...</td>\n",
       "      <td>...</td>\n",
       "    </tr>\n",
       "    <tr>\n",
       "      <th>307</th>\n",
       "      <td>152</td>\n",
       "      <td>Yemen</td>\n",
       "      <td>3.355</td>\n",
       "      <td>0.442</td>\n",
       "      <td>1.073</td>\n",
       "      <td>0.343</td>\n",
       "      <td>0.244</td>\n",
       "      <td>0.083</td>\n",
       "      <td>0.064</td>\n",
       "      <td>2018</td>\n",
       "    </tr>\n",
       "    <tr>\n",
       "      <th>308</th>\n",
       "      <td>153</td>\n",
       "      <td>Tanzania</td>\n",
       "      <td>3.303</td>\n",
       "      <td>0.455</td>\n",
       "      <td>0.991</td>\n",
       "      <td>0.381</td>\n",
       "      <td>0.481</td>\n",
       "      <td>0.270</td>\n",
       "      <td>0.097</td>\n",
       "      <td>2018</td>\n",
       "    </tr>\n",
       "    <tr>\n",
       "      <th>309</th>\n",
       "      <td>154</td>\n",
       "      <td>South Sudan</td>\n",
       "      <td>3.254</td>\n",
       "      <td>0.337</td>\n",
       "      <td>0.608</td>\n",
       "      <td>0.177</td>\n",
       "      <td>0.112</td>\n",
       "      <td>0.224</td>\n",
       "      <td>0.106</td>\n",
       "      <td>2018</td>\n",
       "    </tr>\n",
       "    <tr>\n",
       "      <th>310</th>\n",
       "      <td>155</td>\n",
       "      <td>Central African Republic</td>\n",
       "      <td>3.083</td>\n",
       "      <td>0.024</td>\n",
       "      <td>0.000</td>\n",
       "      <td>0.010</td>\n",
       "      <td>0.305</td>\n",
       "      <td>0.218</td>\n",
       "      <td>0.038</td>\n",
       "      <td>2018</td>\n",
       "    </tr>\n",
       "    <tr>\n",
       "      <th>311</th>\n",
       "      <td>156</td>\n",
       "      <td>Burundi</td>\n",
       "      <td>2.905</td>\n",
       "      <td>0.091</td>\n",
       "      <td>0.627</td>\n",
       "      <td>0.145</td>\n",
       "      <td>0.065</td>\n",
       "      <td>0.149</td>\n",
       "      <td>0.076</td>\n",
       "      <td>2018</td>\n",
       "    </tr>\n",
       "  </tbody>\n",
       "</table>\n",
       "<p>312 rows × 10 columns</p>\n",
       "</div>"
      ],
      "text/plain": [
       "     행복랭킹                       나라명     점수  상대GDP  사회적지원  행복기대치  선택의 자유도  \\\n",
       "0       1                   Finland  7.769  1.340  1.587  0.986    0.596   \n",
       "1       2                   Denmark  7.600  1.383  1.573  0.996    0.592   \n",
       "2       3                    Norway  7.554  1.488  1.582  1.028    0.603   \n",
       "3       4                   Iceland  7.494  1.380  1.624  1.026    0.591   \n",
       "4       5               Netherlands  7.488  1.396  1.522  0.999    0.557   \n",
       "..    ...                       ...    ...    ...    ...    ...      ...   \n",
       "307   152                     Yemen  3.355  0.442  1.073  0.343    0.244   \n",
       "308   153                  Tanzania  3.303  0.455  0.991  0.381    0.481   \n",
       "309   154               South Sudan  3.254  0.337  0.608  0.177    0.112   \n",
       "310   155  Central African Republic  3.083  0.024  0.000  0.010    0.305   \n",
       "311   156                   Burundi  2.905  0.091  0.627  0.145    0.065   \n",
       "\n",
       "       관대함  부패에 대한인식    년도  \n",
       "0    0.153     0.393  2019  \n",
       "1    0.252     0.410  2019  \n",
       "2    0.271     0.341  2019  \n",
       "3    0.354     0.118  2019  \n",
       "4    0.322     0.298  2019  \n",
       "..     ...       ...   ...  \n",
       "307  0.083     0.064  2018  \n",
       "308  0.270     0.097  2018  \n",
       "309  0.224     0.106  2018  \n",
       "310  0.218     0.038  2018  \n",
       "311  0.149     0.076  2018  \n",
       "\n",
       "[312 rows x 10 columns]"
      ]
     },
     "execution_count": 193,
     "metadata": {},
     "output_type": "execute_result"
    }
   ],
   "source": [
    "data"
   ]
  },
  {
   "cell_type": "markdown",
   "id": "403b3f24",
   "metadata": {},
   "source": [
    "① 각 연도별 행복랭킹 10위안에 드는 나라의 행복점수의 평균을 구하시오."
   ]
  },
  {
   "cell_type": "code",
   "execution_count": 195,
   "id": "df331997",
   "metadata": {
    "scrolled": false
   },
   "outputs": [
    {
     "data": {
      "text/plain": [
       "7.4442"
      ]
     },
     "execution_count": 195,
     "metadata": {},
     "output_type": "execute_result"
    }
   ],
   "source": [
    "# 2018년 1~10위 행복점수 평균\n",
    "data['점수'][data['년도'] == 2018].head(10).mean()"
   ]
  },
  {
   "cell_type": "code",
   "execution_count": 196,
   "id": "c27cee31",
   "metadata": {},
   "outputs": [
    {
     "data": {
      "text/plain": [
       "7.4559000000000015"
      ]
     },
     "execution_count": 196,
     "metadata": {},
     "output_type": "execute_result"
    }
   ],
   "source": [
    "# 2019년 1~10위 행복점수 평균\n",
    "data['점수'][data['년도'] == 2019].head(10).mean()"
   ]
  },
  {
   "cell_type": "markdown",
   "id": "eef2926d",
   "metadata": {},
   "source": [
    "② 각 연도의 행복랭킹 50위 이내의 나라들의 각각의 행복점수 평균을 데이터프레임으로 표시하시오."
   ]
  },
  {
   "cell_type": "code",
   "execution_count": 208,
   "id": "3970c188",
   "metadata": {},
   "outputs": [
    {
     "data": {
      "text/html": [
       "<div>\n",
       "<style scoped>\n",
       "    .dataframe tbody tr th:only-of-type {\n",
       "        vertical-align: middle;\n",
       "    }\n",
       "\n",
       "    .dataframe tbody tr th {\n",
       "        vertical-align: top;\n",
       "    }\n",
       "\n",
       "    .dataframe thead th {\n",
       "        text-align: right;\n",
       "    }\n",
       "</style>\n",
       "<table border=\"1\" class=\"dataframe\">\n",
       "  <thead>\n",
       "    <tr style=\"text-align: right;\">\n",
       "      <th></th>\n",
       "      <th>점수</th>\n",
       "    </tr>\n",
       "    <tr>\n",
       "      <th>년도</th>\n",
       "      <th></th>\n",
       "    </tr>\n",
       "  </thead>\n",
       "  <tbody>\n",
       "    <tr>\n",
       "      <th>2018</th>\n",
       "      <td>5.375917</td>\n",
       "    </tr>\n",
       "    <tr>\n",
       "      <th>2019</th>\n",
       "      <td>5.407096</td>\n",
       "    </tr>\n",
       "  </tbody>\n",
       "</table>\n",
       "</div>"
      ],
      "text/plain": [
       "            점수\n",
       "년도            \n",
       "2018  5.375917\n",
       "2019  5.407096"
      ]
     },
     "execution_count": 208,
     "metadata": {},
     "output_type": "execute_result"
    }
   ],
   "source": [
    "a = data.groupby('년도')[['점수']].mean()\n",
    "a\n",
    "data.pivot_table(index='년도', values=['점수'], aggfunc='mean')"
   ]
  },
  {
   "cell_type": "markdown",
   "id": "6fc71368",
   "metadata": {},
   "source": [
    "③ 각 년도별 하위 행복점수의 하위 5개 국가의 평균 행복점수를 구하시오."
   ]
  },
  {
   "cell_type": "code",
   "execution_count": 209,
   "id": "d0ddcdcc",
   "metadata": {},
   "outputs": [
    {
     "name": "stdout",
     "output_type": "stream",
     "text": [
      "2018년 하위 5개국 행복점수 평균\n",
      "3.1799999999999997\n",
      "\n",
      "2019년 하위 5개국 행복점수 평균\n",
      "3.1407999999999996\n"
     ]
    }
   ],
   "source": [
    "print('2018년 하위 5개국 행복점수 평균')\n",
    "print(data['점수'][data['년도'] == 2018].tail(5).mean())\n",
    "print()\n",
    "\n",
    "print('2019년 하위 5개국 행복점수 평균')\n",
    "print(data['점수'][data['년도'] == 2019].tail(5).mean())"
   ]
  },
  {
   "cell_type": "markdown",
   "id": "a999ab3a",
   "metadata": {},
   "source": [
    "④ 2019년 데이터를 추출하고 해당 데이터의 상대 GDP 평균 이상의 나라들과 평균 이하의 나라들의 행복점수 평균을 각각 구하고 그 차이 값을 출력하시오"
   ]
  },
  {
   "cell_type": "code",
   "execution_count": 239,
   "id": "5887b48e",
   "metadata": {},
   "outputs": [
    {
     "name": "stdout",
     "output_type": "stream",
     "text": [
      "2019년 상대 GDP 평균 이상 나라들의 행복점수 평균\n",
      "6.013204545454547\n",
      "2019년 상대 GDP 평균 이하 나라들의 행복점수 평균\n",
      "4.6227205882352935\n",
      "차이\n",
      "1.3904839572192538\n"
     ]
    }
   ],
   "source": [
    "data_2019 = data[data['년도'] == 2019]\n",
    "gdp_mean = data_2019['상대GDP'].mean()\n",
    "\n",
    "print('2019년 상대 GDP 평균 이상 나라들의 행복점수 평균')\n",
    "print(data_2019['점수'][data_2019['상대GDP'] > gdp_mean].mean())\n",
    "\n",
    "print('2019년 상대 GDP 평균 이하 나라들의 행복점수 평균')\n",
    "print(data_2019['점수'][data_2019['상대GDP'] < gdp_mean].mean())\n",
    "\n",
    "print('차이')\n",
    "print(data_2019['점수'][data_2019['상대GDP'] > gdp_mean].mean() - data_2019['점수'][data_2019['상대GDP'] < gdp_mean].mean())"
   ]
  },
  {
   "cell_type": "markdown",
   "id": "71e194a4",
   "metadata": {},
   "source": [
    "⑤ 각 년도의 부패에 대한인식을 내림차순 정렬했을 때 상위 20개 국가의 부패에 대한인식의 평균을 구하시오."
   ]
  },
  {
   "cell_type": "code",
   "execution_count": 211,
   "id": "22bf529f",
   "metadata": {},
   "outputs": [
    {
     "data": {
      "text/html": [
       "<div>\n",
       "<style scoped>\n",
       "    .dataframe tbody tr th:only-of-type {\n",
       "        vertical-align: middle;\n",
       "    }\n",
       "\n",
       "    .dataframe tbody tr th {\n",
       "        vertical-align: top;\n",
       "    }\n",
       "\n",
       "    .dataframe thead th {\n",
       "        text-align: right;\n",
       "    }\n",
       "</style>\n",
       "<table border=\"1\" class=\"dataframe\">\n",
       "  <thead>\n",
       "    <tr style=\"text-align: right;\">\n",
       "      <th></th>\n",
       "      <th>부패에 대한인식</th>\n",
       "    </tr>\n",
       "    <tr>\n",
       "      <th>년도</th>\n",
       "      <th></th>\n",
       "    </tr>\n",
       "  </thead>\n",
       "  <tbody>\n",
       "    <tr>\n",
       "      <th>2018</th>\n",
       "      <td>0.010636</td>\n",
       "    </tr>\n",
       "    <tr>\n",
       "      <th>2019</th>\n",
       "      <td>0.009000</td>\n",
       "    </tr>\n",
       "  </tbody>\n",
       "</table>\n",
       "</div>"
      ],
      "text/plain": [
       "      부패에 대한인식\n",
       "년도            \n",
       "2018  0.010636\n",
       "2019  0.009000"
      ]
     },
     "execution_count": 211,
     "metadata": {},
     "output_type": "execute_result"
    }
   ],
   "source": [
    "a = data.sort_values('부패에 대한인식').head(20)\n",
    "a.pivot_table(index='년도', values=['부패에 대한인식'], aggfunc='mean')"
   ]
  },
  {
   "cell_type": "markdown",
   "id": "8428a7f0",
   "metadata": {},
   "source": [
    "⑥ 2018년도 행복랭킹 50위 이내에 포함됐다가 2019년 50위 밖으로 밀려난 국가의 숫자를 구하시오."
   ]
  },
  {
   "cell_type": "code",
   "execution_count": 219,
   "id": "5b9f0e0c",
   "metadata": {},
   "outputs": [
    {
     "name": "stdout",
     "output_type": "stream",
     "text": [
      "3\n"
     ]
    }
   ],
   "source": [
    "a = data[np.logical_and(data['년도'] == 2018, data['행복랭킹'] <= 50)]\n",
    "\n",
    "b = data[np.logical_and(data['년도'] == 2019, data['행복랭킹'] > 50)]\n",
    "\n",
    "c = a['나라명'].isin(b['나라명']).sum()\n",
    "print(c)"
   ]
  },
  {
   "cell_type": "markdown",
   "id": "20129e93",
   "metadata": {},
   "source": [
    "⑦ 2018년,2019년 모두 기록이 있는 나라들 중 년도별 행복점수가 가장 증가한 나라와 그 증가 수치는?"
   ]
  },
  {
   "cell_type": "code",
   "execution_count": null,
   "id": "e1c19552",
   "metadata": {},
   "outputs": [],
   "source": []
  },
  {
   "cell_type": "markdown",
   "id": "5daff952",
   "metadata": {},
   "source": [
    "## 유튜브 데이터 분석 (20점)\n",
    "- 분석 내용\n",
    "    - ① 컬럼의 이름을 다음과 같이 변경하시오\n",
    "        ◼title : 채널명, category : 카테고리, subscriber : 구독자수, view : 조회수, video : 영상개수\n",
    "    - ② ‘구독자수’ 컬럼과 ‘조회수’ 컬럼의 타입을 정수형(int64)로 변경하시오 (‘억’,’만’ 한글을 삭제 후 숫자로 변경)\n",
    "    - ③ ‘영상개수’ 컬럼의 ‘,’와 ‘개’문자를 제거하고 정수형(int32)로 변경하시오.\n",
    "    - ④ 인기 채널 확인하기\n",
    "        ◼’구독자수’와 ‘조회수’가 많은 5개의 채널을 각각 출력하시오.\n",
    "    - ⑤ ‘카테고리’가 [음악/댄스/가수]인 채널의 ‘구독자수’ 상위 5개를 출력하시오.\n",
    "    - ⑥ ‘카테고리가’ [TV/방송]이거나 [게임]인 채널의 개수를 출력하시오.\n",
    "    - ⑦ ‘채널명’에 ‘KBS’가 포함된 채널 명을 출력하시오.\n",
    "    - ⑧ ‘카테고리’별 ‘구독자수’, ‘조회수’, ‘영상개수’의 평균을 출력하시오."
   ]
  },
  {
   "cell_type": "code",
   "execution_count": 287,
   "id": "c3011b38",
   "metadata": {},
   "outputs": [],
   "source": [
    "data = pd.read_csv('youtube_rank.csv')"
   ]
  },
  {
   "cell_type": "code",
   "execution_count": 288,
   "id": "57d2f1f4",
   "metadata": {},
   "outputs": [
    {
     "data": {
      "text/html": [
       "<div>\n",
       "<style scoped>\n",
       "    .dataframe tbody tr th:only-of-type {\n",
       "        vertical-align: middle;\n",
       "    }\n",
       "\n",
       "    .dataframe tbody tr th {\n",
       "        vertical-align: top;\n",
       "    }\n",
       "\n",
       "    .dataframe thead th {\n",
       "        text-align: right;\n",
       "    }\n",
       "</style>\n",
       "<table border=\"1\" class=\"dataframe\">\n",
       "  <thead>\n",
       "    <tr style=\"text-align: right;\">\n",
       "      <th></th>\n",
       "      <th>title</th>\n",
       "      <th>category</th>\n",
       "      <th>subscriber</th>\n",
       "      <th>view</th>\n",
       "      <th>video</th>\n",
       "    </tr>\n",
       "  </thead>\n",
       "  <tbody>\n",
       "    <tr>\n",
       "      <th>0</th>\n",
       "      <td>BLACKPINK</td>\n",
       "      <td>[음악/댄스/가수]</td>\n",
       "      <td>5140만</td>\n",
       "      <td>128억5130만</td>\n",
       "      <td>319개</td>\n",
       "    </tr>\n",
       "    <tr>\n",
       "      <th>1</th>\n",
       "      <td>Big Hit Labels</td>\n",
       "      <td>[음악/댄스/가수]</td>\n",
       "      <td>4550만</td>\n",
       "      <td>120억8966만</td>\n",
       "      <td>433개</td>\n",
       "    </tr>\n",
       "    <tr>\n",
       "      <th>2</th>\n",
       "      <td>BANGTANTV</td>\n",
       "      <td>[음악/댄스/가수]</td>\n",
       "      <td>3870만</td>\n",
       "      <td>54억7598만</td>\n",
       "      <td>1,319개</td>\n",
       "    </tr>\n",
       "    <tr>\n",
       "      <th>3</th>\n",
       "      <td>Boram Tube Vlog [보람튜브 브이로그]</td>\n",
       "      <td>[키즈/어린이]</td>\n",
       "      <td>2650만</td>\n",
       "      <td>110억5288만</td>\n",
       "      <td>223개</td>\n",
       "    </tr>\n",
       "    <tr>\n",
       "      <th>4</th>\n",
       "      <td>SMTOWN</td>\n",
       "      <td>[음악/댄스/가수]</td>\n",
       "      <td>2450만</td>\n",
       "      <td>180억7532만</td>\n",
       "      <td>3,583개</td>\n",
       "    </tr>\n",
       "    <tr>\n",
       "      <th>...</th>\n",
       "      <td>...</td>\n",
       "      <td>...</td>\n",
       "      <td>...</td>\n",
       "      <td>...</td>\n",
       "      <td>...</td>\n",
       "    </tr>\n",
       "    <tr>\n",
       "      <th>995</th>\n",
       "      <td>Ranking World</td>\n",
       "      <td>[미분류]</td>\n",
       "      <td>40만</td>\n",
       "      <td>1억2752만</td>\n",
       "      <td>503개</td>\n",
       "    </tr>\n",
       "    <tr>\n",
       "      <th>996</th>\n",
       "      <td>급식걸즈</td>\n",
       "      <td>[취미/라이프]</td>\n",
       "      <td>40만</td>\n",
       "      <td>2억3901만</td>\n",
       "      <td>226개</td>\n",
       "    </tr>\n",
       "    <tr>\n",
       "      <th>997</th>\n",
       "      <td>OCN</td>\n",
       "      <td>[TV/방송]</td>\n",
       "      <td>40만</td>\n",
       "      <td>3억4583만</td>\n",
       "      <td>10,071개</td>\n",
       "    </tr>\n",
       "    <tr>\n",
       "      <th>998</th>\n",
       "      <td>Bravo jamoasi</td>\n",
       "      <td>[미분류]</td>\n",
       "      <td>40만</td>\n",
       "      <td>6193만</td>\n",
       "      <td>25개</td>\n",
       "    </tr>\n",
       "    <tr>\n",
       "      <th>999</th>\n",
       "      <td>덕출 : DCTVGO</td>\n",
       "      <td>[TV/방송]</td>\n",
       "      <td>40만</td>\n",
       "      <td>8249만</td>\n",
       "      <td>202개</td>\n",
       "    </tr>\n",
       "  </tbody>\n",
       "</table>\n",
       "<p>1000 rows × 5 columns</p>\n",
       "</div>"
      ],
      "text/plain": [
       "                           title    category subscriber       view    video\n",
       "0                      BLACKPINK  [음악/댄스/가수]      5140만  128억5130만     319개\n",
       "1                 Big Hit Labels  [음악/댄스/가수]      4550만  120억8966만     433개\n",
       "2                      BANGTANTV  [음악/댄스/가수]      3870만   54억7598만   1,319개\n",
       "3    Boram Tube Vlog [보람튜브 브이로그]    [키즈/어린이]      2650만  110억5288만     223개\n",
       "4                         SMTOWN  [음악/댄스/가수]      2450만  180억7532만   3,583개\n",
       "..                           ...         ...        ...        ...      ...\n",
       "995                Ranking World       [미분류]        40만    1억2752만     503개\n",
       "996                         급식걸즈    [취미/라이프]        40만    2억3901만     226개\n",
       "997                          OCN     [TV/방송]        40만    3억4583만  10,071개\n",
       "998                Bravo jamoasi       [미분류]        40만      6193만      25개\n",
       "999                  덕출 : DCTVGO     [TV/방송]        40만      8249만     202개\n",
       "\n",
       "[1000 rows x 5 columns]"
      ]
     },
     "execution_count": 288,
     "metadata": {},
     "output_type": "execute_result"
    }
   ],
   "source": [
    "data"
   ]
  },
  {
   "cell_type": "markdown",
   "id": "d5d746b8",
   "metadata": {},
   "source": [
    "① 컬럼의 이름을 다음과 같이 변경하시오\n"
   ]
  },
  {
   "cell_type": "code",
   "execution_count": 289,
   "id": "bee89aff",
   "metadata": {},
   "outputs": [
    {
     "data": {
      "text/plain": [
       "Index(['채널명', '카테고리', '구독자수', '조회수', '영상개수'], dtype='object')"
      ]
     },
     "execution_count": 289,
     "metadata": {},
     "output_type": "execute_result"
    }
   ],
   "source": [
    "data.columns = ['채널명', '카테고리', '구독자수', '조회수', '영상개수']\n",
    "data.columns"
   ]
  },
  {
   "cell_type": "markdown",
   "id": "39b2e81e",
   "metadata": {},
   "source": [
    "② ‘구독자수’ 컬럼과 ‘조회수’ 컬럼의 타입을 정수형(int64)로 변경하시오 (‘억’,’만’ 한글을 삭제 후 숫자로 변경)"
   ]
  },
  {
   "cell_type": "code",
   "execution_count": 290,
   "id": "9370a3a3",
   "metadata": {},
   "outputs": [],
   "source": [
    "data['구독자수'] = data['구독자수'].str.replace('만', '', regex=False)\n",
    "data['구독자수'] = data['구독자수'].str.replace('억', '', regex=False)\n",
    "data['조회수'] = data['조회수'].str.replace('만', '', regex=False)\n",
    "data['조회수'] = data['조회수'].str.replace('억', '', regex=False)\n",
    "\n",
    "data['구독자수'] = data['구독자수'].astype('int64')\n",
    "data['조회수'] = data['조회수'].astype('int64')"
   ]
  },
  {
   "cell_type": "markdown",
   "id": "00694e6c",
   "metadata": {},
   "source": [
    "③ ‘영상개수’ 컬럼의 ‘,’와 ‘개’문자를 제거하고 정수형(int32)로 변경하시오."
   ]
  },
  {
   "cell_type": "code",
   "execution_count": 291,
   "id": "7ad18224",
   "metadata": {},
   "outputs": [],
   "source": [
    "data['영상개수'] = data['영상개수'].str.replace(',', '', regex=False)\n",
    "data['영상개수'] = data['영상개수'].str.replace('개', '', regex=False)\n",
    "data['영상개수'] = data['영상개수'].astype('int32')"
   ]
  },
  {
   "cell_type": "markdown",
   "id": "6abad5ce",
   "metadata": {},
   "source": [
    "④ 인기 채널 확인하기\n",
    "    ◼’구독자수’와 ‘조회수’가 많은 5개의 채널을 각각 출력하시오."
   ]
  },
  {
   "cell_type": "code",
   "execution_count": 292,
   "id": "937acab4",
   "metadata": {},
   "outputs": [
    {
     "data": {
      "text/html": [
       "<div>\n",
       "<style scoped>\n",
       "    .dataframe tbody tr th:only-of-type {\n",
       "        vertical-align: middle;\n",
       "    }\n",
       "\n",
       "    .dataframe tbody tr th {\n",
       "        vertical-align: top;\n",
       "    }\n",
       "\n",
       "    .dataframe thead th {\n",
       "        text-align: right;\n",
       "    }\n",
       "</style>\n",
       "<table border=\"1\" class=\"dataframe\">\n",
       "  <thead>\n",
       "    <tr style=\"text-align: right;\">\n",
       "      <th></th>\n",
       "      <th>채널명</th>\n",
       "      <th>카테고리</th>\n",
       "      <th>구독자수</th>\n",
       "      <th>조회수</th>\n",
       "      <th>영상개수</th>\n",
       "    </tr>\n",
       "  </thead>\n",
       "  <tbody>\n",
       "    <tr>\n",
       "      <th>0</th>\n",
       "      <td>BLACKPINK</td>\n",
       "      <td>[음악/댄스/가수]</td>\n",
       "      <td>5140</td>\n",
       "      <td>1285130</td>\n",
       "      <td>319</td>\n",
       "    </tr>\n",
       "    <tr>\n",
       "      <th>1</th>\n",
       "      <td>Big Hit Labels</td>\n",
       "      <td>[음악/댄스/가수]</td>\n",
       "      <td>4550</td>\n",
       "      <td>1208966</td>\n",
       "      <td>433</td>\n",
       "    </tr>\n",
       "    <tr>\n",
       "      <th>2</th>\n",
       "      <td>BANGTANTV</td>\n",
       "      <td>[음악/댄스/가수]</td>\n",
       "      <td>3870</td>\n",
       "      <td>547598</td>\n",
       "      <td>1319</td>\n",
       "    </tr>\n",
       "    <tr>\n",
       "      <th>3</th>\n",
       "      <td>Boram Tube Vlog [보람튜브 브이로그]</td>\n",
       "      <td>[키즈/어린이]</td>\n",
       "      <td>2650</td>\n",
       "      <td>1105288</td>\n",
       "      <td>223</td>\n",
       "    </tr>\n",
       "    <tr>\n",
       "      <th>4</th>\n",
       "      <td>SMTOWN</td>\n",
       "      <td>[음악/댄스/가수]</td>\n",
       "      <td>2450</td>\n",
       "      <td>1807532</td>\n",
       "      <td>3583</td>\n",
       "    </tr>\n",
       "  </tbody>\n",
       "</table>\n",
       "</div>"
      ],
      "text/plain": [
       "                           채널명        카테고리  구독자수      조회수  영상개수\n",
       "0                    BLACKPINK  [음악/댄스/가수]  5140  1285130   319\n",
       "1               Big Hit Labels  [음악/댄스/가수]  4550  1208966   433\n",
       "2                    BANGTANTV  [음악/댄스/가수]  3870   547598  1319\n",
       "3  Boram Tube Vlog [보람튜브 브이로그]    [키즈/어린이]  2650  1105288   223\n",
       "4                       SMTOWN  [음악/댄스/가수]  2450  1807532  3583"
      ]
     },
     "execution_count": 292,
     "metadata": {},
     "output_type": "execute_result"
    }
   ],
   "source": [
    "data.sort_values('구독자수', ascending=False).head(5)"
   ]
  },
  {
   "cell_type": "code",
   "execution_count": 293,
   "id": "0991e4ce",
   "metadata": {},
   "outputs": [
    {
     "data": {
      "text/html": [
       "<div>\n",
       "<style scoped>\n",
       "    .dataframe tbody tr th:only-of-type {\n",
       "        vertical-align: middle;\n",
       "    }\n",
       "\n",
       "    .dataframe tbody tr th {\n",
       "        vertical-align: top;\n",
       "    }\n",
       "\n",
       "    .dataframe thead th {\n",
       "        text-align: right;\n",
       "    }\n",
       "</style>\n",
       "<table border=\"1\" class=\"dataframe\">\n",
       "  <thead>\n",
       "    <tr style=\"text-align: right;\">\n",
       "      <th></th>\n",
       "      <th>채널명</th>\n",
       "      <th>카테고리</th>\n",
       "      <th>구독자수</th>\n",
       "      <th>조회수</th>\n",
       "      <th>영상개수</th>\n",
       "    </tr>\n",
       "  </thead>\n",
       "  <tbody>\n",
       "    <tr>\n",
       "      <th>4</th>\n",
       "      <td>SMTOWN</td>\n",
       "      <td>[음악/댄스/가수]</td>\n",
       "      <td>2450</td>\n",
       "      <td>1807532</td>\n",
       "      <td>3583</td>\n",
       "    </tr>\n",
       "    <tr>\n",
       "      <th>6</th>\n",
       "      <td>1theK (원더케이)</td>\n",
       "      <td>[음악/댄스/가수]</td>\n",
       "      <td>2090</td>\n",
       "      <td>1786042</td>\n",
       "      <td>13291</td>\n",
       "    </tr>\n",
       "    <tr>\n",
       "      <th>8</th>\n",
       "      <td>ArianaGrandeVevo</td>\n",
       "      <td>[음악/댄스/가수]</td>\n",
       "      <td>1820</td>\n",
       "      <td>1479692</td>\n",
       "      <td>112</td>\n",
       "    </tr>\n",
       "    <tr>\n",
       "      <th>0</th>\n",
       "      <td>BLACKPINK</td>\n",
       "      <td>[음악/댄스/가수]</td>\n",
       "      <td>5140</td>\n",
       "      <td>1285130</td>\n",
       "      <td>319</td>\n",
       "    </tr>\n",
       "    <tr>\n",
       "      <th>1</th>\n",
       "      <td>Big Hit Labels</td>\n",
       "      <td>[음악/댄스/가수]</td>\n",
       "      <td>4550</td>\n",
       "      <td>1208966</td>\n",
       "      <td>433</td>\n",
       "    </tr>\n",
       "  </tbody>\n",
       "</table>\n",
       "</div>"
      ],
      "text/plain": [
       "                채널명        카테고리  구독자수      조회수   영상개수\n",
       "4            SMTOWN  [음악/댄스/가수]  2450  1807532   3583\n",
       "6      1theK (원더케이)  [음악/댄스/가수]  2090  1786042  13291\n",
       "8  ArianaGrandeVevo  [음악/댄스/가수]  1820  1479692    112\n",
       "0         BLACKPINK  [음악/댄스/가수]  5140  1285130    319\n",
       "1    Big Hit Labels  [음악/댄스/가수]  4550  1208966    433"
      ]
     },
     "execution_count": 293,
     "metadata": {},
     "output_type": "execute_result"
    }
   ],
   "source": [
    "data.sort_values('조회수', ascending=False).head(5)"
   ]
  },
  {
   "cell_type": "markdown",
   "id": "b4df605e",
   "metadata": {},
   "source": [
    "⑤ ‘카테고리’가 [음악/댄스/가수]인 채널의 ‘구독자수’ 상위 5개를 출력하시오."
   ]
  },
  {
   "cell_type": "code",
   "execution_count": 294,
   "id": "fde9c137",
   "metadata": {},
   "outputs": [
    {
     "data": {
      "text/html": [
       "<div>\n",
       "<style scoped>\n",
       "    .dataframe tbody tr th:only-of-type {\n",
       "        vertical-align: middle;\n",
       "    }\n",
       "\n",
       "    .dataframe tbody tr th {\n",
       "        vertical-align: top;\n",
       "    }\n",
       "\n",
       "    .dataframe thead th {\n",
       "        text-align: right;\n",
       "    }\n",
       "</style>\n",
       "<table border=\"1\" class=\"dataframe\">\n",
       "  <thead>\n",
       "    <tr style=\"text-align: right;\">\n",
       "      <th></th>\n",
       "      <th>채널명</th>\n",
       "      <th>카테고리</th>\n",
       "      <th>구독자수</th>\n",
       "      <th>조회수</th>\n",
       "      <th>영상개수</th>\n",
       "    </tr>\n",
       "  </thead>\n",
       "  <tbody>\n",
       "    <tr>\n",
       "      <th>0</th>\n",
       "      <td>BLACKPINK</td>\n",
       "      <td>[음악/댄스/가수]</td>\n",
       "      <td>5140</td>\n",
       "      <td>1285130</td>\n",
       "      <td>319</td>\n",
       "    </tr>\n",
       "    <tr>\n",
       "      <th>1</th>\n",
       "      <td>Big Hit Labels</td>\n",
       "      <td>[음악/댄스/가수]</td>\n",
       "      <td>4550</td>\n",
       "      <td>1208966</td>\n",
       "      <td>433</td>\n",
       "    </tr>\n",
       "    <tr>\n",
       "      <th>2</th>\n",
       "      <td>BANGTANTV</td>\n",
       "      <td>[음악/댄스/가수]</td>\n",
       "      <td>3870</td>\n",
       "      <td>547598</td>\n",
       "      <td>1319</td>\n",
       "    </tr>\n",
       "    <tr>\n",
       "      <th>4</th>\n",
       "      <td>SMTOWN</td>\n",
       "      <td>[음악/댄스/가수]</td>\n",
       "      <td>2450</td>\n",
       "      <td>1807532</td>\n",
       "      <td>3583</td>\n",
       "    </tr>\n",
       "    <tr>\n",
       "      <th>5</th>\n",
       "      <td>1MILLION Dance Studio</td>\n",
       "      <td>[음악/댄스/가수]</td>\n",
       "      <td>2230</td>\n",
       "      <td>575358</td>\n",
       "      <td>2205</td>\n",
       "    </tr>\n",
       "  </tbody>\n",
       "</table>\n",
       "</div>"
      ],
      "text/plain": [
       "                     채널명        카테고리  구독자수      조회수  영상개수\n",
       "0              BLACKPINK  [음악/댄스/가수]  5140  1285130   319\n",
       "1         Big Hit Labels  [음악/댄스/가수]  4550  1208966   433\n",
       "2              BANGTANTV  [음악/댄스/가수]  3870   547598  1319\n",
       "4                 SMTOWN  [음악/댄스/가수]  2450  1807532  3583\n",
       "5  1MILLION Dance Studio  [음악/댄스/가수]  2230   575358  2205"
      ]
     },
     "execution_count": 294,
     "metadata": {},
     "output_type": "execute_result"
    }
   ],
   "source": [
    "data[data['카테고리'] == '[음악/댄스/가수]'].sort_values('구독자수', ascending=False).head(5)"
   ]
  },
  {
   "cell_type": "markdown",
   "id": "5af54103",
   "metadata": {},
   "source": [
    "⑥ ‘카테고리가’ [TV/방송]이거나 [게임]인 채널의 개수를 출력하시오."
   ]
  },
  {
   "cell_type": "code",
   "execution_count": 295,
   "id": "5c473791",
   "metadata": {},
   "outputs": [
    {
     "name": "stdout",
     "output_type": "stream",
     "text": [
      "카테고리가 [TV/방송]이거나 [게임]인 채널의 개수\n",
      "262\n"
     ]
    }
   ],
   "source": [
    "category = data[np.logical_or(data['카테고리'] == '[TV/방송]', data['카테고리'] == '[게임]')]\n",
    "print('카테고리가 [TV/방송]이거나 [게임]인 채널의 개수')\n",
    "print(len(category))"
   ]
  },
  {
   "cell_type": "markdown",
   "id": "aa7d0672",
   "metadata": {},
   "source": [
    "⑦ ‘채널명’에 ‘KBS’가 포함된 채널 명을 출력하시오"
   ]
  },
  {
   "cell_type": "code",
   "execution_count": 24,
   "id": "7241969a",
   "metadata": {},
   "outputs": [
    {
     "data": {
      "text/html": [
       "<div>\n",
       "<style scoped>\n",
       "    .dataframe tbody tr th:only-of-type {\n",
       "        vertical-align: middle;\n",
       "    }\n",
       "\n",
       "    .dataframe tbody tr th {\n",
       "        vertical-align: top;\n",
       "    }\n",
       "\n",
       "    .dataframe thead th {\n",
       "        text-align: right;\n",
       "    }\n",
       "</style>\n",
       "<table border=\"1\" class=\"dataframe\">\n",
       "  <thead>\n",
       "    <tr style=\"text-align: right;\">\n",
       "      <th></th>\n",
       "      <th>채널명</th>\n",
       "      <th>카테고리</th>\n",
       "      <th>구독자수</th>\n",
       "      <th>조회수</th>\n",
       "      <th>영상개수</th>\n",
       "    </tr>\n",
       "  </thead>\n",
       "  <tbody>\n",
       "  </tbody>\n",
       "</table>\n",
       "</div>"
      ],
      "text/plain": [
       "Empty DataFrame\n",
       "Columns: [채널명, 카테고리, 구독자수, 조회수, 영상개수]\n",
       "Index: []"
      ]
     },
     "execution_count": 24,
     "metadata": {},
     "output_type": "execute_result"
    }
   ],
   "source": [
    "data[data['채널명'].isin(['KBS'])]"
   ]
  },
  {
   "cell_type": "markdown",
   "id": "12425742",
   "metadata": {},
   "source": [
    "⑧ ‘카테고리’별 ‘구독자수’, ‘조회수’, ‘영상개수’의 평균을 출력하시오."
   ]
  },
  {
   "cell_type": "code",
   "execution_count": 296,
   "id": "0c13356c",
   "metadata": {},
   "outputs": [
    {
     "data": {
      "text/html": [
       "<div>\n",
       "<style scoped>\n",
       "    .dataframe tbody tr th:only-of-type {\n",
       "        vertical-align: middle;\n",
       "    }\n",
       "\n",
       "    .dataframe tbody tr th {\n",
       "        vertical-align: top;\n",
       "    }\n",
       "\n",
       "    .dataframe thead th {\n",
       "        text-align: right;\n",
       "    }\n",
       "</style>\n",
       "<table border=\"1\" class=\"dataframe\">\n",
       "  <thead>\n",
       "    <tr style=\"text-align: right;\">\n",
       "      <th></th>\n",
       "      <th>구독자수</th>\n",
       "      <th>조회수</th>\n",
       "      <th>영상개수</th>\n",
       "    </tr>\n",
       "    <tr>\n",
       "      <th>카테고리</th>\n",
       "      <th></th>\n",
       "      <th></th>\n",
       "      <th></th>\n",
       "    </tr>\n",
       "  </thead>\n",
       "  <tbody>\n",
       "    <tr>\n",
       "      <th>[BJ/인물/연예인]</th>\n",
       "      <td>127.44</td>\n",
       "      <td>41015.49</td>\n",
       "      <td>837.74</td>\n",
       "    </tr>\n",
       "    <tr>\n",
       "      <th>[IT/기술/컴퓨터]</th>\n",
       "      <td>80.62</td>\n",
       "      <td>17661.00</td>\n",
       "      <td>1200.12</td>\n",
       "    </tr>\n",
       "    <tr>\n",
       "      <th>[TV/방송]</th>\n",
       "      <td>121.99</td>\n",
       "      <td>71848.34</td>\n",
       "      <td>9025.13</td>\n",
       "    </tr>\n",
       "    <tr>\n",
       "      <th>[게임]</th>\n",
       "      <td>74.36</td>\n",
       "      <td>45425.35</td>\n",
       "      <td>2527.01</td>\n",
       "    </tr>\n",
       "    <tr>\n",
       "      <th>[교육/강의]</th>\n",
       "      <td>85.13</td>\n",
       "      <td>17721.83</td>\n",
       "      <td>837.91</td>\n",
       "    </tr>\n",
       "    <tr>\n",
       "      <th>[국내/해외/여행]</th>\n",
       "      <td>62.60</td>\n",
       "      <td>18662.40</td>\n",
       "      <td>830.20</td>\n",
       "    </tr>\n",
       "    <tr>\n",
       "      <th>[뉴스/정치/사회]</th>\n",
       "      <td>122.70</td>\n",
       "      <td>119993.55</td>\n",
       "      <td>42048.09</td>\n",
       "    </tr>\n",
       "    <tr>\n",
       "      <th>[미분류]</th>\n",
       "      <td>142.95</td>\n",
       "      <td>40903.40</td>\n",
       "      <td>778.05</td>\n",
       "    </tr>\n",
       "    <tr>\n",
       "      <th>[스포츠/운동]</th>\n",
       "      <td>93.25</td>\n",
       "      <td>27918.92</td>\n",
       "      <td>3954.92</td>\n",
       "    </tr>\n",
       "    <tr>\n",
       "      <th>[애완/반려동물]</th>\n",
       "      <td>116.10</td>\n",
       "      <td>42131.70</td>\n",
       "      <td>786.25</td>\n",
       "    </tr>\n",
       "    <tr>\n",
       "      <th>[영화/만화/애니]</th>\n",
       "      <td>85.27</td>\n",
       "      <td>31858.70</td>\n",
       "      <td>770.18</td>\n",
       "    </tr>\n",
       "    <tr>\n",
       "      <th>[음식/요리/레시피]</th>\n",
       "      <td>161.20</td>\n",
       "      <td>40738.19</td>\n",
       "      <td>830.02</td>\n",
       "    </tr>\n",
       "    <tr>\n",
       "      <th>[음악/댄스/가수]</th>\n",
       "      <td>319.52</td>\n",
       "      <td>109166.85</td>\n",
       "      <td>1382.05</td>\n",
       "    </tr>\n",
       "    <tr>\n",
       "      <th>[자동차]</th>\n",
       "      <td>49.00</td>\n",
       "      <td>18561.50</td>\n",
       "      <td>670.00</td>\n",
       "    </tr>\n",
       "    <tr>\n",
       "      <th>[주식/경제/부동산]</th>\n",
       "      <td>62.60</td>\n",
       "      <td>6800.00</td>\n",
       "      <td>1026.40</td>\n",
       "    </tr>\n",
       "    <tr>\n",
       "      <th>[취미/라이프]</th>\n",
       "      <td>97.45</td>\n",
       "      <td>20431.18</td>\n",
       "      <td>359.32</td>\n",
       "    </tr>\n",
       "    <tr>\n",
       "      <th>[취미]</th>\n",
       "      <td>56.00</td>\n",
       "      <td>10615.00</td>\n",
       "      <td>237.00</td>\n",
       "    </tr>\n",
       "    <tr>\n",
       "      <th>[키즈/어린이]</th>\n",
       "      <td>272.92</td>\n",
       "      <td>128138.43</td>\n",
       "      <td>1069.16</td>\n",
       "    </tr>\n",
       "    <tr>\n",
       "      <th>[패션/미용]</th>\n",
       "      <td>82.39</td>\n",
       "      <td>10437.74</td>\n",
       "      <td>313.16</td>\n",
       "    </tr>\n",
       "    <tr>\n",
       "      <th>[해외]</th>\n",
       "      <td>159.50</td>\n",
       "      <td>83825.33</td>\n",
       "      <td>5043.50</td>\n",
       "    </tr>\n",
       "    <tr>\n",
       "      <th>[회사/오피셜]</th>\n",
       "      <td>220.25</td>\n",
       "      <td>49661.25</td>\n",
       "      <td>2084.25</td>\n",
       "    </tr>\n",
       "  </tbody>\n",
       "</table>\n",
       "</div>"
      ],
      "text/plain": [
       "               구독자수        조회수      영상개수\n",
       "카테고리                                    \n",
       "[BJ/인물/연예인]  127.44   41015.49    837.74\n",
       "[IT/기술/컴퓨터]   80.62   17661.00   1200.12\n",
       "[TV/방송]      121.99   71848.34   9025.13\n",
       "[게임]          74.36   45425.35   2527.01\n",
       "[교육/강의]       85.13   17721.83    837.91\n",
       "[국내/해외/여행]    62.60   18662.40    830.20\n",
       "[뉴스/정치/사회]   122.70  119993.55  42048.09\n",
       "[미분류]        142.95   40903.40    778.05\n",
       "[스포츠/운동]      93.25   27918.92   3954.92\n",
       "[애완/반려동물]    116.10   42131.70    786.25\n",
       "[영화/만화/애니]    85.27   31858.70    770.18\n",
       "[음식/요리/레시피]  161.20   40738.19    830.02\n",
       "[음악/댄스/가수]   319.52  109166.85   1382.05\n",
       "[자동차]         49.00   18561.50    670.00\n",
       "[주식/경제/부동산]   62.60    6800.00   1026.40\n",
       "[취미/라이프]      97.45   20431.18    359.32\n",
       "[취미]          56.00   10615.00    237.00\n",
       "[키즈/어린이]     272.92  128138.43   1069.16\n",
       "[패션/미용]       82.39   10437.74    313.16\n",
       "[해외]         159.50   83825.33   5043.50\n",
       "[회사/오피셜]     220.25   49661.25   2084.25"
      ]
     },
     "execution_count": 296,
     "metadata": {},
     "output_type": "execute_result"
    }
   ],
   "source": [
    "data.groupby('카테고리')[['구독자수', '조회수', '영상개수']].mean().round(2)"
   ]
  }
 ],
 "metadata": {
  "kernelspec": {
   "display_name": "Python 3 (ipykernel)",
   "language": "python",
   "name": "python3"
  },
  "language_info": {
   "codemirror_mode": {
    "name": "ipython",
    "version": 3
   },
   "file_extension": ".py",
   "mimetype": "text/x-python",
   "name": "python",
   "nbconvert_exporter": "python",
   "pygments_lexer": "ipython3",
   "version": "3.9.13"
  },
  "toc": {
   "base_numbering": 1,
   "nav_menu": {},
   "number_sections": true,
   "sideBar": true,
   "skip_h1_title": false,
   "title_cell": "Table of Contents",
   "title_sidebar": "Contents",
   "toc_cell": false,
   "toc_position": {
    "height": "calc(100% - 180px)",
    "left": "10px",
    "top": "150px",
    "width": "257.225px"
   },
   "toc_section_display": true,
   "toc_window_display": false
  }
 },
 "nbformat": 4,
 "nbformat_minor": 5
}
