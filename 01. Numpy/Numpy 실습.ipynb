{
 "cells": [
  {
   "cell_type": "markdown",
   "id": "efcec455",
   "metadata": {},
   "source": [
    "Day_0502\n",
    "- numpy : 넘파이 객체\n",
    "- ndarray : 다차원 배열 객체"
   ]
  },
  {
   "cell_type": "markdown",
   "id": "58ba4f1d",
   "metadata": {},
   "source": [
    "# Python 다차원 배열의 이해"
   ]
  },
  {
   "cell_type": "markdown",
   "id": "287e6b84",
   "metadata": {},
   "source": [
    "## 숫자 자료형\n",
    "- python에서는 숫자형 변수로 데이터를 표현할 수 있다."
   ]
  },
  {
   "cell_type": "code",
   "execution_count": 1,
   "id": "f4e33db7",
   "metadata": {},
   "outputs": [],
   "source": [
    "# 세 명의 학생의 수학과목 점수 선언\n",
    "math1 = 11\n",
    "math2 = 12\n",
    "math3 = 13"
   ]
  },
  {
   "cell_type": "code",
   "execution_count": 2,
   "id": "308a8603",
   "metadata": {},
   "outputs": [
    {
     "name": "stdout",
     "output_type": "stream",
     "text": [
      "수학점수 합 : 36\n",
      "수학점수 평균 : 12.00\n"
     ]
    }
   ],
   "source": [
    "# 합과 평균구하기\n",
    "total = math1 + math2 + math3\n",
    "avg = total / 3\n",
    "print(f'수학점수 합 : {total}')\n",
    "print(f'수학점수 평균 : {avg:.2f}')"
   ]
  },
  {
   "cell_type": "markdown",
   "id": "7c089dae",
   "metadata": {},
   "source": [
    "- 새로 전학온 학생의 수학 점수가 추가가 된다면?\n",
    "- 새로운 변수 선언과 합과 평균을 구하는 코드를 수정해야 할 필요가 생김"
   ]
  },
  {
   "cell_type": "code",
   "execution_count": 3,
   "id": "ca0bd98a",
   "metadata": {},
   "outputs": [
    {
     "name": "stdout",
     "output_type": "stream",
     "text": [
      "수학점수 합 : 50\n",
      "수학점수 평균 : 12.50\n"
     ]
    }
   ],
   "source": [
    "math4 = 14\n",
    "total = math1 + math2 + math3 + math4\n",
    "avg = total / 4\n",
    "print(f'수학점수 합 : {total}')\n",
    "print(f'수학점수 평균 : {avg:.2f}')"
   ]
  },
  {
   "cell_type": "markdown",
   "id": "7144e263",
   "metadata": {},
   "source": [
    "## 리스트 자료형"
   ]
  },
  {
   "cell_type": "code",
   "execution_count": 4,
   "id": "712b8078",
   "metadata": {},
   "outputs": [
    {
     "name": "stdout",
     "output_type": "stream",
     "text": [
      "수학점수 합 : 36\n",
      "수학점수 평균 : 12.00\n"
     ]
    }
   ],
   "source": [
    "math_list = [11, 12, 13]\n",
    "total = 0\n",
    "avg = 0\n",
    "\n",
    "for math in math_list:\n",
    "    total += math\n",
    "avg = total / len(math_list)\n",
    "\n",
    "print(f'수학점수 합 : {total}')\n",
    "print(f'수학점수 평균 : {avg:.2f}')"
   ]
  },
  {
   "cell_type": "code",
   "execution_count": 5,
   "id": "5dd08107",
   "metadata": {},
   "outputs": [
    {
     "name": "stdout",
     "output_type": "stream",
     "text": [
      "수학점수 합 : 50\n",
      "수학점수 평균 : 12.50\n"
     ]
    }
   ],
   "source": [
    "# 전학온 4번째 학생의 수학점수 추가\n",
    "math_list.append(14)\n",
    "\n",
    "total = 0\n",
    "avg = 0\n",
    "\n",
    "for math in math_list:\n",
    "    total += math\n",
    "avg = total / len(math_list)\n",
    "\n",
    "print(f'수학점수 합 : {total}')\n",
    "print(f'수학점수 평균 : {avg:.2f}')"
   ]
  },
  {
   "cell_type": "markdown",
   "id": "0b91f459",
   "metadata": {},
   "source": [
    "- 그런데 시험 문제에 오류가 발견되어 모든 학생의 점수를 1점씩 올려줘야 하는 상황이 발생된다면..?"
   ]
  },
  {
   "cell_type": "code",
   "execution_count": 6,
   "id": "61fc36bd",
   "metadata": {},
   "outputs": [
    {
     "name": "stdout",
     "output_type": "stream",
     "text": [
      "[12, 13, 14, 15]\n"
     ]
    }
   ],
   "source": [
    "# list comprehension\n",
    "math_list = [math+1 for math in math_list]\n",
    "print(math_list)"
   ]
  },
  {
   "cell_type": "markdown",
   "id": "57fc8f5d",
   "metadata": {},
   "source": [
    "- 여기서 구조를 확장해서...\n",
    "- 1반의 점수가 11, 12, 13\n",
    "- 2반의 점수가 21, 22, 23\n",
    "- 3반의 점수가 31, 32, 33"
   ]
  },
  {
   "cell_type": "code",
   "execution_count": 7,
   "id": "cadcb994",
   "metadata": {},
   "outputs": [
    {
     "name": "stdout",
     "output_type": "stream",
     "text": [
      "[[11, 12, 13], [21, 22, 23], [31, 32, 33]]\n"
     ]
    }
   ],
   "source": [
    "nested_math_list = [[11, 12, 13],\n",
    "                    [21, 22, 23],\n",
    "                    [31, 32, 33]]\n",
    "print(nested_math_list)"
   ]
  },
  {
   "cell_type": "markdown",
   "id": "121b1fad",
   "metadata": {},
   "source": [
    "- <font color='red'>[문제점]</font>\n",
    "    - 자료의 구조가 중첩되면 반복문도 중첩해서 사용해야 한다.\n",
    "    - 자료의 충접이 증가할수록 코드는 복잡해질 수밖에 없다."
   ]
  },
  {
   "cell_type": "markdown",
   "id": "3e325045",
   "metadata": {},
   "source": [
    "## Numpy로 구현한 다차원 배열\n",
    "- **Numpy**를 사용하면 중첩된 자료구조를 효울적으로 다룰 수 있다.\n",
    "- `import numpy as np` 형태로 사용하는게 일반적이다."
   ]
  },
  {
   "cell_type": "code",
   "execution_count": 8,
   "id": "e1346ff6",
   "metadata": {
    "scrolled": true
   },
   "outputs": [],
   "source": [
    "#!pip list"
   ]
  },
  {
   "cell_type": "code",
   "execution_count": 2,
   "id": "dc2b1a27",
   "metadata": {},
   "outputs": [],
   "source": [
    "import numpy as np"
   ]
  },
  {
   "cell_type": "code",
   "execution_count": 10,
   "id": "381ed7a3",
   "metadata": {},
   "outputs": [
    {
     "name": "stdout",
     "output_type": "stream",
     "text": [
      "[[11 12 13]\n",
      " [21 22 23]\n",
      " [31 32 33]]\n",
      "<class 'numpy.ndarray'>\n"
     ]
    }
   ],
   "source": [
    "# 파이썬 리스트를 이용한 넘파이 다차원배열 생성\n",
    "math_ndarray = np.array(nested_math_list)\n",
    "\n",
    "print(math_ndarray)\n",
    "print(type(math_ndarray))"
   ]
  },
  {
   "cell_type": "markdown",
   "id": "067fc4be",
   "metadata": {},
   "source": [
    "- 각 원소에 1을 더하려면..."
   ]
  },
  {
   "cell_type": "code",
   "execution_count": 11,
   "id": "abf0a08f",
   "metadata": {},
   "outputs": [
    {
     "name": "stdout",
     "output_type": "stream",
     "text": [
      "[[12 13 14]\n",
      " [22 23 24]\n",
      " [32 33 34]]\n"
     ]
    }
   ],
   "source": [
    "# BroadCasting\n",
    "new_ndarray = math_ndarray + 1\n",
    "print(new_ndarray)"
   ]
  },
  {
   "cell_type": "markdown",
   "id": "76913539",
   "metadata": {},
   "source": [
    "- Numpy에 구현된 함수를 이용해서 합이난 평균도 쉽게 구할 수 있다."
   ]
  },
  {
   "cell_type": "code",
   "execution_count": 12,
   "id": "192f122d",
   "metadata": {},
   "outputs": [
    {
     "data": {
      "text/plain": [
       "198"
      ]
     },
     "execution_count": 12,
     "metadata": {},
     "output_type": "execute_result"
    }
   ],
   "source": [
    "# 전체 합 구하기\n",
    "np.sum(math_ndarray)"
   ]
  },
  {
   "cell_type": "code",
   "execution_count": 13,
   "id": "1ec5e8e0",
   "metadata": {},
   "outputs": [
    {
     "data": {
      "text/plain": [
       "22.0"
      ]
     },
     "execution_count": 13,
     "metadata": {},
     "output_type": "execute_result"
    }
   ],
   "source": [
    "# 전체 평균 구하기\n",
    "np.average(math_ndarray)\n",
    "np.mean(math_ndarray)"
   ]
  },
  {
   "cell_type": "code",
   "execution_count": 14,
   "id": "2897dcd8",
   "metadata": {},
   "outputs": [
    {
     "data": {
      "text/plain": [
       "array([21., 22., 23.])"
      ]
     },
     "execution_count": 14,
     "metadata": {},
     "output_type": "execute_result"
    }
   ],
   "source": [
    "# 열의 평균 구하기\n",
    "np.mean(math_ndarray, axis=0)"
   ]
  },
  {
   "cell_type": "code",
   "execution_count": 15,
   "id": "453d5eb0",
   "metadata": {},
   "outputs": [
    {
     "data": {
      "text/plain": [
       "array([12., 22., 32.])"
      ]
     },
     "execution_count": 15,
     "metadata": {},
     "output_type": "execute_result"
    }
   ],
   "source": [
    "# 행의 평균 구하기(반 평균)\n",
    "np.mean(math_ndarray, axis=1)"
   ]
  },
  {
   "cell_type": "code",
   "execution_count": 16,
   "id": "50613fd5",
   "metadata": {},
   "outputs": [
    {
     "data": {
      "text/plain": [
       "(3, 3)"
      ]
     },
     "execution_count": 16,
     "metadata": {},
     "output_type": "execute_result"
    }
   ],
   "source": [
    "math_ndarray.shape"
   ]
  },
  {
   "cell_type": "markdown",
   "id": "0842bfbf",
   "metadata": {},
   "source": [
    "## Numpy의 axis(축) 정리"
   ]
  },
  {
   "cell_type": "markdown",
   "id": "85dc6418",
   "metadata": {},
   "source": [
    "- Numpy 라이브러리의 여러 함수에서 axis(축) 파라미터가 사용되며 다음과 같이 해석할 수 있다.\n",
    "- 먼저 행렬의 모양을 다음과 같이 확인할 수 있다.\n",
    "    - (행렬객체).shape\n",
    "    - 2차원 행렬: (행, 열)\n",
    "    - 3차원 행렬: (깊이, 행, 열)"
   ]
  },
  {
   "attachments": {
    "image.png": {
     "image/png": "[encoded data removed]"
    }
   },
   "cell_type": "markdown",
   "id": "8bf736b2",
   "metadata": {},
   "source": [
    "### 2차원 행렬의 축\n",
    "![image.png](attachment:image.png)\n",
    "- axis를 0 또는 -2로 하면 **행 축을 기준으로** 더하라는 의미로 각 행에 있는 열의 값을 더해 하나로 만든다.\n",
    "- axis를 1 또는 -1로 하면 **열 축을 기준으로** 더하라는 의미로 각 열에 있는 행의 값을 더해 하나로 만든다.\n",
    "- (연산을 수행할때는 축의 값을 방향을 기준으로 생각)\n",
    "- (구조를 바꿀때는 축의 값 그대로)"
   ]
  },
  {
   "attachments": {
    "image.png": {
     "image/png": "[encoded data removed]"
    }
   },
   "cell_type": "markdown",
   "id": "ef6c6309",
   "metadata": {},
   "source": [
    "### 3차원 행렬의 축\n",
    "![image.png](attachment:image.png)\n",
    "- axis를 0 또는 -3로 하면 **깊이를 기준으로** 더하라는 의미로 서로 마주하는 요소끼리 값을 더해 하나로 만든다.\n",
    "- axis를 1 또는 -2로 하면 **행 축을 기준으로** 더하라는 의미로 서로 각 행에 있는 열의 값을 더해 하나로 만든다.\n",
    "- axis를 2 또는 -1로 하면 **열 축을 기준으로** 더하라는 의미로 서로 각 열에 있는 행의 값을 더해 하나로 만든다."
   ]
  },
  {
   "cell_type": "code",
   "execution_count": 17,
   "id": "775347e5",
   "metadata": {},
   "outputs": [
    {
     "name": "stdout",
     "output_type": "stream",
     "text": [
      "[[1 2]\n",
      " [3 4]]\n",
      "(2, 2)\n",
      "------------------------------\n",
      "[[[ 1  2  3]\n",
      "  [ 4  5  6]]\n",
      "\n",
      " [[ 7  8  9]\n",
      "  [10 11 12]]]\n",
      "(2, 2, 3)\n"
     ]
    }
   ],
   "source": [
    "import numpy as np\n",
    "\n",
    "array1 = np.array([[1, 2], [3, 4]])\n",
    "print(array1)\n",
    "print(array1.shape)\n",
    "print('-' * 30)\n",
    "\n",
    "array2 = np.array([ [[1, 2, 3], [4, 5, 6]],  [[7, 8, 9], [10, 11, 12]] ])\n",
    "print(array2)\n",
    "print(array2.shape)"
   ]
  },
  {
   "cell_type": "code",
   "execution_count": 18,
   "id": "78d5eae8",
   "metadata": {},
   "outputs": [
    {
     "name": "stdout",
     "output_type": "stream",
     "text": [
      "2차원 배열의 aixs=0 기준 합 : [4 6]\n",
      "2차원 배열의 aixs=1 기준 합 : [3 7]\n",
      "3차원 배열의 aixs=0 기준 합 : \n",
      "[[ 8 10 12]\n",
      " [14 16 18]]\n",
      "3차원 배열의 aixs=1 기준 합 : \n",
      "[[ 5  7  9]\n",
      " [17 19 21]]\n",
      "3차원 배열의 aixs=2 기준 합 : \n",
      "[[ 6 15]\n",
      " [24 33]]\n"
     ]
    }
   ],
   "source": [
    "print('2차원 배열의 aixs=0 기준 합 : ', end='')\n",
    "print(np.sum(array1, axis=0))\n",
    "print('2차원 배열의 aixs=1 기준 합 : ', end='')\n",
    "print(np.sum(array1, axis=1))\n",
    "\n",
    "print('3차원 배열의 aixs=0 기준 합 : ')\n",
    "print(np.sum(array2, axis=0))\n",
    "print('3차원 배열의 aixs=1 기준 합 : ')\n",
    "print(np.sum(array2, axis=1))\n",
    "print('3차원 배열의 aixs=2 기준 합 : ')\n",
    "print(np.sum(array2, axis=2))"
   ]
  },
  {
   "cell_type": "markdown",
   "id": "4727cbe8",
   "metadata": {},
   "source": [
    "# Numpy 특징"
   ]
  },
  {
   "attachments": {
    "image.png": {
     "image/png": "[encoded data removed]"
    }
   },
   "cell_type": "markdown",
   "id": "bc41be07",
   "metadata": {},
   "source": [
    "## Numpy의 장점\n",
    "- ndarray는 타입을 명시하여 원소의 배열로 데이터를 유지\n",
    "- 다차원 데이터도 연속된 메모리 공간이 할당됨\n",
    "- 효율적인 메로리 사용이 가능하도록 구현됨\n",
    "![image.png](attachment:image.png)"
   ]
  },
  {
   "cell_type": "markdown",
   "id": "f7223a5b",
   "metadata": {},
   "source": [
    "# 배열 생성 - 1"
   ]
  },
  {
   "cell_type": "markdown",
   "id": "40a43c28",
   "metadata": {},
   "source": [
    "## array()를 이용한 생성\n",
    "- 가장 기본적인 방법은 array() 함수를 사용하여 일반적인 Python의 리스트 또는 튜플에서 배열을 만드는 것이다.\n",
    "- **다차원 배열의 모든 원소는 동일한 데이터 타입을 가져야 한다.**"
   ]
  },
  {
   "cell_type": "code",
   "execution_count": 19,
   "id": "91f92f52",
   "metadata": {},
   "outputs": [
    {
     "name": "stdout",
     "output_type": "stream",
     "text": [
      "[0 1 2 3] <class 'numpy.ndarray'>\n"
     ]
    }
   ],
   "source": [
    "import numpy as np\n",
    "\n",
    "data = [0, 1, 2, 3]\n",
    "a = np.array(data)\n",
    "print(a, type(a))"
   ]
  },
  {
   "cell_type": "code",
   "execution_count": 20,
   "id": "9ab0e8a3",
   "metadata": {},
   "outputs": [
    {
     "name": "stdout",
     "output_type": "stream",
     "text": [
      "[0. 1. 2. 3.]\n"
     ]
    }
   ],
   "source": [
    "a2 = np.array(data, dtype='float') # dtype = np.float\n",
    "print(a2)"
   ]
  },
  {
   "cell_type": "markdown",
   "id": "42e5e251",
   "metadata": {},
   "source": [
    "### 형변환"
   ]
  },
  {
   "cell_type": "code",
   "execution_count": 21,
   "id": "cbfb0bf3",
   "metadata": {},
   "outputs": [
    {
     "name": "stdout",
     "output_type": "stream",
     "text": [
      "[1. 2. 3. 4.]\n"
     ]
    }
   ],
   "source": [
    "b = np.array(['1', '2', 3, 4], dtype=np.float64)\n",
    "print(b)"
   ]
  },
  {
   "cell_type": "markdown",
   "id": "64d1bd19",
   "metadata": {},
   "source": [
    "## arange()를 이용한 생성\n",
    "- 일련의 연속된 숫자를 만들기 위해 Python의 range()와 유사한 arange() 함수를 사용할 수 있다."
   ]
  },
  {
   "cell_type": "code",
   "execution_count": 22,
   "id": "5ee4579b",
   "metadata": {},
   "outputs": [
    {
     "name": "stdout",
     "output_type": "stream",
     "text": [
      "[1 2 3 4 5 6 7 8 9]\n",
      "[10 15 20 25]\n",
      "[0 1 2 3 4 5 6 7 8 9]\n"
     ]
    }
   ],
   "source": [
    "a = np.arange(1, 10)\n",
    "print(a)\n",
    "\n",
    "b = np.arange(10, 30, 5)\n",
    "print(b)\n",
    "\n",
    "print(np.arange(10))"
   ]
  },
  {
   "cell_type": "markdown",
   "id": "03814f1b",
   "metadata": {},
   "source": [
    "## Numpy 배열의 주요 속성\n",
    "\n",
    "1) ndarray.shape\n",
    "- numpy array 객체의 차원을 튜플 타입으로 반환\n",
    "\n",
    "2) ndarray.dtype\n",
    "- 배열의 자료형을 반환\n",
    "\n",
    "3) ndarry.ndim\n",
    "- 배열의 차수를 정수로 반환(차원)\n",
    "\n",
    "4) ndarry.size\n",
    "- 배열의 요소의 총 개수를 정수 값으로 반환\n",
    "\n",
    "5) ndarry.nbytes\n",
    "- 배열 객체의 메모리 크기 반환"
   ]
  },
  {
   "cell_type": "code",
   "execution_count": 23,
   "id": "6aab0018",
   "metadata": {},
   "outputs": [
    {
     "name": "stdout",
     "output_type": "stream",
     "text": [
      "10\n",
      "int32\n",
      "0\n",
      "()\n",
      "4\n",
      "1\n"
     ]
    }
   ],
   "source": [
    "# 단일 값(스칼라)\n",
    "a = np.array(10)\n",
    "print(a)\n",
    "print(a.dtype)\n",
    "print(a.ndim) # 0차원\n",
    "print(a.shape)\n",
    "print(a.nbytes)\n",
    "print(a.size)"
   ]
  },
  {
   "cell_type": "code",
   "execution_count": 24,
   "id": "6c8c83a0",
   "metadata": {},
   "outputs": [
    {
     "name": "stdout",
     "output_type": "stream",
     "text": [
      "[1 2 3 4 5]\n",
      "int32\n",
      "1\n",
      "(5,)\n",
      "20\n",
      "5\n"
     ]
    }
   ],
   "source": [
    "# 1차원 배열(벡터)\n",
    "b = np.array([1, 2, 3, 4, 5])\n",
    "print(b)\n",
    "print(b.dtype)\n",
    "print(b.ndim) # 1차원\n",
    "print(b.shape)\n",
    "print(b.nbytes)\n",
    "print(b.size)"
   ]
  },
  {
   "cell_type": "code",
   "execution_count": 25,
   "id": "f5a10afb",
   "metadata": {},
   "outputs": [
    {
     "name": "stdout",
     "output_type": "stream",
     "text": [
      "[[1 2]\n",
      " [3 4]\n",
      " [5 6]]\n",
      "int32\n",
      "2\n",
      "(3, 2)\n",
      "24\n",
      "6\n"
     ]
    }
   ],
   "source": [
    "# 2차원 배열(행렬)\n",
    "c = np.array([[1, 2], [3, 4], [5, 6]], )\n",
    "print(c)\n",
    "print(c.dtype)\n",
    "print(c.ndim) # 2차원\n",
    "print(c.shape)\n",
    "print(c.nbytes)\n",
    "print(c.size)"
   ]
  },
  {
   "cell_type": "code",
   "execution_count": 26,
   "id": "fbe024b8",
   "metadata": {},
   "outputs": [
    {
     "name": "stdout",
     "output_type": "stream",
     "text": [
      "[[[ 1  2  3]\n",
      "  [ 4  5  6]]\n",
      "\n",
      " [[ 7  8  9]\n",
      "  [10 11 12]]]\n",
      "int32\n",
      "3\n",
      "(2, 2, 3)\n",
      "48\n",
      "12\n"
     ]
    }
   ],
   "source": [
    "# 3차원 배열(텐서)\n",
    "d = np.array([ [[1, 2, 3], [4, 5, 6]],  [[7, 8, 9], [10, 11, 12]] ])\n",
    "print(d)\n",
    "print(d.dtype)\n",
    "print(d.ndim) # 3차원\n",
    "print(d.shape)\n",
    "print(d.nbytes)\n",
    "print(d.size)"
   ]
  },
  {
   "cell_type": "markdown",
   "id": "58f5b22d",
   "metadata": {},
   "source": [
    "# 배열 생성 - 2"
   ]
  },
  {
   "cell_type": "markdown",
   "id": "69e97ab5",
   "metadata": {},
   "source": [
    "## numpy.zeros()\n",
    "- 모든 요소가 0으로 이루어진, 지정한 크기의 새로운 배열을 생성\n",
    "- zeors_like() : 기존 배열과 모양이 같은 배열을 생성"
   ]
  },
  {
   "cell_type": "code",
   "execution_count": 27,
   "id": "2a75dff3",
   "metadata": {},
   "outputs": [
    {
     "name": "stdout",
     "output_type": "stream",
     "text": [
      "[0 0 0 0]\n",
      "[[0. 0. 0.]\n",
      " [0. 0. 0.]\n",
      " [0. 0. 0.]]\n",
      "[[0 0 0]\n",
      " [0 0 0]\n",
      " [0 0 0]]\n"
     ]
    }
   ],
   "source": [
    "a = np.zeros(4, dtype=int)\n",
    "print(a)\n",
    "\n",
    "b = np.zeros((3, 3))\n",
    "print(b)\n",
    "\n",
    "c = np.array([[1, 2, 3], [4, 5, 6], [7, 8, 9]])\n",
    "d = np.zeros_like(c)\n",
    "print(d)"
   ]
  },
  {
   "cell_type": "markdown",
   "id": "3d59ea7f",
   "metadata": {},
   "source": [
    "## numpy.ones()\n",
    "- 모든 요소가 1로 이루어진, 지정한 크기의 새로운 배열을 생성\n",
    "- ones_like)() : 기존 배열과 모양이 같은 1으로 채워진 배열을 생성"
   ]
  },
  {
   "cell_type": "code",
   "execution_count": 28,
   "id": "a5ce0b61",
   "metadata": {},
   "outputs": [
    {
     "name": "stdout",
     "output_type": "stream",
     "text": [
      "[[1. 1. 1.]\n",
      " [1. 1. 1.]]\n",
      "[[1 1 1]\n",
      " [1 1 1]]\n",
      "[[1 1 1]\n",
      " [1 1 1]\n",
      " [1 1 1]]\n"
     ]
    }
   ],
   "source": [
    "print(np.ones((2, 3)))\n",
    "print(np.ones((2, 3), dtype=int))\n",
    "\n",
    "print(np.ones_like(c))"
   ]
  },
  {
   "cell_type": "markdown",
   "id": "3c66a6e1",
   "metadata": {},
   "source": [
    "## numpy.full()\n",
    "- 지정한 크기에 입력한 원소를 전부 채운 행렬을 만든다.\n",
    "- full_like() : 기존의 배열과 모양이 같으면서 지정된 값으로 채워진 배열 생성"
   ]
  },
  {
   "cell_type": "code",
   "execution_count": 29,
   "id": "d4e7090a",
   "metadata": {},
   "outputs": [
    {
     "name": "stdout",
     "output_type": "stream",
     "text": [
      "[[10 10]\n",
      " [10 10]]\n"
     ]
    }
   ],
   "source": [
    "print(np.full((2, 2), 10))"
   ]
  },
  {
   "cell_type": "markdown",
   "id": "8943ee5b",
   "metadata": {},
   "source": [
    "## [연습문제]\n",
    "- 1~10 사이의 값에 대해 다음의 조건에 맞는 2차원 배열을 생성하시오.\n",
    "- 첫 번째 행은 역순으로 나열된 홀수 정수의 요소를 갖고, 두 번째 행은 짝수 정수의 요소를 갖는다."
   ]
  },
  {
   "cell_type": "code",
   "execution_count": 30,
   "id": "517df561",
   "metadata": {},
   "outputs": [
    {
     "name": "stdout",
     "output_type": "stream",
     "text": [
      "[[ 9  7  5  3  1]\n",
      " [ 2  4  6  8 10]]\n"
     ]
    }
   ],
   "source": [
    "data = np.array([np.arange(9, 0, -2), np.arange(2, 11, 2)])\n",
    "print(data)"
   ]
  },
  {
   "cell_type": "markdown",
   "id": "fb3556c1",
   "metadata": {},
   "source": [
    "# 배열 생성 -3"
   ]
  },
  {
   "cell_type": "markdown",
   "id": "3d40964b",
   "metadata": {},
   "source": [
    "## numpy.linspace()\n",
    "- start부터 stop의 범위에서 num개를 균일한 간격으로 데이터를 생성하고 배열을 만드는 함수\n"
   ]
  },
  {
   "cell_type": "code",
   "execution_count": 31,
   "id": "4dfb19b9",
   "metadata": {},
   "outputs": [
    {
     "name": "stdout",
     "output_type": "stream",
     "text": [
      "[0.   0.25 0.5  0.75 1.   1.25 1.5  1.75 2.  ]\n"
     ]
    }
   ],
   "source": [
    "# 0이상 2이하의 범위를 9개만큼 등분하영 요소들을 생성\n",
    "print(np.linspace(0, 2, 9))"
   ]
  },
  {
   "cell_type": "code",
   "execution_count": 10,
   "id": "f0942a17",
   "metadata": {},
   "outputs": [
    {
     "name": "stdout",
     "output_type": "stream",
     "text": [
      "[1.  1.5 2.  2.5 3. ]\n",
      "[1.         1.10526316 1.21052632 1.31578947 1.42105263 1.52631579\n",
      " 1.63157895 1.73684211 1.84210526 1.94736842 2.05263158 2.15789474\n",
      " 2.26315789 2.36842105 2.47368421 2.57894737 2.68421053 2.78947368\n",
      " 2.89473684 3.        ]\n"
     ]
    }
   ],
   "source": [
    "a = np.linspace(1.0, 3.0, num=5)\n",
    "b = np.linspace(1.0, 3.0, 20)\n",
    "\n",
    "print(a)\n",
    "print(b)"
   ]
  },
  {
   "cell_type": "code",
   "execution_count": 33,
   "id": "89d7816a",
   "metadata": {},
   "outputs": [
    {
     "data": {
      "image/png": "[encoded data removed]",
      "text/plain": [
       "<Figure size 640x480 with 1 Axes>"
      ]
     },
     "metadata": {},
     "output_type": "display_data"
    }
   ],
   "source": [
    "x = np.linspace(0, 2*np.pi, 100)\n",
    "y = np.sin(x)\n",
    "\n",
    "import matplotlib.pyplot as plt\n",
    "\n",
    "plt.plot(x,y)\n",
    "plt.show()"
   ]
  },
  {
   "cell_type": "markdown",
   "id": "1970aa37",
   "metadata": {},
   "source": [
    "## numpy.identity(), numpy.eye()\n",
    "- 지정된 크기의 정방 단위 행렬을 생성\n",
    "- 선형대수학에서 단위 행렬은 주대각선의 원소가 모두 1이며, 나머지 원소는 0인 정사각형 행렬이다."
   ]
  },
  {
   "cell_type": "code",
   "execution_count": 34,
   "id": "4de60de1",
   "metadata": {},
   "outputs": [
    {
     "name": "stdout",
     "output_type": "stream",
     "text": [
      "[[1. 0.]\n",
      " [0. 1.]]\n",
      "[[1 0 0]\n",
      " [0 1 0]\n",
      " [0 0 1]]\n",
      "[[1. 0. 0.]\n",
      " [0. 1. 0.]\n",
      " [0. 0. 1.]]\n",
      "[[1. 0. 0. 0.]\n",
      " [0. 1. 0. 0.]\n",
      " [0. 0. 1. 0.]]\n"
     ]
    }
   ],
   "source": [
    "print(np.identity(2))\n",
    "print(np.identity(3, dtype=int))\n",
    "\n",
    "print(np.eye(3))\n",
    "\n",
    "# eye() 함수는 행과 열의 크기가 다른 단위행렬도 만들 수 있다.\n",
    "print(np.eye(3, 4))"
   ]
  },
  {
   "cell_type": "code",
   "execution_count": 12,
   "id": "38a3f650",
   "metadata": {},
   "outputs": [
    {
     "name": "stdout",
     "output_type": "stream",
     "text": [
      "[[0. 1. 0. 0.]\n",
      " [0. 0. 1. 0.]\n",
      " [0. 0. 0. 1.]]\n",
      "[[0. 0. 0. 0.]\n",
      " [1. 0. 0. 0.]\n",
      " [0. 1. 0. 0.]]\n"
     ]
    }
   ],
   "source": [
    "# 세 번째 값 1: 대각선 인덱스, 0(기본값)은 주대각선을 나타내고\n",
    "# 양수 값은 위쪽 대각선(열)을 나타내고,\n",
    "# 음수 값은 아래쪽 대각선(행)을 나타낸다.\n",
    "print(np.eye(3, 4, 1)) # (0, 1)\n",
    "print(np.eye(3, 4, -1)) # (2, 0)"
   ]
  },
  {
   "cell_type": "markdown",
   "id": "581d610d",
   "metadata": {},
   "source": [
    "# 배열의 변경"
   ]
  },
  {
   "cell_type": "markdown",
   "id": "2b5f226b",
   "metadata": {},
   "source": [
    "## numpy.reshape() / ndarray.reshape()\n",
    "- <font color='red'>원본을 변경하지 않고 새로운 모양의 배열을 생성한다.</font>"
   ]
  },
  {
   "cell_type": "code",
   "execution_count": 36,
   "id": "a06c1872",
   "metadata": {},
   "outputs": [
    {
     "name": "stdout",
     "output_type": "stream",
     "text": [
      "[0 1 2 3 4 5]\n",
      "[[0 1]\n",
      " [2 3]\n",
      " [4 5]]\n",
      "[0 1 2 3 4 5]\n",
      "------------------------------\n",
      "[[0 1 2 3 4 5]] 2\n",
      "------------------------------\n",
      "[0 1 2 3 4 5] 1\n",
      "------------------------------\n",
      "[[0 1]\n",
      " [2 3]\n",
      " [4 5]]\n",
      "------------------------------\n",
      "[[[ 1]\n",
      "  [ 2]]\n",
      "\n",
      " [[ 3]\n",
      "  [ 4]]\n",
      "\n",
      " [[ 5]\n",
      "  [ 6]]\n",
      "\n",
      " [[ 7]\n",
      "  [ 8]]\n",
      "\n",
      " [[ 9]\n",
      "  [10]]]\n",
      "------------------------------\n",
      "[ 1  2  3  4  5  6  7  8  9 10]\n"
     ]
    }
   ],
   "source": [
    "import numpy as np\n",
    "\n",
    "a = np.arange(6)\n",
    "print(a)\n",
    "\n",
    "b = a.reshape((3, 2)) # np.reshape(a, (3,2))과 동일\n",
    "print(b)\n",
    "print(a) # 원본 배열의 모양은 변하지 않는다.\n",
    "print('-' * 30)\n",
    "\n",
    "c = np.reshape(a, (1, 6))\n",
    "print(c, c.ndim) # 차원(차수) 확인\n",
    "print('-' * 30)\n",
    "\n",
    "d = np.reshape(a, 6) # 벡터의 크기만 잡아주면 1차원으로 변경됨\n",
    "print(d, d.ndim) # 차원(차수) 확인\n",
    "print('-' * 30)\n",
    "\n",
    "# 행의 크기가 음수이면, 열의 크기를 2로 맞추고 행의 크기는 전체 요소 개수에 맞춰서 알아서 지정한다.\n",
    "e = np.reshape(a, (-1, 2))\n",
    "print(e)\n",
    "print('-' * 30)\n",
    "\n",
    "f = np.arange(1, 11).reshape(2, 5)\n",
    "# 2행 1열의 모양으로 행렬을 변환하면서 깊이의 값을 알아서 정하도록 한다.\n",
    "g = f.reshape(-1, 2, 1) # 3차원 배열\n",
    "print(g)\n",
    "print('-' * 30)\n",
    "\n",
    "# -1의 의미는 행렬의 값이 없으므로 요소를 한 줄로 나타낸다. \n",
    "h = g.reshape(-1) # 3차원 배열 -> 1차원 배열, 음수니까 알아서\n",
    "print(h)"
   ]
  },
  {
   "cell_type": "markdown",
   "id": "0d182691",
   "metadata": {},
   "source": [
    "## ndarray.resize()\n",
    "- <font color='red'>원본 배열을 새로운 모양으로 수정한다.</font>\n",
    "- 대상 배열의 요소의 개수가 원래 배열과 동일하지 않으면 크기를 강제로 조정한다."
   ]
  },
  {
   "cell_type": "code",
   "execution_count": 37,
   "id": "9b6f2f19",
   "metadata": {},
   "outputs": [
    {
     "name": "stdout",
     "output_type": "stream",
     "text": [
      "[[ 0  1  2  3]\n",
      " [ 4  5  6  7]\n",
      " [ 8  9 10 11]]\n",
      "------------------------------\n",
      "[[ 0  1  2  3]\n",
      " [ 4  5  6  7]\n",
      " [ 8  9 10 11]\n",
      " [ 0  0  0  0]]\n"
     ]
    }
   ],
   "source": [
    "a = np.arange(12)\n",
    "a.resize((3, 4))\n",
    "print(a) # resize()는 원본의 모양을 변경한다.\n",
    "print('-' * 30)\n",
    "\n",
    "a.resize((4, 4)) # reshape와 다르게 원본가 크기가 달라도 오류가 발생되지 않는다.\n",
    "print(a) # 빈 값은 0으로 채운다."
   ]
  },
  {
   "cell_type": "markdown",
   "id": "326232b6",
   "metadata": {},
   "source": [
    "## ndarray.flatten() / ndarray.ravle()\n",
    "- 배열을 1차원으로 만든다.\n",
    "- flatten(): 배열을 복사해서 1차원으로 변경하기 때문에 **원본에 영향을 미치지 않는다.**\n",
    "- ravle(): 원본을 복사하는 것이 아니므로 메모리의 낭비가 없다. **원본의 영향을 받는다.**"
   ]
  },
  {
   "cell_type": "code",
   "execution_count": 38,
   "id": "17a5f7cf",
   "metadata": {},
   "outputs": [
    {
     "name": "stdout",
     "output_type": "stream",
     "text": [
      "[[1 2]\n",
      " [3 4]]\n",
      "[1 2 3 4]\n"
     ]
    }
   ],
   "source": [
    "a = np.array([[1, 2], [3, 4]])\n",
    "print(a)\n",
    "\n",
    "print(a.flatten()) # 복사"
   ]
  },
  {
   "cell_type": "code",
   "execution_count": 39,
   "id": "706145c5",
   "metadata": {},
   "outputs": [
    {
     "name": "stdout",
     "output_type": "stream",
     "text": [
      "[[[1 2 3]\n",
      "  [4 5 6]\n",
      "  [7 8 9]]]\n",
      "------------------------------\n",
      "[1 2 3 4 5 6 7 8 9]\n",
      "------------------------------\n",
      "[1 2 3 4 5 6 7 8 9]\n",
      "[[[ 1  2  3]\n",
      "  [ 4 10  6]\n",
      "  [ 7  8  9]]]\n",
      "[ 1  2  3  4 10  6  7  8  9]\n",
      "[1 2 3 4 5 6 7 8 9]\n"
     ]
    }
   ],
   "source": [
    "b = np.arange(1, 10).reshape(1, 3, 3)\n",
    "print(b)\n",
    "print('-' * 30)\n",
    "\n",
    "c = b.flatten() \n",
    "print(c)\n",
    "print('-' * 30)\n",
    "\n",
    "d = b.ravel()\n",
    "print(d)\n",
    "\n",
    "b[0, 1, 1] = 10\n",
    "print(b)\n",
    "print(d)\n",
    "print(c) # flatten() 원본 영향X"
   ]
  },
  {
   "cell_type": "markdown",
   "id": "b310824e",
   "metadata": {},
   "source": [
    "## np.expand_dims()\n",
    "- 지정한 aixs의 위치에 배열의 차원을 늘려서 줌"
   ]
  },
  {
   "cell_type": "code",
   "execution_count": 40,
   "id": "5380b5b0",
   "metadata": {},
   "outputs": [
    {
     "name": "stdout",
     "output_type": "stream",
     "text": [
      "[1 2]\n",
      "(2,)\n",
      "------------------------------\n",
      "[[1 2]]\n",
      "(1, 2)\n",
      "------------------------------\n",
      "[[1]\n",
      " [2]]\n",
      "(2, 1)\n"
     ]
    }
   ],
   "source": [
    "a = np.array([1, 2])\n",
    "print(a)\n",
    "print(a.shape)\n",
    "print('-' * 30)\n",
    "\n",
    "# 1차원 벡터에 첫 번째 축(행 축)을 추가하여 2앞에 1이 추가되어 (1, 2)의 모양으로 확장\n",
    "# a[np.newaixs, :]와 동일\n",
    "b = np.expand_dims(a, axis=0)\n",
    "print(b)\n",
    "print(b.shape)\n",
    "print('-' * 30)\n",
    "\n",
    "# 1차원 벡터에 두 번째 축(열 축)을 추가해서 2뒤에 1이 추가되어 (2, 1)의 모양으로 확장\n",
    "# a[:, np.newaixs]와 동일\n",
    "c = np.expand_dims(a, axis=1)\n",
    "print(c)\n",
    "print(c.shape)"
   ]
  },
  {
   "cell_type": "code",
   "execution_count": 41,
   "id": "98b62cb9",
   "metadata": {},
   "outputs": [
    {
     "name": "stdout",
     "output_type": "stream",
     "text": [
      "[[1 2 3]\n",
      " [4 5 6]]\n",
      "(2, 3)\n",
      "------------------------------\n",
      "[[[1 2 3]\n",
      "  [4 5 6]]]\n",
      "(1, 2, 3)\n",
      "------------------------------\n",
      "[[[1 2 3]]\n",
      "\n",
      " [[4 5 6]]]\n",
      "(2, 1, 3)\n",
      "------------------------------\n",
      "[[[1]\n",
      "  [2]\n",
      "  [3]]\n",
      "\n",
      " [[4]\n",
      "  [5]\n",
      "  [6]]]\n",
      "(2, 3, 1)\n"
     ]
    }
   ],
   "source": [
    "# 2차원 -> 3차원\n",
    "a = np.arange(1, 7).reshape(2, 3)\n",
    "print(a)\n",
    "print(a.shape)\n",
    "print('-' * 30)\n",
    "\n",
    "# 2차원 행렬을 깊이 축(axis=0)으로 확장\n",
    "b = np.expand_dims(a, axis=0)\n",
    "print(b)\n",
    "print(b.shape)\n",
    "print('-' * 30)\n",
    "\n",
    "# 2차원 행렬을 행 축(axis=1)으로 확장\n",
    "c = np.expand_dims(a, axis=1)\n",
    "print(c)\n",
    "print(c.shape)\n",
    "print('-' * 30)\n",
    "\n",
    "# 2차원 행렬을 열 축(axis=2)으로 확장\n",
    "d = np.expand_dims(a, axis=2)\n",
    "print(d)\n",
    "print(d.shape)"
   ]
  },
  {
   "cell_type": "code",
   "execution_count": 42,
   "id": "96af9fb1",
   "metadata": {},
   "outputs": [
    {
     "name": "stdout",
     "output_type": "stream",
     "text": [
      "[0 1 2 3]\n",
      "(4,)\n",
      "------------------------------\n",
      "[[0 1 2 3]]\n",
      "(1, 4)\n",
      "------------------------------\n",
      "[[0]\n",
      " [1]\n",
      " [2]\n",
      " [3]]\n",
      "(4, 1)\n"
     ]
    }
   ],
   "source": [
    "# np.newaixs를 이용해서 차원을 늘릴 수도 있다.\n",
    "a = np.arange(4)\n",
    "print(a)\n",
    "print(a.shape)\n",
    "print('-' * 30)\n",
    "\n",
    "row_vec = a[np.newaxis, :]\n",
    "print(row_vec)\n",
    "print(row_vec.shape)\n",
    "print('-' * 30)\n",
    "\n",
    "col_vec = a[:, np.newaxis]\n",
    "print(col_vec)\n",
    "print(col_vec.shape)"
   ]
  },
  {
   "cell_type": "markdown",
   "id": "d32b0c4b",
   "metadata": {},
   "source": [
    "## ndarray.astype()\n",
    "- 배열의 데이터 타입을 변경"
   ]
  },
  {
   "cell_type": "code",
   "execution_count": 43,
   "id": "431a110e",
   "metadata": {},
   "outputs": [
    {
     "name": "stdout",
     "output_type": "stream",
     "text": [
      "[1 2 3]\n",
      "int32\n",
      "[1. 2. 3.]\n",
      "float32\n"
     ]
    }
   ],
   "source": [
    "a = np.array([1, 2 ,3])\n",
    "print(a)\n",
    "print(a.dtype)\n",
    "\n",
    "a_float = a.astype(np.float32)\n",
    "print(a_float)\n",
    "print(a_float.dtype)"
   ]
  },
  {
   "cell_type": "markdown",
   "id": "807d13cc",
   "metadata": {},
   "source": [
    " Day_0503"
   ]
  },
  {
   "cell_type": "markdown",
   "id": "cc83cce1",
   "metadata": {},
   "source": [
    "## numpy.squeeze()\n",
    "- 차원 축소"
   ]
  },
  {
   "cell_type": "code",
   "execution_count": 44,
   "id": "d5f7bb6e",
   "metadata": {},
   "outputs": [
    {
     "name": "stdout",
     "output_type": "stream",
     "text": [
      "[[[0]\n",
      "  [1]\n",
      "  [2]]]\n",
      "(1, 3, 1)\n",
      "[0 1 2]\n",
      "(3,)\n",
      "------------------------------\n",
      "[[0]\n",
      " [1]\n",
      " [2]]\n",
      "(3, 1)\n",
      "------------------------------\n",
      "[[0 1 2]]\n",
      "(1, 3)\n"
     ]
    }
   ],
   "source": [
    "import numpy as np\n",
    "\n",
    "a = np.array([[[0], [1], [2]]])\n",
    "print(a)\n",
    "print(a.shape)\n",
    "\n",
    "b = np.squeeze(a)\n",
    "print(b)\n",
    "print(b.shape)\n",
    "print('-' * 30)\n",
    "\n",
    "c = np.squeeze(a, axis=0) # 깊이 축 축소\n",
    "print(c)\n",
    "print(c.shape)\n",
    "print('-' * 30)\n",
    "\n",
    "# 원본의 원소 개수와 일치되지 않아 VauleError 발생\n",
    "# d = np.squeeze(a, axis=1)\n",
    "\n",
    "e = np.squeeze(a, axis=2)\n",
    "print(e)\n",
    "print(e.shape)"
   ]
  },
  {
   "cell_type": "markdown",
   "id": "1fdc45ad",
   "metadata": {},
   "source": [
    "## nupmy.concatenate()\n",
    "- 두 개 이상의 배열을 연결한다.\n",
    "- concatenate()함수를 수행하려면 **차원 수가 같아야** 한다.\n",
    "- axis 인수를 설정하여 연결 방향을 정할 수 있다. (default: axis=0)\n",
    "- 행을 기준으로 연결을 할 때에는 **열의 갯수가 일치**해야하며, 열을 기준으로 연결할 때에는 **행의 갯수가 일치**해야 한다."
   ]
  },
  {
   "cell_type": "code",
   "execution_count": 45,
   "id": "07fac874",
   "metadata": {},
   "outputs": [
    {
     "name": "stdout",
     "output_type": "stream",
     "text": [
      "[[1 2]\n",
      " [3 4]]\n",
      "------------------------------\n",
      "[5 6]\n",
      "------------------------------\n",
      "[[1 2]\n",
      " [3 4]\n",
      " [5 6]]\n",
      "------------------------------\n",
      "[[1 2]\n",
      " [3 4]\n",
      " [5 6]\n",
      " [1 2]\n",
      " [3 4]\n",
      " [5 6]]\n",
      "------------------------------\n",
      "[[1 2 1 3 5 1 3 5]\n",
      " [3 4 2 4 6 2 4 6]]\n"
     ]
    }
   ],
   "source": [
    "a = np.array([[1, 2], [3, 4]])\n",
    "print(a)\n",
    "print('-' * 30)\n",
    "\n",
    "# 차원 수가 다르기 때문에 Error\n",
    "b = np.array([5, 6])\n",
    "print(b)\n",
    "print('-' * 30)\n",
    "\n",
    "# b에 행축 추가\n",
    "c = np.concatenate((a, np.expand_dims(b, axis=0))) # 연결하려는 배열을 리스트 or 튜플로 전달\n",
    "print(c)\n",
    "print('-' * 30)\n",
    "\n",
    "d = np.concatenate((a, np.expand_dims(b, axis=0), c))\n",
    "print(d)\n",
    "print('-' * 30)\n",
    "\n",
    "# .T: 2행 6열이 6행 2열로 전치\n",
    "e = np.concatenate((a, d.T), axis=1)\n",
    "print(e)"
   ]
  },
  {
   "cell_type": "markdown",
   "id": "5554ef28",
   "metadata": {},
   "source": [
    "# 기본 연산\n",
    "- 배열에 대한 산술 연산은 **요소별(element-wise)**로 적용된다.\n"
   ]
  },
  {
   "cell_type": "markdown",
   "id": "da65af9c",
   "metadata": {},
   "source": [
    "## 산술 연산"
   ]
  },
  {
   "cell_type": "code",
   "execution_count": 46,
   "id": "e5fbc045",
   "metadata": {
    "scrolled": false
   },
   "outputs": [
    {
     "name": "stdout",
     "output_type": "stream",
     "text": [
      "5.0\n",
      "------------------------------\n",
      "b:  [[0. 1. 2.]\n",
      " [3. 4. 5.]\n",
      " [6. 7. 8.]]\n",
      "c:  [0. 1. 2.]\n",
      "[[ 0.  2.  4.]\n",
      " [ 3.  5.  7.]\n",
      " [ 6.  8. 10.]]\n",
      "[[ 0.  2.  4.]\n",
      " [ 3.  5.  7.]\n",
      " [ 6.  8. 10.]]\n",
      "------------------------------\n",
      "[[0. 0. 0.]\n",
      " [3. 3. 3.]\n",
      " [6. 6. 6.]]\n",
      "------------------------------\n",
      "[[ 0.  1.  4.]\n",
      " [ 0.  4. 10.]\n",
      " [ 0.  7. 16.]]\n",
      "------------------------------\n",
      "[[nan 1.  1. ]\n",
      " [inf 4.  2.5]\n",
      " [inf 7.  4. ]]\n"
     ]
    },
    {
     "name": "stderr",
     "output_type": "stream",
     "text": [
      "C:\\Users\\user\\AppData\\Local\\Temp\\ipykernel_12260\\560614004.py:23: RuntimeWarning: divide by zero encountered in true_divide\n",
      "  print(np.divide(b, c))\n",
      "C:\\Users\\user\\AppData\\Local\\Temp\\ipykernel_12260\\560614004.py:23: RuntimeWarning: invalid value encountered in true_divide\n",
      "  print(np.divide(b, c))\n"
     ]
    }
   ],
   "source": [
    "# 더하기\n",
    "a = np.add(1.0, 4.0)\n",
    "print(a)\n",
    "print('-' * 30)\n",
    "\n",
    "b = np.arange(9.0).reshape(3, 3)\n",
    "c = np.arange(3.0)\n",
    "print(\"b: \", b)\n",
    "print(\"c: \",c)\n",
    "print(np.add(b, c)) # 아래와 동일\n",
    "print(b + c)\n",
    "print('-' * 30)\n",
    "\n",
    "# 뺄샘\n",
    "print(np.subtract(b, c))\n",
    "print('-' * 30)\n",
    "\n",
    "# 곱샘\n",
    "print(np.multiply(b, c))\n",
    "print('-' * 30)\n",
    "\n",
    "# 나눗셈\n",
    "print(np.divide(b, c))"
   ]
  },
  {
   "cell_type": "code",
   "execution_count": 47,
   "id": "de89dee7",
   "metadata": {},
   "outputs": [
    {
     "name": "stdout",
     "output_type": "stream",
     "text": [
      "[0 0 0 0 1]\n",
      "[0 1]\n"
     ]
    }
   ],
   "source": [
    "# floor_divide(): 몫 구하기\n",
    "a = np.arange(5)\n",
    "b = np.floor_divide(a, 4) # 파이썬의 //와 동일\n",
    "print(b)\n",
    "\n",
    "# reaminder() / mod(): 나머지 구하기\n",
    "a = np.remainder([4, 7], [2, 3])\n",
    "print(a)"
   ]
  },
  {
   "cell_type": "markdown",
   "id": "5c7d80c6",
   "metadata": {},
   "source": [
    "- 연산 시 자료형은 적절하게 형변환(Upcasting) 된다."
   ]
  },
  {
   "cell_type": "code",
   "execution_count": 48,
   "id": "e1a171a0",
   "metadata": {},
   "outputs": [
    {
     "name": "stdout",
     "output_type": "stream",
     "text": [
      "[1 1 1]\n",
      "int32\n",
      "[0.         1.57079633 3.14159265]\n",
      "float64\n",
      "[1.         2.57079633 4.14159265]\n",
      "float64\n"
     ]
    }
   ],
   "source": [
    "a = np.ones(3, dtype=np.int32)\n",
    "print(a)\n",
    "print(a.dtype.name)\n",
    "\n",
    "b = np.linspace(0, np.pi, 3)\n",
    "print(b)\n",
    "print(b.dtype.name)\n",
    "\n",
    "c = a + b\n",
    "print(c)\n",
    "print(c.dtype.name)"
   ]
  },
  {
   "cell_type": "markdown",
   "id": "b96802d6",
   "metadata": {},
   "source": [
    "## 통계 연산\n",
    "- 통계 연산은 aixs와 밀접한 관계가 있다.\n",
    "- 축 값을 입력하지 않으면 모든 원소에 대한 연산 결과를 출력한다."
   ]
  },
  {
   "cell_type": "code",
   "execution_count": 49,
   "id": "97439f4d",
   "metadata": {},
   "outputs": [
    {
     "name": "stdout",
     "output_type": "stream",
     "text": [
      "[[ 0  1  2  3]\n",
      " [ 4  5  6  7]\n",
      " [ 8  9 10 11]]\n",
      "66\n",
      "[12 15 18 21]\n",
      "[ 6 22 38]\n",
      "[[ 0  1  3  6]\n",
      " [ 4  9 15 22]\n",
      " [ 8 17 27 38]]\n"
     ]
    }
   ],
   "source": [
    "# 합계: sum() / 평균: mean() / 누적합: cumsum()\n",
    "a = np.arange(12).reshape(3, 4)\n",
    "print(a)\n",
    "\n",
    "print(a.sum()) # 모든 원소에 대한 합, np.sum(a)\n",
    "print(a.sum(axis=0)) # 각 열의 합\n",
    "print(a.sum(axis=1)) # 각 행의 합\n",
    "print(a.cumsum(axis=1)) # 각 행의 누적합"
   ]
  },
  {
   "cell_type": "markdown",
   "id": "e6b8bbb2",
   "metadata": {},
   "source": [
    "numpy.mean()\n",
    "- 축을 따라 산술 평균을 계산"
   ]
  },
  {
   "cell_type": "code",
   "execution_count": 50,
   "id": "b34dc33d",
   "metadata": {},
   "outputs": [
    {
     "name": "stdout",
     "output_type": "stream",
     "text": [
      "[[0 1 2]\n",
      " [3 4 5]\n",
      " [6 7 8]]\n",
      "[3. 4. 5.]\n",
      "4.0\n"
     ]
    }
   ],
   "source": [
    "a = np.arange(9).reshape(3, 3)\n",
    "print(a)\n",
    "\n",
    "print(np.mean(a, axis=0))\n",
    "print(np.mean(a))"
   ]
  },
  {
   "cell_type": "markdown",
   "id": "4c5b3f42",
   "metadata": {},
   "source": [
    "np.average()\n",
    "- 주어진 축에 따라 가중평균을 계산\n",
    "- avg = sum(a * weight) / sum(weight)\n",
    " \n"
   ]
  },
  {
   "cell_type": "code",
   "execution_count": 51,
   "id": "9702ee7c",
   "metadata": {},
   "outputs": [
    {
     "name": "stdout",
     "output_type": "stream",
     "text": [
      "[[0 1]\n",
      " [2 3]\n",
      " [4 5]]\n"
     ]
    },
    {
     "data": {
      "text/plain": [
       "array([0.75, 2.75, 4.75])"
      ]
     },
     "execution_count": 51,
     "metadata": {},
     "output_type": "execute_result"
    }
   ],
   "source": [
    "a = np.arange(6).reshape(3, 2)\n",
    "print(a)\n",
    "\n",
    "# 0.75 = (0 * 1/4 + 1 * 3/4) / (1/4 + 3/4)\n",
    "np.average(a, axis=1, weights=[1/4, 3/4])"
   ]
  },
  {
   "cell_type": "markdown",
   "id": "6a6edcf9",
   "metadata": {},
   "source": [
    "numpy.amin() / numpy.min(), numpy.amax() / numpy.max()\n",
    "- 축을 따른 배열의 최소/최대값"
   ]
  },
  {
   "cell_type": "code",
   "execution_count": 52,
   "id": "d8127549",
   "metadata": {},
   "outputs": [
    {
     "name": "stdout",
     "output_type": "stream",
     "text": [
      "[[1 2 3]\n",
      " [4 5 6]\n",
      " [7 8 9]]\n",
      "[1 2 3]\n",
      "9\n"
     ]
    }
   ],
   "source": [
    "a = np.arange(1, 10).reshape(3, 3)\n",
    "print(a)\n",
    "\n",
    "print(np.amin(a, axis=0))\n",
    "print(np.max(a))"
   ]
  },
  {
   "cell_type": "markdown",
   "id": "e32c4bab",
   "metadata": {},
   "source": [
    "numpy.median()\n",
    "- 축을 따른 배열의 중앙값"
   ]
  },
  {
   "cell_type": "code",
   "execution_count": 53,
   "id": "72a6cf52",
   "metadata": {},
   "outputs": [
    {
     "name": "stdout",
     "output_type": "stream",
     "text": [
      "[[1 2 3]\n",
      " [4 5 6]\n",
      " [7 8 9]]\n",
      "[4. 5. 6.]\n",
      "5.0\n"
     ]
    }
   ],
   "source": [
    "a = np.arange(1, 10).reshape(3, 3)\n",
    "print(a)\n",
    "\n",
    "print(np.median(a, axis=0))\n",
    "print(np.median(a))"
   ]
  },
  {
   "cell_type": "markdown",
   "id": "82d3fd95",
   "metadata": {},
   "source": [
    "nupmy.var(), numpy.std()\n",
    "- 축을 따른 배열의 분산, 표준편차 계산"
   ]
  },
  {
   "cell_type": "code",
   "execution_count": 54,
   "id": "0b5145f7",
   "metadata": {},
   "outputs": [
    {
     "name": "stdout",
     "output_type": "stream",
     "text": [
      "[6. 6. 6.]\n",
      "6.666666666666667\n",
      "2.581988897471611\n",
      "2.58\n",
      "2.58\n"
     ]
    }
   ],
   "source": [
    "print(np.var(a, 0))\n",
    "print(np.var(a))\n",
    "\n",
    "print(np.std(a))\n",
    "print(f'{np.std(a):.2f}') # 문자\n",
    "print(np.round(np.std(a), 2)) # 숫자"
   ]
  },
  {
   "cell_type": "markdown",
   "id": "aa30630e",
   "metadata": {},
   "source": [
    "numpy.maximum()\n",
    "- 두 개의 배열을 가져와 요소별 최댓값 계산\n",
    "- broadcasting 될 수 있다."
   ]
  },
  {
   "cell_type": "code",
   "execution_count": 55,
   "id": "ed1111bc",
   "metadata": {},
   "outputs": [
    {
     "name": "stdout",
     "output_type": "stream",
     "text": [
      "[4 6 9]\n"
     ]
    }
   ],
   "source": [
    "a = np.array([3, 6, 1])\n",
    "b = np.array([4, 2, 9])\n",
    "\n",
    "print(np.maximum(a, b))"
   ]
  },
  {
   "cell_type": "markdown",
   "id": "24c78c59",
   "metadata": {},
   "source": [
    "## 최소값, 최대값 아규먼트 위치\n",
    "- numpy.argmax(): 제일 큰 값 위치 정보\n",
    "- numpy.argmin(): 제일 작은 값 위치 정보\n",
    "- numpy.where(조건): 조건에 맞는 값 위치 정보\n",
    "- numpy.where(조건, 조건에 맞을 때 값, 조건과 다를 때 값): 조건 결과에 따른 원소 값 변경"
   ]
  },
  {
   "cell_type": "code",
   "execution_count": 56,
   "id": "e7fbba0f",
   "metadata": {},
   "outputs": [
    {
     "name": "stdout",
     "output_type": "stream",
     "text": [
      "[5 6 7 8 1 9 3 4]\n",
      "5\n",
      "4\n"
     ]
    }
   ],
   "source": [
    "a = np.array([5, 6, 7, 8, 1, 9, 3, 4])\n",
    "print(a)\n",
    "\n",
    "# 가장 큰 값의 위치 정보\n",
    "print(np.argmax(a))\n",
    "# 가장 작은 값의 위치 정보\n",
    "print(np.argmin(a))"
   ]
  },
  {
   "cell_type": "code",
   "execution_count": 57,
   "id": "65863c28",
   "metadata": {},
   "outputs": [
    {
     "name": "stdout",
     "output_type": "stream",
     "text": [
      "(array([1, 2, 3, 5], dtype=int64),)\n",
      "[-1  1  1  1 -1  1 -1 -1]\n",
      "[0 6 7 8 0 9 0 0]\n"
     ]
    }
   ],
   "source": [
    "# 5를 초과하는 위치 정보\n",
    "print(np.where(a > 5))\n",
    "# 5를 초과하는 위치는 1, 아니면 -1\n",
    "print(np.where(a > 5, 1, -1))\n",
    "# 5를 초과하는 값은 원래 원소의 값, 아니면 0\n",
    "print(np.where(a > 5, a, 0))"
   ]
  },
  {
   "cell_type": "markdown",
   "id": "1b7bdb17",
   "metadata": {},
   "source": [
    "## 비교연산\n",
    "- ==, !=, >=, <=, >, <"
   ]
  },
  {
   "cell_type": "code",
   "execution_count": 6,
   "id": "c1e6e68a",
   "metadata": {},
   "outputs": [
    {
     "name": "stdout",
     "output_type": "stream",
     "text": [
      "[ True  True  True]\n",
      "[False  True False]\n"
     ]
    }
   ],
   "source": [
    "a = np.array([1, 2, 3])\n",
    "b = np.array([1, 2 ,3])\n",
    "c = np.array([3, 2, 5])\n",
    "\n",
    "# 원소별로 비교\n",
    "print(a == b)\n",
    "print(a == c)"
   ]
  },
  {
   "cell_type": "code",
   "execution_count": 5,
   "id": "49331215",
   "metadata": {},
   "outputs": [
    {
     "name": "stdout",
     "output_type": "stream",
     "text": [
      "[[1 2 3]\n",
      " [4 5 6]\n",
      " [7 8 9]]\n",
      "[[False  True False]\n",
      " [ True False  True]\n",
      " [False  True False]]\n",
      "[2 4 6 8]\n"
     ]
    }
   ],
   "source": [
    "a = np.arange(1, 10).reshape(3, 3)\n",
    "print(a)\n",
    "\n",
    "result = a % 2 == 0\n",
    "print(result)\n",
    "print(a[result])"
   ]
  },
  {
   "cell_type": "markdown",
   "id": "4ee04c1e",
   "metadata": {},
   "source": [
    "numpy.all(), numpy.any()\n",
    "- all(): 전체 요소가 같아야 하나의 True값을 반환\n",
    "- any(): 전체 요소중 하나만 같아도 True값을 반환"
   ]
  },
  {
   "cell_type": "code",
   "execution_count": 4,
   "id": "71228159",
   "metadata": {},
   "outputs": [
    {
     "name": "stdout",
     "output_type": "stream",
     "text": [
      "True\n",
      "False\n",
      "True\n"
     ]
    }
   ],
   "source": [
    "a = np.array([1, 2, 3])\n",
    "b = np.array([1, 2 ,3])\n",
    "c = np.array([3, 2, 5])\n",
    "\n",
    "print(np.all(a == b))\n",
    "print(np.all(a == c))\n",
    "\n",
    "print(np.any(a == c))"
   ]
  },
  {
   "cell_type": "markdown",
   "id": "9953f448",
   "metadata": {},
   "source": [
    "## 논리 연산\n",
    "- numpy.logical_and(), numpy.logical_or(), numpy.logical_not(), numpy.logical_xor()"
   ]
  },
  {
   "cell_type": "code",
   "execution_count": 3,
   "id": "c82519c7",
   "metadata": {},
   "outputs": [
    {
     "name": "stdout",
     "output_type": "stream",
     "text": [
      "[[ 1  2  3  4  5]\n",
      " [ 6  7  8  9 10]]\n",
      "------------------------------\n",
      "y행렬: 짝수면 True, 홀수면 False\n",
      "[[False  True False  True False]\n",
      " [ True False  True False  True]]\n",
      "------------------------------\n",
      "z행렬: 4이상이면 True, 미만이면 False\n",
      "[[False False False  True  True]\n",
      " [ True  True  True  True  True]]\n",
      "------------------------------\n",
      "y and z 행렬\n",
      "[[False False False  True False]\n",
      " [ True False  True False  True]]\n",
      "y and z 행렬의 총합\n",
      "4\n",
      "28\n"
     ]
    }
   ],
   "source": [
    "x = np.arange(1, 11).reshape(2, 5)\n",
    "print(x)\n",
    "print('-' * 30)\n",
    "\n",
    "y = x % 2 == 0\n",
    "print('y행렬: 짝수면 True, 홀수면 False')\n",
    "print(y)\n",
    "print('-' * 30)\n",
    "\n",
    "z = x >= 4\n",
    "print('z행렬: 4이상이면 True, 미만이면 False')\n",
    "print(z)\n",
    "print('-' * 30)\n",
    "\n",
    "print('y and z 행렬')\n",
    "print(np.logical_and(y, z)) # 4이상이면서 짝수\n",
    "print('y and z 행렬의 총합')\n",
    "print(np.sum(np.logical_and(y, z))) # True(1)의 갯수의 합 : 4개\n",
    "print(np.sum(x[np.logical_and(y, z)]))"
   ]
  },
  {
   "cell_type": "markdown",
   "id": "9a8dad8b",
   "metadata": {},
   "source": [
    "## 정렬"
   ]
  },
  {
   "cell_type": "code",
   "execution_count": 68,
   "id": "b65d4e5e",
   "metadata": {},
   "outputs": [
    {
     "name": "stdout",
     "output_type": "stream",
     "text": [
      "[10 37 16  1 29 26 30 49 30  9]\n"
     ]
    }
   ],
   "source": [
    "import numpy as np\n",
    "\n",
    "np.random.seed(10) # seed(): 랜던값 고정\n",
    "data = np.random.randint(1, 50, 10)\n",
    "print(data)"
   ]
  },
  {
   "cell_type": "markdown",
   "id": "27acbe7b",
   "metadata": {},
   "source": [
    "- numpy.sort(): 데이터를 오름차순으로 정렬한다.\n",
    "- 내림차순으로 정렬하는 별도의 옵션은 없다."
   ]
  },
  {
   "cell_type": "code",
   "execution_count": 16,
   "id": "aae9b913",
   "metadata": {},
   "outputs": [
    {
     "data": {
      "text/plain": [
       "array([ 1,  9, 10, 16, 26, 29, 30, 30, 37, 49])"
      ]
     },
     "execution_count": 16,
     "metadata": {},
     "output_type": "execute_result"
    }
   ],
   "source": [
    "np.sort(data)"
   ]
  },
  {
   "cell_type": "code",
   "execution_count": 31,
   "id": "03f5fa65",
   "metadata": {},
   "outputs": [
    {
     "data": {
      "text/plain": [
       "array([49, 37, 30, 30, 29, 26, 16, 10,  9,  1])"
      ]
     },
     "execution_count": 31,
     "metadata": {},
     "output_type": "execute_result"
    }
   ],
   "source": [
    "np.sort(data)[::-1]"
   ]
  },
  {
   "cell_type": "markdown",
   "id": "1eab4f6f",
   "metadata": {},
   "source": [
    "- numpy.argsort(): 오름차순으로 정렬한 데이터의 정렬 전 인덱스 값을 반환"
   ]
  },
  {
   "cell_type": "code",
   "execution_count": 69,
   "id": "f678879b",
   "metadata": {},
   "outputs": [
    {
     "data": {
      "text/plain": [
       "array([3, 9, 0, 2, 5, 4, 6, 8, 1, 7], dtype=int64)"
      ]
     },
     "execution_count": 69,
     "metadata": {},
     "output_type": "execute_result"
    }
   ],
   "source": [
    "np.argsort(data) #  정렬 전 인덱스 값\n",
    "# [10 37 16  1 29 26 30 49 30  9]"
   ]
  },
  {
   "cell_type": "code",
   "execution_count": 71,
   "id": "8b9dc45d",
   "metadata": {},
   "outputs": [
    {
     "name": "stdout",
     "output_type": "stream",
     "text": [
      "[ 1  9 10 16 26 29 30 30 37 49]\n"
     ]
    }
   ],
   "source": [
    "# argsort()를 이용한 정렬\n",
    "idx = np.argsort(data)\n",
    "print(data[idx])"
   ]
  },
  {
   "cell_type": "markdown",
   "id": "cbd57664",
   "metadata": {},
   "source": [
    "## [문제] 학생 이름과 점수 데이터를 이용하여 성적이 우수한 학생 순서로 이름을 출력하시오."
   ]
  },
  {
   "cell_type": "code",
   "execution_count": 100,
   "id": "cb102135",
   "metadata": {},
   "outputs": [
    {
     "name": "stdout",
     "output_type": "stream",
     "text": [
      "['저팔계' '삼장법사' '사오정' '홍길동' '전우치']\n"
     ]
    }
   ],
   "source": [
    "name = ['홍길동', '저팔계', '사오정', '전우치', '삼장법사']\n",
    "score = [75, 100, 95, 56, 99]\n",
    "\n",
    "name = np.array(name)\n",
    "score = np.array(score)\n",
    "sorted_index = np.argsort(score)[::-1]\n",
    "                               \n",
    "print(name[sorted_index])"
   ]
  },
  {
   "cell_type": "markdown",
   "id": "f7886302",
   "metadata": {},
   "source": [
    "# 행렬연산"
   ]
  },
  {
   "cell_type": "markdown",
   "id": "47e33c87",
   "metadata": {},
   "source": [
    "## * 연산자\n",
    "- 형태(shape)가 동일한 두 행렬을 원소끼리(element-wise) 곱하는 연산자\n",
    "- shape이 다르면 오류 발생\n",
    "- **교환법칙이 성립**된다."
   ]
  },
  {
   "cell_type": "code",
   "execution_count": 99,
   "id": "bad712f7",
   "metadata": {},
   "outputs": [
    {
     "name": "stdout",
     "output_type": "stream",
     "text": [
      "[[2 0]\n",
      " [0 4]]\n",
      "[[2 0]\n",
      " [0 4]]\n"
     ]
    }
   ],
   "source": [
    "import numpy as np\n",
    "\n",
    "A = np.array([[1, 1],\n",
    "              [0,1]])\n",
    "B = np.array([[2, 0],\n",
    "              [3, 4]])\n",
    "\n",
    "print(A * B)\n",
    "print(B * A) # 교환법칙 성립\n",
    "\n",
    "A = np.arange(6).reshape(2, 3)\n",
    "B = np.arange(6).reshape(3, 2)\n",
    "# print(A * b) # shape이 달라서 오류"
   ]
  },
  {
   "cell_type": "markdown",
   "id": "13507c85",
   "metadata": {},
   "source": [
    "## numpy.dot()\n",
    "- 두 벡터의 내적을 계산하는 함수\n",
    "    - 내적이란 벡터에서 서로 대응하는 성분끼리 곱한 다음 그것들을 모두 더한 것을 말하며, 내적의 결과는 스칼라(단일 값)가 된다.\n",
    "    - a·b 또는 <a,b>로 표현: a1*b1 + a2*b2 + ... + an*bn\n",
    "- 행렬곱에도 사용될 수 있다.\n",
    "- 행렬곱이 이뤄지기 위해서는 첫 번째 행렬의 열크기와 두 번째 행렬의 행의 크기가 같아야한다."
   ]
  },
  {
   "cell_type": "code",
   "execution_count": 109,
   "id": "793455d6",
   "metadata": {},
   "outputs": [
    {
     "name": "stdout",
     "output_type": "stream",
     "text": [
      "134\n"
     ]
    }
   ],
   "source": [
    "a = np.array([3, 4, 6, 8, 9])\n",
    "b = np.array([7, 3, 1, 4, 7])\n",
    "c = np.dot(a, b)\n",
    "print(c)"
   ]
  },
  {
   "cell_type": "code",
   "execution_count": 122,
   "id": "b04e2d32",
   "metadata": {},
   "outputs": [
    {
     "name": "stdout",
     "output_type": "stream",
     "text": [
      "[[1 1]\n",
      " [0 1]]\n",
      "[[2 0]\n",
      " [3 4]]\n",
      "------------------------------\n",
      "[[5 4]\n",
      " [3 4]]\n",
      "\n",
      "[[2 2]\n",
      " [3 7]]\n"
     ]
    }
   ],
   "source": [
    "a = np.array([[1, 1], [0, 1]])\n",
    "b = np.array([[2, 0], [3, 4]])\n",
    "print(a)\n",
    "print(b)\n",
    "print('-' * 30)\n",
    "\n",
    "print(np.dot(a,b)) # a.dot(b)와 동일\n",
    "print()\n",
    "print(np.dot(b, a)) # 교환 법칙이 성립되지 않는다."
   ]
  },
  {
   "cell_type": "markdown",
   "id": "2b668b9b",
   "metadata": {},
   "source": [
    "## numpy.matmul() / @ 연산자\n",
    "- numpy.dot()을 이용하여 행렬곱을 수행할 수 있지만, numpy공식 문서에서는 .matmul() 사용을 권장(3차원 이상의 행렬곱에서는 연산의 결과가 다름)"
   ]
  },
  {
   "cell_type": "code",
   "execution_count": 130,
   "id": "4e723fca",
   "metadata": {},
   "outputs": [
    {
     "name": "stdout",
     "output_type": "stream",
     "text": [
      "[[1 1]\n",
      " [0 1]]\n",
      "[[2 0]\n",
      " [3 4]]\n",
      "------------------------------\n",
      "[[5 4]\n",
      " [3 4]]\n",
      "[[5 4]\n",
      " [3 4]]\n"
     ]
    }
   ],
   "source": [
    "a = np.array([[1, 1], [0, 1]])\n",
    "b = np.array([[2, 0], [3, 4]]) \n",
    "print(a)\n",
    "print(b)\n",
    "print('-' * 30)\n",
    "\n",
    "print(np.matmul(a, b))\n",
    "print(a@b) # 파이썬 3.5 버전 부터 가능"
   ]
  },
  {
   "cell_type": "markdown",
   "id": "199efe85",
   "metadata": {},
   "source": [
    "## 전치(transpose)\n",
    "- 전치는 기존 행렬과 행과 열을 교환하는 것. 즉, 주대각선을 기준으로 반사 대칭하는 것을 말한다.\n",
    "- 배열 객체의 'T' 속성을 사용하거나 nupmy.transpose()함수 이용"
   ]
  },
  {
   "cell_type": "code",
   "execution_count": 131,
   "id": "946915c2",
   "metadata": {},
   "outputs": [
    {
     "name": "stdout",
     "output_type": "stream",
     "text": [
      "[[1 2]\n",
      " [3 4]]\n",
      "[[1 3]\n",
      " [2 4]]\n",
      "[[1 3]\n",
      " [2 4]]\n"
     ]
    }
   ],
   "source": [
    "a = np.array([[1, 2], [3, 4]])\n",
    "b = a.T\n",
    "c = np.transpose(a)\n",
    "print(a)\n",
    "print(b)\n",
    "print(c)"
   ]
  },
  {
   "cell_type": "markdown",
   "id": "d3396594",
   "metadata": {},
   "source": [
    "# 인덱싱, 슬라이싱"
   ]
  },
  {
   "cell_type": "markdown",
   "id": "01b6ecec",
   "metadata": {},
   "source": [
    "## 인덱싱"
   ]
  },
  {
   "cell_type": "code",
   "execution_count": 136,
   "id": "5ebcab30",
   "metadata": {},
   "outputs": [
    {
     "name": "stdout",
     "output_type": "stream",
     "text": [
      "[[ 1  2  3  4  5]\n",
      " [ 6  7  8  9 10]]\n",
      "1\n",
      "1\n"
     ]
    }
   ],
   "source": [
    "a = np.arange(1, 11).reshape(2, 5)\n",
    "print(a)\n",
    "print(a[0][0])\n",
    "print(a[0, 0]) # 파이썬 리스트는 이런식 X, numpy O"
   ]
  },
  {
   "cell_type": "code",
   "execution_count": 140,
   "id": "5bf6b74c",
   "metadata": {},
   "outputs": [
    {
     "name": "stdout",
     "output_type": "stream",
     "text": [
      "[  0   1   8  27  64 125 216 343 512 729]\n",
      "8\n",
      "[ 8 27 64]\n"
     ]
    }
   ],
   "source": [
    "a = np.arange(10)**3\n",
    "print(a)\n",
    "print(a[2])\n",
    "print(a[2:5])"
   ]
  },
  {
   "cell_type": "markdown",
   "id": "1a3f3902",
   "metadata": {},
   "source": [
    "### Boolean Indexing (masking)"
   ]
  },
  {
   "cell_type": "code",
   "execution_count": 160,
   "id": "144e6758",
   "metadata": {},
   "outputs": [
    {
     "name": "stdout",
     "output_type": "stream",
     "text": [
      "[[ 1  2  3  4  5  6]\n",
      " [ 7  8  9 10 11 12]\n",
      " [13 14 15 16 17 18]\n",
      " [19 20 21 22 23 24]]\n",
      "156\n"
     ]
    }
   ],
   "source": [
    "a = np.arange(1, 25).reshape(4, 6)\n",
    "print(a)\n",
    "\n",
    "# a 배열에서 요소의 값이 짝수인 요소들의 총 합은?\n",
    "print(np.sum(a[a % 2 == 0]))\n",
    "# print(sum(a[np.where(a % 2 == 0)]))"
   ]
  },
  {
   "cell_type": "markdown",
   "id": "778aa279",
   "metadata": {},
   "source": [
    "### Fancy Indexing\n",
    "- 배열의 각 요소 선택을 **인덱스 배열을 전달하여** 참조하는 방식\n",
    "- Fancy Indexing은 복사본이 생성된다."
   ]
  },
  {
   "cell_type": "code",
   "execution_count": 188,
   "id": "5ca3ce18",
   "metadata": {},
   "outputs": [
    {
     "name": "stdout",
     "output_type": "stream",
     "text": [
      "[[ 0  1  2]\n",
      " [ 3  4  5]\n",
      " [ 6  7  8]\n",
      " [ 9 10 11]\n",
      " [12 13 14]]\n",
      "------------------------------\n",
      "[[0 1 2]\n",
      " [6 7 8]]\n",
      "------------------------------\n",
      "[[ 0  2]\n",
      " [ 3  5]\n",
      " [ 6  8]\n",
      " [ 9 11]\n",
      " [12 14]]\n",
      "------------------------------\n",
      "[[3 4 5]\n",
      " [6 7 8]]\n",
      "------------------------------\n",
      "[[ 0  2]\n",
      " [ 6  8]\n",
      " [12 14]]\n"
     ]
    }
   ],
   "source": [
    "a = np.arange(15).reshape(5, 3)\n",
    "print(a)\n",
    "print('-' * 30)\n",
    "\n",
    "# 0행, 2행만 인덱싱\n",
    "print(a[[0, 2], :])\n",
    "print('-' * 30)\n",
    "\n",
    "# 전체 행에대해 0열 2열만 인덱싱\n",
    "print(a[:, [0, 2]])\n",
    "print('-' * 30)\n",
    "\n",
    "# 1행과 2열만 인덱싱\n",
    "print(a[[1, 2]])\n",
    "print('-' * 30)\n",
    "\n",
    "# 두 번 인덱싱\n",
    "# 0, 2, 4행에서 0, 2열 추출\n",
    "print(a[[0, 2, 4]][:, [0, 2]])"
   ]
  },
  {
   "cell_type": "code",
   "execution_count": 198,
   "id": "047127f1",
   "metadata": {},
   "outputs": [
    {
     "name": "stdout",
     "output_type": "stream",
     "text": [
      "[[ 0  1  2]\n",
      " [ 3  4  5]\n",
      " [ 6  7  8]\n",
      " [ 9 10 11]\n",
      " [12 13 14]]\n",
      "------------------------------\n",
      "[[ 0  2]\n",
      " [ 6  8]\n",
      " [12 14]]\n",
      "------------------------------\n",
      "[[100 100]\n",
      " [  6   8]\n",
      " [ 12  14]]\n",
      "------------------------------\n",
      "[[ 0  1  2]\n",
      " [ 3  4  5]\n",
      " [ 6  7  8]\n",
      " [ 9 10 11]\n",
      " [12 13 14]]\n"
     ]
    }
   ],
   "source": [
    "a = np.arange(15).reshape(5, 3)\n",
    "print(a)\n",
    "print('-' * 30)\n",
    "\n",
    "copied = a[[0, 2, 4]][:, [0, 2]]\n",
    "print(copied)\n",
    "print('-' * 30)\n",
    "\n",
    "copied[0, :] = 100 # 0행의 모든 열 값\n",
    "print(copied)\n",
    "print('-' * 30)\n",
    "\n",
    "print(a) # 원본 영향X"
   ]
  },
  {
   "cell_type": "markdown",
   "id": "f3b239b0",
   "metadata": {},
   "source": [
    "## 슬라이싱\n",
    "- a[행 슬라이스 시작:행 슬라이스 끝, 열 슬라이싱 시작:열 슬라이싱 끝]\n",
    "- numpy에서 슬라이싱은 동일한 메모리 영역의 뷰를 반환한다.\n",
    "- 즉, 뷰를 변경할 경우에는 원본 데이터의 원소도 변경된다."
   ]
  },
  {
   "cell_type": "code",
   "execution_count": 204,
   "id": "a66d1caa",
   "metadata": {},
   "outputs": [
    {
     "name": "stdout",
     "output_type": "stream",
     "text": [
      "[[ 1  2  3  4]\n",
      " [ 5  6  7  8]\n",
      " [ 9 10 11 12]]\n",
      "------------------------------\n",
      "[[1 2 3 4]\n",
      " [5 6 7 8]]\n",
      "------------------------------\n",
      "[[1 2 3 4]\n",
      " [5 6 7 8]]\n",
      "------------------------------\n",
      "[[1 2 3 4]\n",
      " [5 6 7 8]]\n"
     ]
    }
   ],
   "source": [
    "a = np.arange(1, 13).reshape(3, 4)\n",
    "print(a)\n",
    "print('-' * 30)\n",
    "\n",
    "print(a[0:2, 0:4])\n",
    "print('-' * 30)\n",
    "\n",
    "print(a[:2, :]) # 위와 동일\n",
    "print('-' * 30)\n",
    "\n",
    "print(a[:2]) # 위와 동일"
   ]
  },
  {
   "cell_type": "code",
   "execution_count": 215,
   "id": "74da6aad",
   "metadata": {},
   "outputs": [
    {
     "name": "stdout",
     "output_type": "stream",
     "text": [
      "[[ 9 10 11 15]]\n",
      "[[ 9 10 11 12]\n",
      " [ 5  6  7  8]\n",
      " [ 9 10 11 12]]\n"
     ]
    }
   ],
   "source": [
    "a_view = a[:1]\n",
    "print(a_view)\n",
    "\n",
    "a_view[0] = [9, 10, 11, 12]\n",
    "\n",
    "print(a) # 원본 데이터 변경"
   ]
  },
  {
   "cell_type": "markdown",
   "id": "66dcb53f",
   "metadata": {},
   "source": [
    "## [문제] 슬라이싱 실습"
   ]
  },
  {
   "cell_type": "code",
   "execution_count": 267,
   "id": "24d2d489",
   "metadata": {},
   "outputs": [
    {
     "name": "stdout",
     "output_type": "stream",
     "text": [
      "[[ 1  2  3  4  5  6]\n",
      " [ 7  8  9 10 11 12]\n",
      " [13 14 15 16 17 18]\n",
      " [19 20 21 22 23 24]]\n",
      "------------------------------\n",
      "[[ 9 10]\n",
      " [15 16]]\n",
      "------------------------------\n",
      "[[ 2  3]\n",
      " [ 8  9]\n",
      " [14 15]\n",
      " [20 21]]\n",
      "------------------------------\n",
      "[[7 8]]\n",
      "------------------------------\n",
      "[[ 6]\n",
      " [12]\n",
      " [18]\n",
      " [24]]\n"
     ]
    }
   ],
   "source": [
    "origin = np.arange(1, 25).reshape(4, 6)\n",
    "print(origin)\n",
    "print('-' * 30)\n",
    "\n",
    "# (1) 가운데 요소 가져오기\n",
    "print(origin[1:3, 2:4])\n",
    "print('-' * 30)\n",
    "\n",
    "# (2) 전체 행, 1,2열\n",
    "print(origin[:, 1:3])\n",
    "print('-' * 30)\n",
    "\n",
    "# (3) 1행 0,1열\n",
    "print(origin[1:2, :2])\n",
    "print('-' * 30)\n",
    "\n",
    "# (4) 각 행의 마지막 열 데이터만 추출하여 2차원 열 벡터로 변경\n",
    "print(origin[:, -1].reshape(-1,1))"
   ]
  },
  {
   "cell_type": "markdown",
   "id": "976b60e3",
   "metadata": {},
   "source": [
    "## 인덱싱 & 슬라이싱 그리고 차원\n",
    "- 정수 인덱싱과 슬라이싱을 혼합해서 사용하면 낮은 차원의 배열이 생성된다.\n",
    "- 슬라이싱만 사용하면 원본 배열과 동일한 차원의 배열이 생성된다."
   ]
  },
  {
   "cell_type": "code",
   "execution_count": 280,
   "id": "2a3c524c",
   "metadata": {},
   "outputs": [
    {
     "name": "stdout",
     "output_type": "stream",
     "text": [
      "[[ 1  2  3  4]\n",
      " [ 5  6  7  8]\n",
      " [ 9 10 11 12]] (3, 4) 2\n",
      "------------------------------\n",
      "슬라이싱만 사용\n",
      "[[1 2 3 4]] (1, 4) 2\n",
      "------------------------------\n",
      "인덱싱만 사용\n",
      "[1 2 3 4] (4,) 1\n",
      "------------------------------\n",
      "인덱싱 & 슬라이싱 혼합 사용\n",
      "[1 2 3 4] (4,) 1\n"
     ]
    }
   ],
   "source": [
    "a = np.arange(1, 13).reshape(3, 4)\n",
    "print(a, a.shape, a.ndim)\n",
    "print('-' * 30)\n",
    "\n",
    "print('슬라이싱만 사용')\n",
    "slicedRow = a[:1, :]\n",
    "print(slicedRow, slicedRow.shape, slicedRow.ndim)\n",
    "print('-' * 30)\n",
    "\n",
    "print('인덱싱만 사용')\n",
    "indexedRow = a[0]\n",
    "print(indexedRow, indexedRow.shape, indexedRow.ndim)\n",
    "print('-' * 30)\n",
    "\n",
    "print('인덱싱 & 슬라이싱 혼합 사용')\n",
    "mixedRow = a[0, :]\n",
    "print(mixedRow, mixedRow.shape, mixedRow.ndim)"
   ]
  },
  {
   "attachments": {
    "image.png": {
     "image/png": "[encoded data removed]"
    }
   },
   "cell_type": "markdown",
   "id": "a03b36a3",
   "metadata": {},
   "source": [
    "# Broadcasting\n",
    "- shape이 다른 numpy배열이 연산을 하려고 할 때 특정 조건이 만족되면 자동으로 연산이 가능한 형태로 변환하는 것\n",
    "- numpy에서 vector나 matrix간에 사칙연산을 하면 같은 위치의 원소끼리 계산이 이뤄지며,<br> 이렇게 되려면 vector나 matrix가 형태가 같아야 하는데,\n",
    "이때 shape이 맞춰지는 것을 broadcasting이라고 한다.\n",
    "![image.png](attachment:image.png)"
   ]
  },
  {
   "cell_type": "code",
   "execution_count": 285,
   "id": "2fbc48df",
   "metadata": {},
   "outputs": [
    {
     "name": "stdout",
     "output_type": "stream",
     "text": [
      "[16 26 36 46]\n",
      "------------------------------\n",
      "[1, 2, 3, 1, 2, 3]\n",
      "[ 40  60  80 100]\n"
     ]
    }
   ],
   "source": [
    "a = np.array([20, 30, 40, 50])\n",
    "b = np.array(4)\n",
    "\n",
    "print(a-b) # 각 요소마다 -연산\n",
    "print('-' * 30)\n",
    "\n",
    "print([1, 2, 3] * 2) # 파이썬 list 곱\n",
    "print(a * 2) # array 각 요소 곱"
   ]
  },
  {
   "cell_type": "markdown",
   "id": "9179a021",
   "metadata": {},
   "source": [
    "# random 모듈을 이용한 배열의 생성"
   ]
  },
  {
   "cell_type": "code",
   "execution_count": 316,
   "id": "68a088fa",
   "metadata": {},
   "outputs": [],
   "source": [
    "import numpy as np\n",
    "import matplotlib.pyplot as plt"
   ]
  },
  {
   "cell_type": "markdown",
   "id": "a14449dd",
   "metadata": {},
   "source": [
    "## np.random.rand()\n",
    "- 0이상 1미만의 임의의 균등 분포를 갖는 실수를 만든다.\n",
    "- shape을 전달하면 그 크기에 맞는 다차원 배열을 생성한다."
   ]
  },
  {
   "cell_type": "code",
   "execution_count": 315,
   "id": "67cbe973",
   "metadata": {},
   "outputs": [
    {
     "name": "stdout",
     "output_type": "stream",
     "text": [
      "0.9568533263731646\n",
      "[0.48655367 0.10593306 0.34003729]\n",
      "[[0.83557079 0.46544163 0.09285611 0.85469414]\n",
      " [0.33725819 0.60614675 0.1126646  0.54392045]\n",
      " [0.72079858 0.86581537 0.14670112 0.10338107]]\n"
     ]
    }
   ],
   "source": [
    "a = np.random.rand() # 난수 1개 발생\n",
    "print(a)\n",
    "\n",
    "b = np.random.rand(3) # 1차원 배열 생성\n",
    "print(b)\n",
    "\n",
    "c = np.random.rand(3, 4) # 3x4 2차원 배열 생성\n",
    "print(c)"
   ]
  },
  {
   "cell_type": "code",
   "execution_count": 323,
   "id": "accbb9ce",
   "metadata": {},
   "outputs": [
    {
     "data": {
      "image/png": "[encoded data removed]",
      "text/plain": [
       "<Figure size 640x480 with 1 Axes>"
      ]
     },
     "metadata": {},
     "output_type": "display_data"
    }
   ],
   "source": [
    "# 균등분포 그래프 확인\n",
    "\n",
    "a = np.random.rand(1000)\n",
    "b = np.random.rand(10000)\n",
    "c = np.random.rand(100000)\n",
    "\n",
    "plt.hist(a, bins=100, density=True, alpha=0.5, histtype='step', label='n=1000') # bins: 100개의 구간으로 나눔\n",
    "plt.hist(b, bins=100, density=True, alpha=0.75, histtype='step', label='n=10000') # alpha: 투명도\n",
    "plt.hist(c, bins=100, density=True, alpha=1, histtype='step', label='n=100000')  # histtype: 그래프 모양?\n",
    "\n",
    "plt.legend()\n",
    "plt.show()"
   ]
  },
  {
   "cell_type": "markdown",
   "id": "fe2e11d1",
   "metadata": {},
   "source": [
    "## np.random.randint()\n",
    "- np.random.randint(이상, 미만, 사이즈)\n",
    "- 주어진 범위의 임의의 균등분포 정수를 만든다."
   ]
  },
  {
   "cell_type": "code",
   "execution_count": 441,
   "id": "03163c9f",
   "metadata": {},
   "outputs": [
    {
     "name": "stdout",
     "output_type": "stream",
     "text": [
      "2\n",
      "[2 2 2 0 1 2 0 0 1 1]\n",
      "3\n",
      "[[11 22  6 ... 19 77 33]\n",
      " [ 4 39 67 ... 15 71 48]\n",
      " [28 83 27 ...  0 37 72]\n",
      " ...\n",
      " [ 8 47 89 ... 60 70 52]\n",
      " [ 4 93 94 ... 96 11 42]\n",
      " [61 17 17 ... 50 81 91]]\n"
     ]
    }
   ],
   "source": [
    "# 파이썬의 random은 0이상 3이하 임의의 정수,\n",
    "# 0이상 3미만의 임의의 정수 1개 생성\n",
    "a = np.random.randint(3)\n",
    "print(a)\n",
    "\n",
    "# 0이상 3미만의 임의의 정수 10개 생성\n",
    "b = np.random.randint(3, size=10)\n",
    "print(b)\n",
    "\n",
    "# 2이상 5미만의 임의의 정수 1개 생성\n",
    "c = np.random.randint(2, 5)\n",
    "print(c)\n",
    "\n",
    "# 0이상 100미만의 임의의 정수를 100x100 2차원 배열로 생성\n",
    "d = np.random.randint(0, 100, (100, 100))\n",
    "print(d)"
   ]
  },
  {
   "cell_type": "markdown",
   "id": "5cadac5a",
   "metadata": {},
   "source": [
    "## np.random.randn()\n",
    "- 표준정규분포(표준편차는 1, 평균은 0으로 이루어진 데이터)로부터 샘플링된 난수를 발생"
   ]
  },
  {
   "cell_type": "code",
   "execution_count": 467,
   "id": "d81493f5",
   "metadata": {
    "scrolled": true
   },
   "outputs": [
    {
     "name": "stdout",
     "output_type": "stream",
     "text": [
      "0.5246459662366656\n",
      "[[ 1.37631119 -1.07850043  0.33876168 ...  0.76557509  0.37294337\n",
      "  -2.09033498]\n",
      " [-0.69498119 -0.4908467   0.24306606 ...  0.0924502   1.7438301\n",
      "   1.259851  ]\n",
      " [ 0.51488229  0.50550417 -1.9702981  ...  1.40327083 -0.12319397\n",
      "   1.68205913]\n",
      " ...\n",
      " [ 0.73944122  0.63890789 -2.92029969 ...  0.26026947  0.1512656\n",
      "  -0.22008451]\n",
      " [-0.44722592 -1.52131802  0.29570854 ... -1.02176455 -1.04389165\n",
      "   0.32944887]\n",
      " [ 0.22513616  1.47169244 -0.46251334 ...  2.055482    0.20043429\n",
      "  -0.3488411 ]]\n",
      "평균:  -0.008885554619605319\n",
      "표준편차:  0.9991879507733825\n"
     ]
    }
   ],
   "source": [
    "# 난수 1개 발생\n",
    "a = np.random.randn()\n",
    "print(a)\n",
    "\n",
    "# 2차원 배열로 생성\n",
    "b = np.random.randn(100, 100)\n",
    "print(b)\n",
    "print('평균: ', np.mean(b))\n",
    "print('표준편차: ', np.std(b))"
   ]
  },
  {
   "cell_type": "markdown",
   "id": "345e5b2f",
   "metadata": {},
   "source": [
    "## np.random.choice()\n",
    "- 주어진 1차원 행렬에서 랜덤으로 샘플링 한다.\n",
    "- replace=False: 중복 샘플링을 하지 않는다. (default: replace=True)"
   ]
  },
  {
   "cell_type": "code",
   "execution_count": 482,
   "id": "73f5fbae",
   "metadata": {},
   "outputs": [
    {
     "name": "stdout",
     "output_type": "stream",
     "text": [
      "[ 2 10  5]\n"
     ]
    }
   ],
   "source": [
    "data = np.array([4, 2, 5, 7, 2, 10, 5, 7, 2, 11])\n",
    "a = np.random.choice(data, size=(3, ), replace=False)\n",
    "print(a)"
   ]
  }
 ],
 "metadata": {
  "kernelspec": {
   "display_name": "Python 3 (ipykernel)",
   "language": "python",
   "name": "python3"
  },
  "language_info": {
   "codemirror_mode": {
    "name": "ipython",
    "version": 3
   },
   "file_extension": ".py",
   "mimetype": "text/x-python",
   "name": "python",
   "nbconvert_exporter": "python",
   "pygments_lexer": "ipython3",
   "version": "3.9.13"
  },
  "toc": {
   "base_numbering": 1,
   "nav_menu": {},
   "number_sections": true,
   "sideBar": true,
   "skip_h1_title": false,
   "title_cell": "Table of Contents",
   "title_sidebar": "Contents",
   "toc_cell": false,
   "toc_position": {
    "height": "533.6px",
    "left": "33px",
    "top": "110.525px",
    "width": "305.025px"
   },
   "toc_section_display": true,
   "toc_window_display": true
  }
 },
 "nbformat": 4,
 "nbformat_minor": 5
}
